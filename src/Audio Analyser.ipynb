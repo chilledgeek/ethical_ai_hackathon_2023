{
 "cells": [
  {
   "cell_type": "code",
   "execution_count": 1,
   "metadata": {},
   "outputs": [],
   "source": [
    "import os\n",
    "import sys\n",
    "import pickle\n",
    "import time\n",
    "import librosa\n",
    "import torch\n",
    "import numpy as np\n",
    "import pandas as pd\n",
    "import scipy\n",
    "from tqdm import tqdm\n",
    "\n",
    "sys.path.append(\"./utils/\")\n",
    "import laugh_segmenter\n",
    "import models, configs\n",
    "import dataset_utils, audio_utils, data_loaders, torch_utils\n",
    "from torch import optim, nn\n",
    "from functools import partial\n",
    "from distutils.util import strtobool\n",
    "\n",
    "sample_rate = 8000\n",
    "\n",
    "def segment_laughter(\n",
    "    input_audio_file,\n",
    "    model_path=\"checkpoints/in_use/resnet_with_augmentation\",\n",
    "    config=\"resnet_with_augmentation\",\n",
    "    threshold=0.5,\n",
    "    min_length=0.2,\n",
    "):\n",
    "    device = torch.device(\"cpu\")\n",
    "    print(f\"Using device {device}\")\n",
    "\n",
    "    ##### Load the Model\n",
    "    config_data = configs.CONFIG_MAP[config]\n",
    "    model = config_data[\"model\"](\n",
    "        dropout_rate=0.0,\n",
    "        linear_layer_size=config_data[\"linear_layer_size\"],\n",
    "        filter_sizes=config_data[\"filter_sizes\"],\n",
    "    )\n",
    "    feature_fn = config_data[\"feature_fn\"]\n",
    "    model.set_device(device)\n",
    "\n",
    "    if os.path.exists(model_path):\n",
    "        torch_utils.load_checkpoint(model_path + \"/best.pth.tar\", model)\n",
    "        model.eval()\n",
    "    else:\n",
    "        raise Exception(f\"Model checkpoint not found at {model_path}\")\n",
    "\n",
    "    ##### Load the audio file and features\n",
    "    inference_dataset = data_loaders.SwitchBoardLaughterInferenceDataset(\n",
    "        audio_path=input_audio_file, feature_fn=feature_fn, sr=sample_rate\n",
    "    )\n",
    "\n",
    "    collate_fn = partial(\n",
    "        audio_utils.pad_sequences_with_labels,\n",
    "        expand_channel_dim=config_data[\"expand_channel_dim\"],\n",
    "    )\n",
    "\n",
    "    inference_generator = torch.utils.data.DataLoader(\n",
    "        inference_dataset,\n",
    "        num_workers=4,\n",
    "        batch_size=8,\n",
    "        shuffle=False,\n",
    "        collate_fn=collate_fn,\n",
    "    )\n",
    "\n",
    "    ##### Make Predictions\n",
    "    probs = []\n",
    "    for model_inputs, _ in tqdm(inference_generator):\n",
    "        x = torch.from_numpy(model_inputs).float().to(device)\n",
    "        preds = model(x).cpu().detach().numpy().squeeze()\n",
    "        if len(preds.shape) == 0:\n",
    "            preds = [float(preds)]\n",
    "        else:\n",
    "            preds = list(preds)\n",
    "        probs += preds\n",
    "    probs = np.array(probs)\n",
    "\n",
    "    file_length = audio_utils.get_audio_length(input_audio_file)\n",
    "\n",
    "    fps = len(probs) / float(file_length)\n",
    "\n",
    "    probs = laugh_segmenter.lowpass(probs)\n",
    "    instances = laugh_segmenter.get_laughter_instances(\n",
    "        probs, threshold=threshold, min_length=min_length, fps=fps\n",
    "    )\n",
    "\n",
    "    results = []\n",
    "\n",
    "    if len(instances) > 0:\n",
    "        full_res_y, full_res_sr = librosa.load(input_audio_file, sr=44100)\n",
    "        wav_paths = []\n",
    "        maxv = np.iinfo(np.int16).max\n",
    "\n",
    "        base_name = os.path.splitext(os.path.basename(input_audio_file))[0]\n",
    "        \n",
    "        for index, instance in enumerate(instances):\n",
    "            laughs = laugh_segmenter.cut_laughter_segments(\n",
    "                [instance], full_res_y, full_res_sr\n",
    "            )\n",
    "            results.append(\n",
    "                {\n",
    "                    \"start\": instance[0],\n",
    "                    \"end\": instance[1],\n",
    "                }\n",
    "            )\n",
    "\n",
    "    return results\n"
   ]
  },
  {
   "cell_type": "code",
   "execution_count": 2,
   "metadata": {},
   "outputs": [],
   "source": [
    "from google.oauth2.service_account import Credentials\n",
    "from google.cloud import speech_v1p1beta1 as speech\n",
    "\n",
    "GOOGLE_KEY_PATH = '/Users/ernest.chow/Downloads/what-eat-391801-fd884f1ac9ea.json'\n",
    "\n",
    "def transcribe_text(filepath, key_path=GOOGLE_KEY_PATH):\n",
    "\n",
    "    # Create a credentials object\n",
    "    creds = Credentials.from_service_account_file(key_path)\n",
    "    client = speech.SpeechClient(credentials=creds)\n",
    "\n",
    "    with open(filepath, \"rb\") as audio_file:\n",
    "        content = audio_file.read()\n",
    "\n",
    "    audio = speech.RecognitionAudio(content=content)\n",
    "    config = speech.RecognitionConfig(\n",
    "        #encoding=speech.RecognitionConfig.AudioEncoding.LINEAR16,\n",
    "        encoding=speech.RecognitionConfig.AudioEncoding.MP3,\n",
    "        sample_rate_hertz=16000,\n",
    "        language_code=\"en-US\",\n",
    "        use_enhanced=True,\n",
    "        # A model must be specified to use enhanced model.\n",
    "        model=\"video\",\n",
    "        enable_word_time_offsets=True,\n",
    "    )\n",
    "\n",
    "    response = client.recognize(config=config, audio=audio)\n",
    "\n",
    "    return response.results\n",
    "\n",
    "\n",
    "def run_analysis(video_files, file_dir):\n",
    "    results = dict()\n",
    "\n",
    "    for video_file in video_files:\n",
    "        file_prefix = video_file[:-4]\n",
    "        results[file_prefix] = {\"text\": []}\n",
    "        mp3_filename = f\"{file_dir}/{file_prefix}.mp4\"\n",
    "\n",
    "        raw_text_result = transcribe_text(mp3_filename)\n",
    "\n",
    "        for detected_phrase in raw_text_result:\n",
    "            text = detected_phrase.alternatives[0].transcript\n",
    "            if text:\n",
    "                confidence = detected_phrase.alternatives[0].confidence\n",
    "                phrase_begin_timing = str(detected_phrase.alternatives[0].words[0].start_time)\n",
    "                phrase_end_timing = str(detected_phrase.result_end_time)\n",
    "\n",
    "                results[file_prefix][\"text\"].append({\n",
    "                    \"phrase\": text,\n",
    "                    \"confidence\": confidence,\n",
    "                    \"phrase_begin_timing\": phrase_begin_timing,\n",
    "                    \"phrase_end_timing\": phrase_end_timing,\n",
    "                })\n",
    "\n",
    "        wav_filename = f\"{file_dir}/{file_prefix}.wav\"\n",
    "        results[file_prefix][\"laughs\"] = segment_laughter(wav_filename)\n",
    "\n",
    "    return results\n"
   ]
  },
  {
   "cell_type": "code",
   "execution_count": 3,
   "metadata": {},
   "outputs": [
    {
     "name": "stdout",
     "output_type": "stream",
     "text": [
      "joke1.1_5dcc826c-e70a-4c28-bd4e-dca0e9023fa8_1560890971288_431.mp4\n",
      "joke5.3_f4e620b4-8cf1-485a-961b-3a0828415ec5_1577919787295_189.mp4\n"
     ]
    }
   ],
   "source": [
    "import os\n",
    "\n",
    "\n",
    "FILE_DIR = \"../work_dir\"\n",
    "\n",
    "video_files = sorted([x for x in os.listdir(FILE_DIR) if x.endswith(\".mp4\")])\n",
    "\n",
    "for x in video_files:\n",
    "    print(x)\n"
   ]
  },
  {
   "cell_type": "code",
   "execution_count": 4,
   "metadata": {},
   "outputs": [
    {
     "name": "stdout",
     "output_type": "stream",
     "text": [
      "CPU times: user 2 µs, sys: 0 ns, total: 2 µs\n",
      "Wall time: 5.25 µs\n",
      "Using device cpu\n",
      "training with dropout=0.0\n",
      "Loading checkpoint at: checkpoints/in_use/resnet_with_augmentation/best.pth.tar\n",
      "Loading checkpoint at step:  60600\n"
     ]
    },
    {
     "name": "stderr",
     "output_type": "stream",
     "text": [
      "100%|███████████████████████████████████████████| 67/67 [00:39<00:00,  1.69it/s]\n"
     ]
    },
    {
     "name": "stdout",
     "output_type": "stream",
     "text": [
      "Using device cpu\n",
      "training with dropout=0.0\n",
      "Loading checkpoint at: checkpoints/in_use/resnet_with_augmentation/best.pth.tar\n",
      "Loading checkpoint at step:  60600\n"
     ]
    },
    {
     "name": "stderr",
     "output_type": "stream",
     "text": [
      "100%|███████████████████████████████████████████| 89/89 [00:53<00:00,  1.68it/s]\n"
     ]
    }
   ],
   "source": [
    "results = run_analysis(video_files, FILE_DIR)"
   ]
  },
  {
   "cell_type": "code",
   "execution_count": 5,
   "metadata": {},
   "outputs": [],
   "source": [
    "import json\n",
    "\n",
    "with open(f\"{FILE_DIR}/output.json\", \"w\") as f:\n",
    "    json.dump(results, f)"
   ]
  },
  {
   "cell_type": "markdown",
   "metadata": {},
   "source": [
    "Selling Points\n",
    "- Bargain! Cheap + quick to run (laptop power, roughly minutes)\n",
    "- Aids explainability (laugh associated with text)\n",
    "- Can already be implemented\n",
    "- Output design is modular!!! Can keep adding layers as we go"
   ]
  },
  {
   "cell_type": "code",
   "execution_count": null,
   "metadata": {},
   "outputs": [],
   "source": []
  }
 ],
 "metadata": {
  "kernelspec": {
   "display_name": "Python 3 (ipykernel)",
   "language": "python",
   "name": "python3"
  },
  "language_info": {
   "codemirror_mode": {
    "name": "ipython",
    "version": 3
   },
   "file_extension": ".py",
   "mimetype": "text/x-python",
   "name": "python",
   "nbconvert_exporter": "python",
   "pygments_lexer": "ipython3",
   "version": "3.11.5"
  }
 },
 "nbformat": 4,
 "nbformat_minor": 2
}

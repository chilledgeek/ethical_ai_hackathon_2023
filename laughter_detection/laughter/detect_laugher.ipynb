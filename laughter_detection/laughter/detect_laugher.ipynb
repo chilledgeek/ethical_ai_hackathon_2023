{
 "cells": [
  {
   "cell_type": "code",
   "execution_count": 1,
   "metadata": {},
   "outputs": [
    {
     "ename": "AttributeError",
     "evalue": "module 'numpy' has no attribute 'complex'.\n`np.complex` was a deprecated alias for the builtin `complex`. To avoid this error in existing code, use `complex` by itself. Doing this will not modify any behavior and is safe. If you specifically wanted the numpy scalar type, use `np.complex128` here.\nThe aliases was originally deprecated in NumPy 1.20; for more details and guidance see the original release note at:\n    https://numpy.org/devdocs/release/1.20.0-notes.html#deprecations",
     "output_type": "error",
     "traceback": [
      "\u001b[0;31m---------------------------------------------------------------------------\u001b[0m",
      "\u001b[0;31mAttributeError\u001b[0m                            Traceback (most recent call last)",
      "\u001b[1;32m/Users/saed.hussain/Dev/sageailabs/sage_hack/laughter-detection/laughter/detect_laugher.ipynb Cell 1\u001b[0m line \u001b[0;36m5\n\u001b[1;32m      <a href='vscode-notebook-cell:/Users/saed.hussain/Dev/sageailabs/sage_hack/laughter-detection/laughter/detect_laugher.ipynb#W0sZmlsZQ%3D%3D?line=2'>3</a>\u001b[0m \u001b[39mimport\u001b[39;00m \u001b[39mpickle\u001b[39;00m\n\u001b[1;32m      <a href='vscode-notebook-cell:/Users/saed.hussain/Dev/sageailabs/sage_hack/laughter-detection/laughter/detect_laugher.ipynb#W0sZmlsZQ%3D%3D?line=3'>4</a>\u001b[0m \u001b[39mimport\u001b[39;00m \u001b[39mtime\u001b[39;00m\n\u001b[0;32m----> <a href='vscode-notebook-cell:/Users/saed.hussain/Dev/sageailabs/sage_hack/laughter-detection/laughter/detect_laugher.ipynb#W0sZmlsZQ%3D%3D?line=4'>5</a>\u001b[0m \u001b[39mimport\u001b[39;00m \u001b[39mlibrosa\u001b[39;00m\n\u001b[1;32m      <a href='vscode-notebook-cell:/Users/saed.hussain/Dev/sageailabs/sage_hack/laughter-detection/laughter/detect_laugher.ipynb#W0sZmlsZQ%3D%3D?line=5'>6</a>\u001b[0m \u001b[39mimport\u001b[39;00m \u001b[39mtorch\u001b[39;00m\n\u001b[1;32m      <a href='vscode-notebook-cell:/Users/saed.hussain/Dev/sageailabs/sage_hack/laughter-detection/laughter/detect_laugher.ipynb#W0sZmlsZQ%3D%3D?line=6'>7</a>\u001b[0m \u001b[39mimport\u001b[39;00m \u001b[39mnumpy\u001b[39;00m \u001b[39mas\u001b[39;00m \u001b[39mnp\u001b[39;00m\n",
      "File \u001b[0;32m~/anaconda3/envs/py36/lib/python3.8/site-packages/librosa/__init__.py:211\u001b[0m\n\u001b[1;32m    209\u001b[0m \u001b[39m# And all the librosa sub-modules\u001b[39;00m\n\u001b[1;32m    210\u001b[0m \u001b[39mfrom\u001b[39;00m \u001b[39m.\u001b[39;00m\u001b[39m_cache\u001b[39;00m \u001b[39mimport\u001b[39;00m cache\n\u001b[0;32m--> 211\u001b[0m \u001b[39mfrom\u001b[39;00m \u001b[39m.\u001b[39;00m \u001b[39mimport\u001b[39;00m core\n\u001b[1;32m    212\u001b[0m \u001b[39mfrom\u001b[39;00m \u001b[39m.\u001b[39;00m \u001b[39mimport\u001b[39;00m beat\n\u001b[1;32m    213\u001b[0m \u001b[39mfrom\u001b[39;00m \u001b[39m.\u001b[39;00m \u001b[39mimport\u001b[39;00m decompose\n",
      "File \u001b[0;32m~/anaconda3/envs/py36/lib/python3.8/site-packages/librosa/core/__init__.py:9\u001b[0m\n\u001b[1;32m      7\u001b[0m \u001b[39mfrom\u001b[39;00m \u001b[39m.\u001b[39;00m\u001b[39mspectrum\u001b[39;00m \u001b[39mimport\u001b[39;00m \u001b[39m*\u001b[39m  \u001b[39m# pylint: disable=wildcard-import\u001b[39;00m\n\u001b[1;32m      8\u001b[0m \u001b[39mfrom\u001b[39;00m \u001b[39m.\u001b[39;00m\u001b[39mpitch\u001b[39;00m \u001b[39mimport\u001b[39;00m \u001b[39m*\u001b[39m  \u001b[39m# pylint: disable=wildcard-import\u001b[39;00m\n\u001b[0;32m----> 9\u001b[0m \u001b[39mfrom\u001b[39;00m \u001b[39m.\u001b[39;00m\u001b[39mconstantq\u001b[39;00m \u001b[39mimport\u001b[39;00m \u001b[39m*\u001b[39m  \u001b[39m# pylint: disable=wildcard-import\u001b[39;00m\n\u001b[1;32m     10\u001b[0m \u001b[39mfrom\u001b[39;00m \u001b[39m.\u001b[39;00m\u001b[39mharmonic\u001b[39;00m \u001b[39mimport\u001b[39;00m \u001b[39m*\u001b[39m  \u001b[39m# pylint: disable=wildcard-import\u001b[39;00m\n\u001b[1;32m     11\u001b[0m \u001b[39mfrom\u001b[39;00m \u001b[39m.\u001b[39;00m\u001b[39mfft\u001b[39;00m \u001b[39mimport\u001b[39;00m \u001b[39m*\u001b[39m  \u001b[39m# pylint: disable=wildcard-import\u001b[39;00m\n",
      "File \u001b[0;32m~/anaconda3/envs/py36/lib/python3.8/site-packages/librosa/core/constantq.py:1059\u001b[0m\n\u001b[1;32m   1042\u001b[0m         V \u001b[39m/\u001b[39m\u001b[39m=\u001b[39m np\u001b[39m.\u001b[39msqrt(lengths[:, np\u001b[39m.\u001b[39mnewaxis])\n\u001b[1;32m   1044\u001b[0m     \u001b[39mreturn\u001b[39;00m V\n\u001b[1;32m   1047\u001b[0m \u001b[39m@cache\u001b[39m(level\u001b[39m=\u001b[39m\u001b[39m10\u001b[39m)\n\u001b[1;32m   1048\u001b[0m \u001b[39mdef\u001b[39;00m \u001b[39m__cqt_filter_fft\u001b[39m(\n\u001b[1;32m   1049\u001b[0m     sr,\n\u001b[1;32m   1050\u001b[0m     fmin,\n\u001b[1;32m   1051\u001b[0m     n_bins,\n\u001b[1;32m   1052\u001b[0m     bins_per_octave,\n\u001b[1;32m   1053\u001b[0m     filter_scale,\n\u001b[1;32m   1054\u001b[0m     norm,\n\u001b[1;32m   1055\u001b[0m     sparsity,\n\u001b[1;32m   1056\u001b[0m     hop_length\u001b[39m=\u001b[39m\u001b[39mNone\u001b[39;00m,\n\u001b[1;32m   1057\u001b[0m     window\u001b[39m=\u001b[39m\u001b[39m\"\u001b[39m\u001b[39mhann\u001b[39m\u001b[39m\"\u001b[39m,\n\u001b[1;32m   1058\u001b[0m     gamma\u001b[39m=\u001b[39m\u001b[39m0.0\u001b[39m,\n\u001b[0;32m-> 1059\u001b[0m     dtype\u001b[39m=\u001b[39mnp\u001b[39m.\u001b[39;49mcomplex,\n\u001b[1;32m   1060\u001b[0m ):\n\u001b[1;32m   1061\u001b[0m \u001b[39m    \u001b[39m\u001b[39m\"\"\"Generate the frequency domain constant-Q filter basis.\"\"\"\u001b[39;00m\n\u001b[1;32m   1063\u001b[0m     basis, lengths \u001b[39m=\u001b[39m filters\u001b[39m.\u001b[39mconstant_q(\n\u001b[1;32m   1064\u001b[0m         sr,\n\u001b[1;32m   1065\u001b[0m         fmin\u001b[39m=\u001b[39mfmin,\n\u001b[0;32m   (...)\u001b[0m\n\u001b[1;32m   1072\u001b[0m         gamma\u001b[39m=\u001b[39mgamma,\n\u001b[1;32m   1073\u001b[0m     )\n",
      "File \u001b[0;32m~/anaconda3/envs/py36/lib/python3.8/site-packages/numpy/__init__.py:305\u001b[0m, in \u001b[0;36m__getattr__\u001b[0;34m(attr)\u001b[0m\n\u001b[1;32m    300\u001b[0m     warnings\u001b[39m.\u001b[39mwarn(\n\u001b[1;32m    301\u001b[0m         \u001b[39mf\u001b[39m\u001b[39m\"\u001b[39m\u001b[39mIn the future `np.\u001b[39m\u001b[39m{\u001b[39;00mattr\u001b[39m}\u001b[39;00m\u001b[39m` will be defined as the \u001b[39m\u001b[39m\"\u001b[39m\n\u001b[1;32m    302\u001b[0m         \u001b[39m\"\u001b[39m\u001b[39mcorresponding NumPy scalar.\u001b[39m\u001b[39m\"\u001b[39m, \u001b[39mFutureWarning\u001b[39;00m, stacklevel\u001b[39m=\u001b[39m\u001b[39m2\u001b[39m)\n\u001b[1;32m    304\u001b[0m \u001b[39mif\u001b[39;00m attr \u001b[39min\u001b[39;00m __former_attrs__:\n\u001b[0;32m--> 305\u001b[0m     \u001b[39mraise\u001b[39;00m \u001b[39mAttributeError\u001b[39;00m(__former_attrs__[attr])\n\u001b[1;32m    307\u001b[0m \u001b[39m# Importing Tester requires importing all of UnitTest which is not a\u001b[39;00m\n\u001b[1;32m    308\u001b[0m \u001b[39m# cheap import Since it is mainly used in test suits, we lazy import it\u001b[39;00m\n\u001b[1;32m    309\u001b[0m \u001b[39m# here to save on the order of 10 ms of import time for most users\u001b[39;00m\n\u001b[1;32m    310\u001b[0m \u001b[39m#\u001b[39;00m\n\u001b[1;32m    311\u001b[0m \u001b[39m# The previous way Tester was imported also had a side effect of adding\u001b[39;00m\n\u001b[1;32m    312\u001b[0m \u001b[39m# the full `numpy.testing` namespace\u001b[39;00m\n\u001b[1;32m    313\u001b[0m \u001b[39mif\u001b[39;00m attr \u001b[39m==\u001b[39m \u001b[39m'\u001b[39m\u001b[39mtesting\u001b[39m\u001b[39m'\u001b[39m:\n",
      "\u001b[0;31mAttributeError\u001b[0m: module 'numpy' has no attribute 'complex'.\n`np.complex` was a deprecated alias for the builtin `complex`. To avoid this error in existing code, use `complex` by itself. Doing this will not modify any behavior and is safe. If you specifically wanted the numpy scalar type, use `np.complex128` here.\nThe aliases was originally deprecated in NumPy 1.20; for more details and guidance see the original release note at:\n    https://numpy.org/devdocs/release/1.20.0-notes.html#deprecations"
     ]
    }
   ],
   "source": [
    "import os\n",
    "import sys\n",
    "import pickle\n",
    "import time\n",
    "import librosa\n",
    "import torch\n",
    "import numpy as np\n",
    "import pandas as pd\n",
    "import scipy\n",
    "from tqdm import tqdm\n",
    "\n",
    "#sys.path.append(\"./utils/\")\n",
    "import laugh_segmenter\n",
    "import models, configs\n",
    "\n",
    "from utils import dataset_utils, audio_utils, data_loaders, torch_utils\n",
    "from torch import optim, nn\n",
    "from functools import partial\n",
    "from distutils.util import strtobool\n",
    "\n",
    "sample_rate = 8000\n",
    "\n",
    "def segment_laughter(\n",
    "    input_audio_file,\n",
    "    model_path=\"checkpoints/in_use/resnet_with_augmentation\",\n",
    "    config=\"resnet_with_augmentation\",\n",
    "    threshold=0.5,\n",
    "    min_length=0.2,\n",
    "    output_dir=None\n",
    "):\n",
    "    device = torch.device(\"cpu\")\n",
    "    print(f\"Using device {device}\")\n",
    "\n",
    "    ##### Load the Model\n",
    "    config_data = configs.CONFIG_MAP[config]\n",
    "    model = config_data[\"model\"](\n",
    "        dropout_rate=0.0,\n",
    "        linear_layer_size=config_data[\"linear_layer_size\"],\n",
    "        filter_sizes=config_data[\"filter_sizes\"],\n",
    "    )\n",
    "    feature_fn = config_data[\"feature_fn\"]\n",
    "    model.set_device(device)\n",
    "\n",
    "    if os.path.exists(model_path):\n",
    "        torch_utils.load_checkpoint(model_path + \"/best.pth.tar\", model)\n",
    "        model.eval()\n",
    "    else:\n",
    "        raise Exception(f\"Model checkpoint not found at {model_path}\")\n",
    "\n",
    "    ##### Load the audio file and features\n",
    "    inference_dataset = data_loaders.SwitchBoardLaughterInferenceDataset(\n",
    "        audio_path=input_audio_file, feature_fn=feature_fn, sr=sample_rate\n",
    "    )\n",
    "\n",
    "    collate_fn = partial(\n",
    "        audio_utils.pad_sequences_with_labels,\n",
    "        expand_channel_dim=config_data[\"expand_channel_dim\"],\n",
    "    )\n",
    "\n",
    "    inference_generator = torch.utils.data.DataLoader(\n",
    "        inference_dataset,\n",
    "        num_workers=4,\n",
    "        batch_size=8,\n",
    "        shuffle=False,\n",
    "        collate_fn=collate_fn,\n",
    "    )\n",
    "\n",
    "    ##### Make Predictions\n",
    "    probs = []\n",
    "    for model_inputs, _ in tqdm(inference_generator):\n",
    "        x = torch.from_numpy(model_inputs).float().to(device)\n",
    "        preds = model(x).cpu().detach().numpy().squeeze()\n",
    "        if len(preds.shape) == 0:\n",
    "            preds = [float(preds)]\n",
    "        else:\n",
    "            preds = list(preds)\n",
    "        probs += preds\n",
    "    probs = np.array(probs)\n",
    "\n",
    "    file_length = audio_utils.get_audio_length(input_audio_file)\n",
    "\n",
    "    fps = len(probs) / float(file_length)\n",
    "\n",
    "    probs = laugh_segmenter.lowpass(probs)\n",
    "    instances = laugh_segmenter.get_laughter_instances(\n",
    "        probs, threshold=threshold, min_length=min_length, fps=fps\n",
    "    )\n",
    "\n",
    "    results = []\n",
    "\n",
    "    if len(instances) > 0:\n",
    "        full_res_y, full_res_sr = librosa.load(input_audio_file, sr=44100)\n",
    "        wav_paths = []\n",
    "        maxv = np.iinfo(np.int16).max\n",
    "\n",
    "        base_name = os.path.splitext(os.path.basename(input_audio_file))[0]\n",
    "        \n",
    "        if output_dir is None:\n",
    "            raise Exception(\"Need to specify an output directory to save audio files\")\n",
    "        else:\n",
    "            os.system(f\"mkdir -p {output_dir}\")\n",
    "            for index, instance in enumerate(instances):\n",
    "                laughs = laugh_segmenter.cut_laughter_segments(\n",
    "                    [instance], full_res_y, full_res_sr\n",
    "                )\n",
    "                wav_path = os.path.join(output_dir, f\"{base_name}_laugh_{index}.wav\")\n",
    "                scipy.io.wavfile.write(\n",
    "                    wav_path, full_res_sr, (laughs * maxv).astype(np.int16)\n",
    "                )\n",
    "                results.append(\n",
    "                    {\n",
    "                        \"file_name\": wav_path,\n",
    "                        \"start\": instance[0],\n",
    "                        \"end\": instance[1],\n",
    "                    }\n",
    "                )\n",
    "\n",
    "    return results\n"
   ]
  },
  {
   "cell_type": "code",
   "execution_count": null,
   "metadata": {},
   "outputs": [],
   "source": [
    "# This used to be the original way of doing things\n",
    "# python segment_laughter.py --input_audio_file=./input_audio/test_2.mp3 --output_dir=./tst_wave --save_to_textgrid=False --save_to_audio_files=True --min_length=0.2 --threshold=0.5"
   ]
  },
  {
   "cell_type": "code",
   "execution_count": 2,
   "metadata": {},
   "outputs": [
    {
     "name": "stdout",
     "output_type": "stream",
     "text": [
      "Using device cpu\n",
      "training with dropout=0.0\n",
      "Loading checkpoint at: checkpoints/in_use/resnet_with_augmentation/best.pth.tar\n",
      "Loading checkpoint at step:  60600\n"
     ]
    },
    {
     "name": "stderr",
     "output_type": "stream",
     "text": [
      "100%|██████████| 67/67 [00:41<00:00,  1.62it/s]\n"
     ]
    }
   ],
   "source": [
    "laughs =segment_laughter(\n",
    "    input_audio_file=\"./input_audio\" + \"/joke1.1_5dcc826c-e70a-4c28-bd4e-dca0e9023fa8_1560890971288_431.mp3\",\n",
    "    output_dir=\"./test\",\n",
    ")"
   ]
  },
  {
   "cell_type": "code",
   "execution_count": 3,
   "metadata": {},
   "outputs": [
    {
     "data": {
      "text/plain": [
       "[{'file_name': './test/joke1.1_5dcc826c-e70a-4c28-bd4e-dca0e9023fa8_1560890971288_431_laugh_0.wav',\n",
       "  'start': 5.677570093457945,\n",
       "  'end': 7.973831775700935},\n",
       " {'file_name': './test/joke1.1_5dcc826c-e70a-4c28-bd4e-dca0e9023fa8_1560890971288_431_laugh_1.wav',\n",
       "  'start': 12.742990654205608,\n",
       "  'end': 13.474766355140188}]"
      ]
     },
     "execution_count": 3,
     "metadata": {},
     "output_type": "execute_result"
    }
   ],
   "source": [
    "laughs"
   ]
  },
  {
   "cell_type": "code",
   "execution_count": 10,
   "metadata": {},
   "outputs": [
    {
     "data": {
      "text/html": [
       "<div>\n",
       "<style scoped>\n",
       "    .dataframe tbody tr th:only-of-type {\n",
       "        vertical-align: middle;\n",
       "    }\n",
       "\n",
       "    .dataframe tbody tr th {\n",
       "        vertical-align: top;\n",
       "    }\n",
       "\n",
       "    .dataframe thead th {\n",
       "        text-align: right;\n",
       "    }\n",
       "</style>\n",
       "<table border=\"1\" class=\"dataframe\">\n",
       "  <thead>\n",
       "    <tr style=\"text-align: right;\">\n",
       "      <th></th>\n",
       "      <th>filename</th>\n",
       "      <th>num_laugh</th>\n",
       "      <th>results</th>\n",
       "    </tr>\n",
       "  </thead>\n",
       "  <tbody>\n",
       "    <tr>\n",
       "      <th>0</th>\n",
       "      <td>joke2.1_5ce0c525-1675-4a81-a8ce-17adbd0fd06a_1...</td>\n",
       "      <td>0</td>\n",
       "      <td>[]</td>\n",
       "    </tr>\n",
       "    <tr>\n",
       "      <th>1</th>\n",
       "      <td>joke5.3_f4e620b4-8cf1-485a-961b-3a0828415ec5_1...</td>\n",
       "      <td>1</td>\n",
       "      <td>[{'file_name': './output_segments/joke5.3_f4e6...</td>\n",
       "    </tr>\n",
       "    <tr>\n",
       "      <th>2</th>\n",
       "      <td>joke1.1_5dcc826c-e70a-4c28-bd4e-dca0e9023fa8_1...</td>\n",
       "      <td>2</td>\n",
       "      <td>[{'file_name': './output_segments/joke1.1_5dcc...</td>\n",
       "    </tr>\n",
       "  </tbody>\n",
       "</table>\n",
       "</div>"
      ],
      "text/plain": [
       "                                            filename  num_laugh  \\\n",
       "0  joke2.1_5ce0c525-1675-4a81-a8ce-17adbd0fd06a_1...          0   \n",
       "1  joke5.3_f4e620b4-8cf1-485a-961b-3a0828415ec5_1...          1   \n",
       "2  joke1.1_5dcc826c-e70a-4c28-bd4e-dca0e9023fa8_1...          2   \n",
       "\n",
       "                                             results  \n",
       "0                                                 []  \n",
       "1  [{'file_name': './output_segments/joke5.3_f4e6...  \n",
       "2  [{'file_name': './output_segments/joke1.1_5dcc...  "
      ]
     },
     "execution_count": 10,
     "metadata": {},
     "output_type": "execute_result"
    }
   ],
   "source": [
    "laughs_detected"
   ]
  },
  {
   "cell_type": "code",
   "execution_count": null,
   "metadata": {},
   "outputs": [],
   "source": [
    "def filter_file_names(file_list, partial_list):\n",
    "    filtered_files = []\n",
    "    \n",
    "    for file_name in file_list:\n",
    "        if file_name.startswith(\"joke1.1\"):\n",
    "            for partial_name in partial_list:\n",
    "                if partial_name in file_name:\n",
    "                    filtered_files.append(file_name)\n",
    "                    break  # If there's a match, no need to check other partial names\n",
    "    \n",
    "    return filtered_files\n",
    "\n",
    "# Example usage:\n",
    "file_list = [\n",
    "    \"joke1.1_0d3cc120-8440-4579-9fd7-e7b88eb9a45f_1561401565511_636.mp3\",\n",
    "    \"joke1.1_12345-67890-abcdef_1561401565511_636.mp3\",\n",
    "    \"other_file.mp3\",\n",
    "]\n",
    "\n",
    "partial_list = [\n",
    "    \"4579-9fd7-e7b88eb9a45f\",\n",
    "    \"abcdef\",\n",
    "]\n",
    "\n",
    "filtered_files = filter_file_names(file_list, partial_list)\n",
    "print(filtered_files)\n"
   ]
  },
  {
   "cell_type": "code",
   "execution_count": 36,
   "metadata": {},
   "outputs": [],
   "source": [
    "import os\n",
    "import pandas as pd\n",
    "\n",
    "def process_audio_files(filtered_file_list=None):\n",
    "    # Define the input directory and output directory\n",
    "    input_dir = \"./input_audio/\"\n",
    "    output_dir = \"./output_segments/\"\n",
    "    \n",
    "    if not filtered_file_list:\n",
    "        # List all files in the input directory\n",
    "        all_files = os.listdir(input_dir)\n",
    "        \n",
    "        # Filter out only the MP3 files\n",
    "        mp3_files = [f for f in all_files if f.endswith('.mp3')]\n",
    "    else:\n",
    "        mp3_files = filtered_file_list\n",
    "    \n",
    "    # Initialize an empty list to store results\n",
    "    results = []\n",
    "    \n",
    "    # Process each MP3 file\n",
    "    for mp3_file in mp3_files:\n",
    "        # Get the full path of the MP3 file\n",
    "        full_path = os.path.join(input_dir, mp3_file)\n",
    "        \n",
    "        # Run the segment_laughter function\n",
    "        laughs = segment_laughter(input_audio_file=full_path, output_dir=output_dir)\n",
    "        \n",
    "        # Append the results to the results list\n",
    "        results.append({\"filename\": mp3_file, \"num_laughs\":len(laughs), \"results\": laughs})\n",
    "    \n",
    "    # Convert the results list to a pandas DataFrame\n",
    "    df = pd.DataFrame(results)\n",
    "    \n",
    "    return df\n"
   ]
  },
  {
   "cell_type": "code",
   "execution_count": 14,
   "metadata": {},
   "outputs": [
    {
     "name": "stdout",
     "output_type": "stream",
     "text": [
      "Using device cpu\n",
      "training with dropout=0.0\n",
      "Loading checkpoint at: checkpoints/in_use/resnet_with_augmentation/best.pth.tar\n",
      "Loading checkpoint at step:  60600\n"
     ]
    },
    {
     "name": "stderr",
     "output_type": "stream",
     "text": [
      "  7%|▋         | 12/176 [00:09<02:03,  1.33it/s]\n"
     ]
    },
    {
     "ename": "KeyboardInterrupt",
     "evalue": "",
     "output_type": "error",
     "traceback": [
      "\u001b[0;31m---------------------------------------------------------------------------\u001b[0m",
      "\u001b[0;31mKeyboardInterrupt\u001b[0m                         Traceback (most recent call last)",
      "\u001b[0;32m<ipython-input-14-9f845e172f1f>\u001b[0m in \u001b[0;36m<module>\u001b[0;34m\u001b[0m\n\u001b[1;32m      1\u001b[0m \u001b[0;31m# Call the process_audio_files function\u001b[0m\u001b[0;34m\u001b[0m\u001b[0;34m\u001b[0m\u001b[0;34m\u001b[0m\u001b[0m\n\u001b[0;32m----> 2\u001b[0;31m \u001b[0mdf\u001b[0m \u001b[0;34m=\u001b[0m \u001b[0mprocess_audio_files\u001b[0m\u001b[0;34m(\u001b[0m\u001b[0;34m)\u001b[0m\u001b[0;34m\u001b[0m\u001b[0;34m\u001b[0m\u001b[0m\n\u001b[0m",
      "\u001b[0;32m<ipython-input-13-2f3a1b482507>\u001b[0m in \u001b[0;36mprocess_audio_files\u001b[0;34m()\u001b[0m\n\u001b[1;32m     22\u001b[0m \u001b[0;34m\u001b[0m\u001b[0m\n\u001b[1;32m     23\u001b[0m         \u001b[0;31m# Run the segment_laughter function\u001b[0m\u001b[0;34m\u001b[0m\u001b[0;34m\u001b[0m\u001b[0;34m\u001b[0m\u001b[0m\n\u001b[0;32m---> 24\u001b[0;31m         \u001b[0mlaughs\u001b[0m \u001b[0;34m=\u001b[0m \u001b[0msegment_laughter\u001b[0m\u001b[0;34m(\u001b[0m\u001b[0minput_audio_file\u001b[0m\u001b[0;34m=\u001b[0m\u001b[0mfull_path\u001b[0m\u001b[0;34m,\u001b[0m \u001b[0moutput_dir\u001b[0m\u001b[0;34m=\u001b[0m\u001b[0moutput_dir\u001b[0m\u001b[0;34m)\u001b[0m\u001b[0;34m\u001b[0m\u001b[0;34m\u001b[0m\u001b[0m\n\u001b[0m\u001b[1;32m     25\u001b[0m \u001b[0;34m\u001b[0m\u001b[0m\n\u001b[1;32m     26\u001b[0m         \u001b[0;31m# Append the results to the results list\u001b[0m\u001b[0;34m\u001b[0m\u001b[0;34m\u001b[0m\u001b[0;34m\u001b[0m\u001b[0m\n",
      "\u001b[0;32m<ipython-input-12-06e29820d975>\u001b[0m in \u001b[0;36msegment_laughter\u001b[0;34m(input_audio_file, model_path, config, threshold, min_length, output_dir)\u001b[0m\n\u001b[1;32m     69\u001b[0m     \u001b[0;32mfor\u001b[0m \u001b[0mmodel_inputs\u001b[0m\u001b[0;34m,\u001b[0m \u001b[0m_\u001b[0m \u001b[0;32min\u001b[0m \u001b[0mtqdm\u001b[0m\u001b[0;34m(\u001b[0m\u001b[0minference_generator\u001b[0m\u001b[0;34m)\u001b[0m\u001b[0;34m:\u001b[0m\u001b[0;34m\u001b[0m\u001b[0;34m\u001b[0m\u001b[0m\n\u001b[1;32m     70\u001b[0m         \u001b[0mx\u001b[0m \u001b[0;34m=\u001b[0m \u001b[0mtorch\u001b[0m\u001b[0;34m.\u001b[0m\u001b[0mfrom_numpy\u001b[0m\u001b[0;34m(\u001b[0m\u001b[0mmodel_inputs\u001b[0m\u001b[0;34m)\u001b[0m\u001b[0;34m.\u001b[0m\u001b[0mfloat\u001b[0m\u001b[0;34m(\u001b[0m\u001b[0;34m)\u001b[0m\u001b[0;34m.\u001b[0m\u001b[0mto\u001b[0m\u001b[0;34m(\u001b[0m\u001b[0mdevice\u001b[0m\u001b[0;34m)\u001b[0m\u001b[0;34m\u001b[0m\u001b[0;34m\u001b[0m\u001b[0m\n\u001b[0;32m---> 71\u001b[0;31m         \u001b[0mpreds\u001b[0m \u001b[0;34m=\u001b[0m \u001b[0mmodel\u001b[0m\u001b[0;34m(\u001b[0m\u001b[0mx\u001b[0m\u001b[0;34m)\u001b[0m\u001b[0;34m.\u001b[0m\u001b[0mcpu\u001b[0m\u001b[0;34m(\u001b[0m\u001b[0;34m)\u001b[0m\u001b[0;34m.\u001b[0m\u001b[0mdetach\u001b[0m\u001b[0;34m(\u001b[0m\u001b[0;34m)\u001b[0m\u001b[0;34m.\u001b[0m\u001b[0mnumpy\u001b[0m\u001b[0;34m(\u001b[0m\u001b[0;34m)\u001b[0m\u001b[0;34m.\u001b[0m\u001b[0msqueeze\u001b[0m\u001b[0;34m(\u001b[0m\u001b[0;34m)\u001b[0m\u001b[0;34m\u001b[0m\u001b[0;34m\u001b[0m\u001b[0m\n\u001b[0m\u001b[1;32m     72\u001b[0m         \u001b[0;32mif\u001b[0m \u001b[0mlen\u001b[0m\u001b[0;34m(\u001b[0m\u001b[0mpreds\u001b[0m\u001b[0;34m.\u001b[0m\u001b[0mshape\u001b[0m\u001b[0;34m)\u001b[0m \u001b[0;34m==\u001b[0m \u001b[0;36m0\u001b[0m\u001b[0;34m:\u001b[0m\u001b[0;34m\u001b[0m\u001b[0;34m\u001b[0m\u001b[0m\n\u001b[1;32m     73\u001b[0m             \u001b[0mpreds\u001b[0m \u001b[0;34m=\u001b[0m \u001b[0;34m[\u001b[0m\u001b[0mfloat\u001b[0m\u001b[0;34m(\u001b[0m\u001b[0mpreds\u001b[0m\u001b[0;34m)\u001b[0m\u001b[0;34m]\u001b[0m\u001b[0;34m\u001b[0m\u001b[0;34m\u001b[0m\u001b[0m\n",
      "\u001b[0;32m~/anaconda3/envs/py36/lib/python3.7/site-packages/torch/nn/modules/module.py\u001b[0m in \u001b[0;36m__call__\u001b[0;34m(self, *input, **kwargs)\u001b[0m\n\u001b[1;32m    539\u001b[0m             \u001b[0mresult\u001b[0m \u001b[0;34m=\u001b[0m \u001b[0mself\u001b[0m\u001b[0;34m.\u001b[0m\u001b[0m_slow_forward\u001b[0m\u001b[0;34m(\u001b[0m\u001b[0;34m*\u001b[0m\u001b[0minput\u001b[0m\u001b[0;34m,\u001b[0m \u001b[0;34m**\u001b[0m\u001b[0mkwargs\u001b[0m\u001b[0;34m)\u001b[0m\u001b[0;34m\u001b[0m\u001b[0;34m\u001b[0m\u001b[0m\n\u001b[1;32m    540\u001b[0m         \u001b[0;32melse\u001b[0m\u001b[0;34m:\u001b[0m\u001b[0;34m\u001b[0m\u001b[0;34m\u001b[0m\u001b[0m\n\u001b[0;32m--> 541\u001b[0;31m             \u001b[0mresult\u001b[0m \u001b[0;34m=\u001b[0m \u001b[0mself\u001b[0m\u001b[0;34m.\u001b[0m\u001b[0mforward\u001b[0m\u001b[0;34m(\u001b[0m\u001b[0;34m*\u001b[0m\u001b[0minput\u001b[0m\u001b[0;34m,\u001b[0m \u001b[0;34m**\u001b[0m\u001b[0mkwargs\u001b[0m\u001b[0;34m)\u001b[0m\u001b[0;34m\u001b[0m\u001b[0;34m\u001b[0m\u001b[0m\n\u001b[0m\u001b[1;32m    542\u001b[0m         \u001b[0;32mfor\u001b[0m \u001b[0mhook\u001b[0m \u001b[0;32min\u001b[0m \u001b[0mself\u001b[0m\u001b[0;34m.\u001b[0m\u001b[0m_forward_hooks\u001b[0m\u001b[0;34m.\u001b[0m\u001b[0mvalues\u001b[0m\u001b[0;34m(\u001b[0m\u001b[0;34m)\u001b[0m\u001b[0;34m:\u001b[0m\u001b[0;34m\u001b[0m\u001b[0;34m\u001b[0m\u001b[0m\n\u001b[1;32m    543\u001b[0m             \u001b[0mhook_result\u001b[0m \u001b[0;34m=\u001b[0m \u001b[0mhook\u001b[0m\u001b[0;34m(\u001b[0m\u001b[0mself\u001b[0m\u001b[0;34m,\u001b[0m \u001b[0minput\u001b[0m\u001b[0;34m,\u001b[0m \u001b[0mresult\u001b[0m\u001b[0;34m)\u001b[0m\u001b[0;34m\u001b[0m\u001b[0;34m\u001b[0m\u001b[0m\n",
      "\u001b[0;32m~/Dev/sageailabs/sage_hack/laughter-detection/laughter/models.py\u001b[0m in \u001b[0;36mforward\u001b[0;34m(self, x)\u001b[0m\n\u001b[1;32m    210\u001b[0m         \u001b[0mout\u001b[0m \u001b[0;34m=\u001b[0m \u001b[0mnn\u001b[0m\u001b[0;34m.\u001b[0m\u001b[0mReLU\u001b[0m\u001b[0;34m(\u001b[0m\u001b[0;34m)\u001b[0m\u001b[0;34m(\u001b[0m\u001b[0mself\u001b[0m\u001b[0;34m.\u001b[0m\u001b[0mbn1\u001b[0m\u001b[0;34m(\u001b[0m\u001b[0mself\u001b[0m\u001b[0;34m.\u001b[0m\u001b[0mconv1\u001b[0m\u001b[0;34m(\u001b[0m\u001b[0mx\u001b[0m\u001b[0;34m)\u001b[0m\u001b[0;34m)\u001b[0m\u001b[0;34m)\u001b[0m\u001b[0;34m\u001b[0m\u001b[0;34m\u001b[0m\u001b[0m\n\u001b[1;32m    211\u001b[0m         \u001b[0mout\u001b[0m \u001b[0;34m=\u001b[0m \u001b[0mself\u001b[0m\u001b[0;34m.\u001b[0m\u001b[0mblock1\u001b[0m\u001b[0;34m(\u001b[0m\u001b[0mout\u001b[0m\u001b[0;34m)\u001b[0m\u001b[0;34m\u001b[0m\u001b[0;34m\u001b[0m\u001b[0m\n\u001b[0;32m--> 212\u001b[0;31m         \u001b[0mout\u001b[0m \u001b[0;34m=\u001b[0m \u001b[0mself\u001b[0m\u001b[0;34m.\u001b[0m\u001b[0mblock2\u001b[0m\u001b[0;34m(\u001b[0m\u001b[0mout\u001b[0m\u001b[0;34m)\u001b[0m\u001b[0;34m\u001b[0m\u001b[0;34m\u001b[0m\u001b[0m\n\u001b[0m\u001b[1;32m    213\u001b[0m         \u001b[0mout\u001b[0m \u001b[0;34m=\u001b[0m \u001b[0mself\u001b[0m\u001b[0;34m.\u001b[0m\u001b[0mblock3\u001b[0m\u001b[0;34m(\u001b[0m\u001b[0mout\u001b[0m\u001b[0;34m)\u001b[0m\u001b[0;34m\u001b[0m\u001b[0;34m\u001b[0m\u001b[0m\n\u001b[1;32m    214\u001b[0m         \u001b[0mout\u001b[0m \u001b[0;34m=\u001b[0m \u001b[0mself\u001b[0m\u001b[0;34m.\u001b[0m\u001b[0mblock4\u001b[0m\u001b[0;34m(\u001b[0m\u001b[0mout\u001b[0m\u001b[0;34m)\u001b[0m\u001b[0;34m\u001b[0m\u001b[0;34m\u001b[0m\u001b[0m\n",
      "\u001b[0;32m~/anaconda3/envs/py36/lib/python3.7/site-packages/torch/nn/modules/module.py\u001b[0m in \u001b[0;36m__call__\u001b[0;34m(self, *input, **kwargs)\u001b[0m\n\u001b[1;32m    539\u001b[0m             \u001b[0mresult\u001b[0m \u001b[0;34m=\u001b[0m \u001b[0mself\u001b[0m\u001b[0;34m.\u001b[0m\u001b[0m_slow_forward\u001b[0m\u001b[0;34m(\u001b[0m\u001b[0;34m*\u001b[0m\u001b[0minput\u001b[0m\u001b[0;34m,\u001b[0m \u001b[0;34m**\u001b[0m\u001b[0mkwargs\u001b[0m\u001b[0;34m)\u001b[0m\u001b[0;34m\u001b[0m\u001b[0;34m\u001b[0m\u001b[0m\n\u001b[1;32m    540\u001b[0m         \u001b[0;32melse\u001b[0m\u001b[0;34m:\u001b[0m\u001b[0;34m\u001b[0m\u001b[0;34m\u001b[0m\u001b[0m\n\u001b[0;32m--> 541\u001b[0;31m             \u001b[0mresult\u001b[0m \u001b[0;34m=\u001b[0m \u001b[0mself\u001b[0m\u001b[0;34m.\u001b[0m\u001b[0mforward\u001b[0m\u001b[0;34m(\u001b[0m\u001b[0;34m*\u001b[0m\u001b[0minput\u001b[0m\u001b[0;34m,\u001b[0m \u001b[0;34m**\u001b[0m\u001b[0mkwargs\u001b[0m\u001b[0;34m)\u001b[0m\u001b[0;34m\u001b[0m\u001b[0;34m\u001b[0m\u001b[0m\n\u001b[0m\u001b[1;32m    542\u001b[0m         \u001b[0;32mfor\u001b[0m \u001b[0mhook\u001b[0m \u001b[0;32min\u001b[0m \u001b[0mself\u001b[0m\u001b[0;34m.\u001b[0m\u001b[0m_forward_hooks\u001b[0m\u001b[0;34m.\u001b[0m\u001b[0mvalues\u001b[0m\u001b[0;34m(\u001b[0m\u001b[0;34m)\u001b[0m\u001b[0;34m:\u001b[0m\u001b[0;34m\u001b[0m\u001b[0;34m\u001b[0m\u001b[0m\n\u001b[1;32m    543\u001b[0m             \u001b[0mhook_result\u001b[0m \u001b[0;34m=\u001b[0m \u001b[0mhook\u001b[0m\u001b[0;34m(\u001b[0m\u001b[0mself\u001b[0m\u001b[0;34m,\u001b[0m \u001b[0minput\u001b[0m\u001b[0;34m,\u001b[0m \u001b[0mresult\u001b[0m\u001b[0;34m)\u001b[0m\u001b[0;34m\u001b[0m\u001b[0;34m\u001b[0m\u001b[0m\n",
      "\u001b[0;32m~/anaconda3/envs/py36/lib/python3.7/site-packages/torch/nn/modules/container.py\u001b[0m in \u001b[0;36mforward\u001b[0;34m(self, input)\u001b[0m\n\u001b[1;32m     90\u001b[0m     \u001b[0;32mdef\u001b[0m \u001b[0mforward\u001b[0m\u001b[0;34m(\u001b[0m\u001b[0mself\u001b[0m\u001b[0;34m,\u001b[0m \u001b[0minput\u001b[0m\u001b[0;34m)\u001b[0m\u001b[0;34m:\u001b[0m\u001b[0;34m\u001b[0m\u001b[0;34m\u001b[0m\u001b[0m\n\u001b[1;32m     91\u001b[0m         \u001b[0;32mfor\u001b[0m \u001b[0mmodule\u001b[0m \u001b[0;32min\u001b[0m \u001b[0mself\u001b[0m\u001b[0;34m.\u001b[0m\u001b[0m_modules\u001b[0m\u001b[0;34m.\u001b[0m\u001b[0mvalues\u001b[0m\u001b[0;34m(\u001b[0m\u001b[0;34m)\u001b[0m\u001b[0;34m:\u001b[0m\u001b[0;34m\u001b[0m\u001b[0;34m\u001b[0m\u001b[0m\n\u001b[0;32m---> 92\u001b[0;31m             \u001b[0minput\u001b[0m \u001b[0;34m=\u001b[0m \u001b[0mmodule\u001b[0m\u001b[0;34m(\u001b[0m\u001b[0minput\u001b[0m\u001b[0;34m)\u001b[0m\u001b[0;34m\u001b[0m\u001b[0;34m\u001b[0m\u001b[0m\n\u001b[0m\u001b[1;32m     93\u001b[0m         \u001b[0;32mreturn\u001b[0m \u001b[0minput\u001b[0m\u001b[0;34m\u001b[0m\u001b[0;34m\u001b[0m\u001b[0m\n\u001b[1;32m     94\u001b[0m \u001b[0;34m\u001b[0m\u001b[0m\n",
      "\u001b[0;32m~/anaconda3/envs/py36/lib/python3.7/site-packages/torch/nn/modules/module.py\u001b[0m in \u001b[0;36m__call__\u001b[0;34m(self, *input, **kwargs)\u001b[0m\n\u001b[1;32m    539\u001b[0m             \u001b[0mresult\u001b[0m \u001b[0;34m=\u001b[0m \u001b[0mself\u001b[0m\u001b[0;34m.\u001b[0m\u001b[0m_slow_forward\u001b[0m\u001b[0;34m(\u001b[0m\u001b[0;34m*\u001b[0m\u001b[0minput\u001b[0m\u001b[0;34m,\u001b[0m \u001b[0;34m**\u001b[0m\u001b[0mkwargs\u001b[0m\u001b[0;34m)\u001b[0m\u001b[0;34m\u001b[0m\u001b[0;34m\u001b[0m\u001b[0m\n\u001b[1;32m    540\u001b[0m         \u001b[0;32melse\u001b[0m\u001b[0;34m:\u001b[0m\u001b[0;34m\u001b[0m\u001b[0;34m\u001b[0m\u001b[0m\n\u001b[0;32m--> 541\u001b[0;31m             \u001b[0mresult\u001b[0m \u001b[0;34m=\u001b[0m \u001b[0mself\u001b[0m\u001b[0;34m.\u001b[0m\u001b[0mforward\u001b[0m\u001b[0;34m(\u001b[0m\u001b[0;34m*\u001b[0m\u001b[0minput\u001b[0m\u001b[0;34m,\u001b[0m \u001b[0;34m**\u001b[0m\u001b[0mkwargs\u001b[0m\u001b[0;34m)\u001b[0m\u001b[0;34m\u001b[0m\u001b[0;34m\u001b[0m\u001b[0m\n\u001b[0m\u001b[1;32m    542\u001b[0m         \u001b[0;32mfor\u001b[0m \u001b[0mhook\u001b[0m \u001b[0;32min\u001b[0m \u001b[0mself\u001b[0m\u001b[0;34m.\u001b[0m\u001b[0m_forward_hooks\u001b[0m\u001b[0;34m.\u001b[0m\u001b[0mvalues\u001b[0m\u001b[0;34m(\u001b[0m\u001b[0;34m)\u001b[0m\u001b[0;34m:\u001b[0m\u001b[0;34m\u001b[0m\u001b[0;34m\u001b[0m\u001b[0m\n\u001b[1;32m    543\u001b[0m             \u001b[0mhook_result\u001b[0m \u001b[0;34m=\u001b[0m \u001b[0mhook\u001b[0m\u001b[0;34m(\u001b[0m\u001b[0mself\u001b[0m\u001b[0;34m,\u001b[0m \u001b[0minput\u001b[0m\u001b[0;34m,\u001b[0m \u001b[0mresult\u001b[0m\u001b[0;34m)\u001b[0m\u001b[0;34m\u001b[0m\u001b[0;34m\u001b[0m\u001b[0m\n",
      "\u001b[0;32m~/Dev/sageailabs/sage_hack/laughter-detection/laughter/models.py\u001b[0m in \u001b[0;36mforward\u001b[0;34m(self, x)\u001b[0m\n\u001b[1;32m    104\u001b[0m \u001b[0;34m\u001b[0m\u001b[0m\n\u001b[1;32m    105\u001b[0m     \u001b[0;32mdef\u001b[0m \u001b[0mforward\u001b[0m\u001b[0;34m(\u001b[0m\u001b[0mself\u001b[0m\u001b[0;34m,\u001b[0m \u001b[0mx\u001b[0m\u001b[0;34m)\u001b[0m\u001b[0;34m:\u001b[0m\u001b[0;34m\u001b[0m\u001b[0;34m\u001b[0m\u001b[0m\n\u001b[0;32m--> 106\u001b[0;31m         \u001b[0mout\u001b[0m \u001b[0;34m=\u001b[0m \u001b[0mnn\u001b[0m\u001b[0;34m.\u001b[0m\u001b[0mReLU\u001b[0m\u001b[0;34m(\u001b[0m\u001b[0;34m)\u001b[0m\u001b[0;34m(\u001b[0m\u001b[0mself\u001b[0m\u001b[0;34m.\u001b[0m\u001b[0mbn1\u001b[0m\u001b[0;34m(\u001b[0m\u001b[0mself\u001b[0m\u001b[0;34m.\u001b[0m\u001b[0mconv1\u001b[0m\u001b[0;34m(\u001b[0m\u001b[0mx\u001b[0m\u001b[0;34m)\u001b[0m\u001b[0;34m)\u001b[0m\u001b[0;34m)\u001b[0m\u001b[0;34m\u001b[0m\u001b[0;34m\u001b[0m\u001b[0m\n\u001b[0m\u001b[1;32m    107\u001b[0m         \u001b[0mout\u001b[0m \u001b[0;34m=\u001b[0m \u001b[0mself\u001b[0m\u001b[0;34m.\u001b[0m\u001b[0mbn2\u001b[0m\u001b[0;34m(\u001b[0m\u001b[0mself\u001b[0m\u001b[0;34m.\u001b[0m\u001b[0mconv2\u001b[0m\u001b[0;34m(\u001b[0m\u001b[0mout\u001b[0m\u001b[0;34m)\u001b[0m\u001b[0;34m)\u001b[0m\u001b[0;34m\u001b[0m\u001b[0;34m\u001b[0m\u001b[0m\n\u001b[1;32m    108\u001b[0m         \u001b[0mout\u001b[0m \u001b[0;34m+=\u001b[0m \u001b[0mself\u001b[0m\u001b[0;34m.\u001b[0m\u001b[0mshortcut\u001b[0m\u001b[0;34m(\u001b[0m\u001b[0mx\u001b[0m\u001b[0;34m)\u001b[0m\u001b[0;34m\u001b[0m\u001b[0;34m\u001b[0m\u001b[0m\n",
      "\u001b[0;32m~/anaconda3/envs/py36/lib/python3.7/site-packages/torch/nn/modules/module.py\u001b[0m in \u001b[0;36m__call__\u001b[0;34m(self, *input, **kwargs)\u001b[0m\n\u001b[1;32m    539\u001b[0m             \u001b[0mresult\u001b[0m \u001b[0;34m=\u001b[0m \u001b[0mself\u001b[0m\u001b[0;34m.\u001b[0m\u001b[0m_slow_forward\u001b[0m\u001b[0;34m(\u001b[0m\u001b[0;34m*\u001b[0m\u001b[0minput\u001b[0m\u001b[0;34m,\u001b[0m \u001b[0;34m**\u001b[0m\u001b[0mkwargs\u001b[0m\u001b[0;34m)\u001b[0m\u001b[0;34m\u001b[0m\u001b[0;34m\u001b[0m\u001b[0m\n\u001b[1;32m    540\u001b[0m         \u001b[0;32melse\u001b[0m\u001b[0;34m:\u001b[0m\u001b[0;34m\u001b[0m\u001b[0;34m\u001b[0m\u001b[0m\n\u001b[0;32m--> 541\u001b[0;31m             \u001b[0mresult\u001b[0m \u001b[0;34m=\u001b[0m \u001b[0mself\u001b[0m\u001b[0;34m.\u001b[0m\u001b[0mforward\u001b[0m\u001b[0;34m(\u001b[0m\u001b[0;34m*\u001b[0m\u001b[0minput\u001b[0m\u001b[0;34m,\u001b[0m \u001b[0;34m**\u001b[0m\u001b[0mkwargs\u001b[0m\u001b[0;34m)\u001b[0m\u001b[0;34m\u001b[0m\u001b[0;34m\u001b[0m\u001b[0m\n\u001b[0m\u001b[1;32m    542\u001b[0m         \u001b[0;32mfor\u001b[0m \u001b[0mhook\u001b[0m \u001b[0;32min\u001b[0m \u001b[0mself\u001b[0m\u001b[0;34m.\u001b[0m\u001b[0m_forward_hooks\u001b[0m\u001b[0;34m.\u001b[0m\u001b[0mvalues\u001b[0m\u001b[0;34m(\u001b[0m\u001b[0;34m)\u001b[0m\u001b[0;34m:\u001b[0m\u001b[0;34m\u001b[0m\u001b[0;34m\u001b[0m\u001b[0m\n\u001b[1;32m    543\u001b[0m             \u001b[0mhook_result\u001b[0m \u001b[0;34m=\u001b[0m \u001b[0mhook\u001b[0m\u001b[0;34m(\u001b[0m\u001b[0mself\u001b[0m\u001b[0;34m,\u001b[0m \u001b[0minput\u001b[0m\u001b[0;34m,\u001b[0m \u001b[0mresult\u001b[0m\u001b[0;34m)\u001b[0m\u001b[0;34m\u001b[0m\u001b[0;34m\u001b[0m\u001b[0m\n",
      "\u001b[0;32m~/anaconda3/envs/py36/lib/python3.7/site-packages/torch/nn/modules/conv.py\u001b[0m in \u001b[0;36mforward\u001b[0;34m(self, input)\u001b[0m\n\u001b[1;32m    343\u001b[0m \u001b[0;34m\u001b[0m\u001b[0m\n\u001b[1;32m    344\u001b[0m     \u001b[0;32mdef\u001b[0m \u001b[0mforward\u001b[0m\u001b[0;34m(\u001b[0m\u001b[0mself\u001b[0m\u001b[0;34m,\u001b[0m \u001b[0minput\u001b[0m\u001b[0;34m)\u001b[0m\u001b[0;34m:\u001b[0m\u001b[0;34m\u001b[0m\u001b[0;34m\u001b[0m\u001b[0m\n\u001b[0;32m--> 345\u001b[0;31m         \u001b[0;32mreturn\u001b[0m \u001b[0mself\u001b[0m\u001b[0;34m.\u001b[0m\u001b[0mconv2d_forward\u001b[0m\u001b[0;34m(\u001b[0m\u001b[0minput\u001b[0m\u001b[0;34m,\u001b[0m \u001b[0mself\u001b[0m\u001b[0;34m.\u001b[0m\u001b[0mweight\u001b[0m\u001b[0;34m)\u001b[0m\u001b[0;34m\u001b[0m\u001b[0;34m\u001b[0m\u001b[0m\n\u001b[0m\u001b[1;32m    346\u001b[0m \u001b[0;34m\u001b[0m\u001b[0m\n\u001b[1;32m    347\u001b[0m \u001b[0;32mclass\u001b[0m \u001b[0mConv3d\u001b[0m\u001b[0;34m(\u001b[0m\u001b[0m_ConvNd\u001b[0m\u001b[0;34m)\u001b[0m\u001b[0;34m:\u001b[0m\u001b[0;34m\u001b[0m\u001b[0;34m\u001b[0m\u001b[0m\n",
      "\u001b[0;32m~/anaconda3/envs/py36/lib/python3.7/site-packages/torch/nn/modules/conv.py\u001b[0m in \u001b[0;36mconv2d_forward\u001b[0;34m(self, input, weight)\u001b[0m\n\u001b[1;32m    340\u001b[0m                             _pair(0), self.dilation, self.groups)\n\u001b[1;32m    341\u001b[0m         return F.conv2d(input, weight, self.bias, self.stride,\n\u001b[0;32m--> 342\u001b[0;31m                         self.padding, self.dilation, self.groups)\n\u001b[0m\u001b[1;32m    343\u001b[0m \u001b[0;34m\u001b[0m\u001b[0m\n\u001b[1;32m    344\u001b[0m     \u001b[0;32mdef\u001b[0m \u001b[0mforward\u001b[0m\u001b[0;34m(\u001b[0m\u001b[0mself\u001b[0m\u001b[0;34m,\u001b[0m \u001b[0minput\u001b[0m\u001b[0;34m)\u001b[0m\u001b[0;34m:\u001b[0m\u001b[0;34m\u001b[0m\u001b[0;34m\u001b[0m\u001b[0m\n",
      "\u001b[0;31mKeyboardInterrupt\u001b[0m: "
     ]
    }
   ],
   "source": [
    "# Call the process_audio_files function\n",
    "df = process_audio_files()\n"
   ]
  },
  {
   "cell_type": "code",
   "execution_count": 4,
   "metadata": {},
   "outputs": [
    {
     "data": {
      "text/html": [
       "<div>\n",
       "<style scoped>\n",
       "    .dataframe tbody tr th:only-of-type {\n",
       "        vertical-align: middle;\n",
       "    }\n",
       "\n",
       "    .dataframe tbody tr th {\n",
       "        vertical-align: top;\n",
       "    }\n",
       "\n",
       "    .dataframe thead th {\n",
       "        text-align: right;\n",
       "    }\n",
       "</style>\n",
       "<table border=\"1\" class=\"dataframe\">\n",
       "  <thead>\n",
       "    <tr style=\"text-align: right;\">\n",
       "      <th></th>\n",
       "      <th>filename</th>\n",
       "      <th>num_laughs</th>\n",
       "      <th>results</th>\n",
       "    </tr>\n",
       "  </thead>\n",
       "  <tbody>\n",
       "    <tr>\n",
       "      <th>0</th>\n",
       "      <td>joke2.1_5ce0c525-1675-4a81-a8ce-17adbd0fd06a_1...</td>\n",
       "      <td>0</td>\n",
       "      <td>[]</td>\n",
       "    </tr>\n",
       "    <tr>\n",
       "      <th>1</th>\n",
       "      <td>joke5.3_f4e620b4-8cf1-485a-961b-3a0828415ec5_1...</td>\n",
       "      <td>1</td>\n",
       "      <td>[{'file_name': './output_segments/joke5.3_f4e6...</td>\n",
       "    </tr>\n",
       "    <tr>\n",
       "      <th>2</th>\n",
       "      <td>joke1.1_5dcc826c-e70a-4c28-bd4e-dca0e9023fa8_1...</td>\n",
       "      <td>2</td>\n",
       "      <td>[{'file_name': './output_segments/joke1.1_5dcc...</td>\n",
       "    </tr>\n",
       "  </tbody>\n",
       "</table>\n",
       "</div>"
      ],
      "text/plain": [
       "                                            filename  num_laughs  \\\n",
       "0  joke2.1_5ce0c525-1675-4a81-a8ce-17adbd0fd06a_1...           0   \n",
       "1  joke5.3_f4e620b4-8cf1-485a-961b-3a0828415ec5_1...           1   \n",
       "2  joke1.1_5dcc826c-e70a-4c28-bd4e-dca0e9023fa8_1...           2   \n",
       "\n",
       "                                             results  \n",
       "0                                                 []  \n",
       "1  [{'file_name': './output_segments/joke5.3_f4e6...  \n",
       "2  [{'file_name': './output_segments/joke1.1_5dcc...  "
      ]
     },
     "execution_count": 4,
     "metadata": {},
     "output_type": "execute_result"
    }
   ],
   "source": [
    "df"
   ]
  },
  {
   "cell_type": "code",
   "execution_count": 8,
   "metadata": {},
   "outputs": [
    {
     "name": "stdout",
     "output_type": "stream",
     "text": [
      "[]\n",
      "[{'file_name': './output_segments/joke5.3_f4e620b4-8cf1-485a-961b-3a0828415ec5_1577919787295_189_laugh_0.wav', 'start': 5.915014164305949, 'end': 12.81586402266289}]\n",
      "[{'file_name': './output_segments/joke1.1_5dcc826c-e70a-4c28-bd4e-dca0e9023fa8_1560890971288_431_laugh_0.wav', 'start': 5.677570093457945, 'end': 7.973831775700935}, {'file_name': './output_segments/joke1.1_5dcc826c-e70a-4c28-bd4e-dca0e9023fa8_1560890971288_431_laugh_1.wav', 'start': 12.742990654205608, 'end': 13.474766355140188}]\n"
     ]
    }
   ],
   "source": [
    "for results in df.results.values:\n",
    "    print(results)"
   ]
  },
  {
   "cell_type": "code",
   "execution_count": 9,
   "metadata": {},
   "outputs": [
    {
     "data": {
      "text/plain": [
       "{'file_name': './output_segments/joke5.3_f4e620b4-8cf1-485a-961b-3a0828415ec5_1577919787295_189_laugh_0.wav',\n",
       " 'start': 5.915014164305949,\n",
       " 'end': 12.81586402266289}"
      ]
     },
     "execution_count": 9,
     "metadata": {},
     "output_type": "execute_result"
    }
   ],
   "source": [
    "{'file_name': './output_segments/joke5.3_f4e620b4-8cf1-485a-961b-3a0828415ec5_1577919787295_189_laugh_0.wav', 'start': 5.915014164305949, 'end': 12.81586402266289}"
   ]
  },
  {
   "cell_type": "code",
   "execution_count": 10,
   "metadata": {},
   "outputs": [
    {
     "data": {
      "text/plain": [
       "{'file_name': './output_segments/joke1.1_5dcc826c-e70a-4c28-bd4e-dca0e9023fa8_1560890971288_431_laugh_0.wav',\n",
       " 'start': 5.677570093457945,\n",
       " 'end': 7.973831775700935}"
      ]
     },
     "execution_count": 10,
     "metadata": {},
     "output_type": "execute_result"
    }
   ],
   "source": [
    "{'file_name': './output_segments/joke1.1_5dcc826c-e70a-4c28-bd4e-dca0e9023fa8_1560890971288_431_laugh_0.wav', 'start': 5.677570093457945, 'end': 7.973831775700935}"
   ]
  },
  {
   "cell_type": "code",
   "execution_count": 11,
   "metadata": {},
   "outputs": [
    {
     "data": {
      "text/plain": [
       "{'file_name': './output_segments/joke1.1_5dcc826c-e70a-4c28-bd4e-dca0e9023fa8_1560890971288_431_laugh_1.wav',\n",
       " 'start': 12.742990654205608,\n",
       " 'end': 13.474766355140188}"
      ]
     },
     "execution_count": 11,
     "metadata": {},
     "output_type": "execute_result"
    }
   ],
   "source": [
    "{'file_name': './output_segments/joke1.1_5dcc826c-e70a-4c28-bd4e-dca0e9023fa8_1560890971288_431_laugh_1.wav', 'start': 12.742990654205608, 'end': 13.474766355140188}"
   ]
  },
  {
   "cell_type": "code",
   "execution_count": 16,
   "metadata": {},
   "outputs": [],
   "source": [
    "excel_file  = pd.read_excel(\"./baby_joke_1_laugh_1.xlsx\")"
   ]
  },
  {
   "cell_type": "code",
   "execution_count": 17,
   "metadata": {},
   "outputs": [
    {
     "data": {
      "text/html": [
       "<div>\n",
       "<style scoped>\n",
       "    .dataframe tbody tr th:only-of-type {\n",
       "        vertical-align: middle;\n",
       "    }\n",
       "\n",
       "    .dataframe tbody tr th {\n",
       "        vertical-align: top;\n",
       "    }\n",
       "\n",
       "    .dataframe thead th {\n",
       "        text-align: right;\n",
       "    }\n",
       "</style>\n",
       "<table border=\"1\" class=\"dataframe\">\n",
       "  <thead>\n",
       "    <tr style=\"text-align: right;\">\n",
       "      <th></th>\n",
       "      <th>VIDEOID/RESPONSEID</th>\n",
       "      <th>ChildHashedID</th>\n",
       "      <th>age_in_days</th>\n",
       "      <th>gender</th>\n",
       "      <th>Consent</th>\n",
       "      <th>JokeOrder</th>\n",
       "      <th>joke1.laugh.1</th>\n",
       "      <th>joke1.howfunny.1</th>\n",
       "      <th>joke1.laugh.2</th>\n",
       "      <th>joke1.howfunny.2</th>\n",
       "      <th>...</th>\n",
       "      <th>ThatsNotACat.laugh.2</th>\n",
       "      <th>ThatsNotACat.howfunny.2</th>\n",
       "      <th>ThatsNotACat.laugh.3</th>\n",
       "      <th>ThatsNotACat.howfunny.3</th>\n",
       "      <th>TearingPaper.laugh.1</th>\n",
       "      <th>TearingPaper.howfunny.1</th>\n",
       "      <th>TearingPaper.laugh.2</th>\n",
       "      <th>TearingPaper.howfunny.2</th>\n",
       "      <th>TearingPaper.laugh.3</th>\n",
       "      <th>TearingPaper.howfunny.3</th>\n",
       "    </tr>\n",
       "  </thead>\n",
       "  <tbody>\n",
       "    <tr>\n",
       "      <th>0</th>\n",
       "      <td>4d16ddd9-e207-45d0-bed8-4e2bf8df60ea</td>\n",
       "      <td>FHN26F</td>\n",
       "      <td>105</td>\n",
       "      <td>f</td>\n",
       "      <td>accepted</td>\n",
       "      <td>['ThatsNotACat', 'Peekaboo', 'ThatsNotAHat', '...</td>\n",
       "      <td>No</td>\n",
       "      <td>Not funny</td>\n",
       "      <td>No</td>\n",
       "      <td>Not funny</td>\n",
       "      <td>...</td>\n",
       "      <td>No</td>\n",
       "      <td>Not funny</td>\n",
       "      <td>No</td>\n",
       "      <td>Not funny</td>\n",
       "      <td>No</td>\n",
       "      <td>Slightly funny</td>\n",
       "      <td>No</td>\n",
       "      <td>Not funny</td>\n",
       "      <td>No</td>\n",
       "      <td>Not funny</td>\n",
       "    </tr>\n",
       "    <tr>\n",
       "      <th>1</th>\n",
       "      <td>73e855f3-6c3c-4673-86a0-c7f3dcfc7531</td>\n",
       "      <td>ZCH3UU</td>\n",
       "      <td>121</td>\n",
       "      <td>m</td>\n",
       "      <td>accepted</td>\n",
       "      <td>['TearingPaper', 'NomNomNom', 'ThatsNotAHat', ...</td>\n",
       "      <td>No</td>\n",
       "      <td>Not funny</td>\n",
       "      <td>No</td>\n",
       "      <td>Not funny</td>\n",
       "      <td>...</td>\n",
       "      <td>No</td>\n",
       "      <td>Not funny</td>\n",
       "      <td>No</td>\n",
       "      <td>Not funny</td>\n",
       "      <td>No</td>\n",
       "      <td>Not funny</td>\n",
       "      <td>No</td>\n",
       "      <td>Not funny</td>\n",
       "      <td>No</td>\n",
       "      <td>Not funny</td>\n",
       "    </tr>\n",
       "    <tr>\n",
       "      <th>2</th>\n",
       "      <td>f889fba2-ad55-4b6a-ba67-baf589bf562e</td>\n",
       "      <td>USMEcW</td>\n",
       "      <td>132</td>\n",
       "      <td>f</td>\n",
       "      <td>accepted</td>\n",
       "      <td>['TearingPaper', 'Peekaboo', 'ThatsNotAHat', '...</td>\n",
       "      <td>No</td>\n",
       "      <td>Not funny</td>\n",
       "      <td>No</td>\n",
       "      <td>Not funny</td>\n",
       "      <td>...</td>\n",
       "      <td>No</td>\n",
       "      <td>Not funny</td>\n",
       "      <td>No</td>\n",
       "      <td>Not funny</td>\n",
       "      <td>No</td>\n",
       "      <td>Not funny</td>\n",
       "      <td>No</td>\n",
       "      <td>Not funny</td>\n",
       "      <td>No</td>\n",
       "      <td>Not funny</td>\n",
       "    </tr>\n",
       "    <tr>\n",
       "      <th>3</th>\n",
       "      <td>ffd96b9b-89f7-4664-89a9-368ddea2e3e1</td>\n",
       "      <td>ZWYN3M</td>\n",
       "      <td>135</td>\n",
       "      <td>f</td>\n",
       "      <td>accepted</td>\n",
       "      <td>['ThatsNotACat', 'NomNomNom', 'ThatsNotAHat', ...</td>\n",
       "      <td>No</td>\n",
       "      <td>Funny</td>\n",
       "      <td>No</td>\n",
       "      <td>Funny</td>\n",
       "      <td>...</td>\n",
       "      <td>No</td>\n",
       "      <td>Funny</td>\n",
       "      <td>No</td>\n",
       "      <td>Funny</td>\n",
       "      <td>No</td>\n",
       "      <td>Not funny</td>\n",
       "      <td>No</td>\n",
       "      <td>Not funny</td>\n",
       "      <td>No</td>\n",
       "      <td>Slightly funny</td>\n",
       "    </tr>\n",
       "    <tr>\n",
       "      <th>4</th>\n",
       "      <td>b1fbc9a4-f81f-4926-bc8f-c69b249d3259</td>\n",
       "      <td>PYDMU3</td>\n",
       "      <td>138</td>\n",
       "      <td>f</td>\n",
       "      <td>accepted</td>\n",
       "      <td>['TearingPaper', 'ThatsNotAHat', 'Peekaboo', '...</td>\n",
       "      <td>No</td>\n",
       "      <td>Slightly funny</td>\n",
       "      <td>No</td>\n",
       "      <td>Not funny</td>\n",
       "      <td>...</td>\n",
       "      <td>No</td>\n",
       "      <td>Not funny</td>\n",
       "      <td>No</td>\n",
       "      <td>Slightly funny</td>\n",
       "      <td>No</td>\n",
       "      <td>Slightly funny</td>\n",
       "      <td>No</td>\n",
       "      <td>Not funny</td>\n",
       "      <td>Yes</td>\n",
       "      <td>Slightly funny</td>\n",
       "    </tr>\n",
       "  </tbody>\n",
       "</table>\n",
       "<p>5 rows × 66 columns</p>\n",
       "</div>"
      ],
      "text/plain": [
       "                     VIDEOID/RESPONSEID ChildHashedID  age_in_days gender  \\\n",
       "0  4d16ddd9-e207-45d0-bed8-4e2bf8df60ea        FHN26F          105      f   \n",
       "1  73e855f3-6c3c-4673-86a0-c7f3dcfc7531        ZCH3UU          121      m   \n",
       "2  f889fba2-ad55-4b6a-ba67-baf589bf562e        USMEcW          132      f   \n",
       "3  ffd96b9b-89f7-4664-89a9-368ddea2e3e1        ZWYN3M          135      f   \n",
       "4  b1fbc9a4-f81f-4926-bc8f-c69b249d3259        PYDMU3          138      f   \n",
       "\n",
       "    Consent                                          JokeOrder joke1.laugh.1  \\\n",
       "0  accepted  ['ThatsNotACat', 'Peekaboo', 'ThatsNotAHat', '...            No   \n",
       "1  accepted  ['TearingPaper', 'NomNomNom', 'ThatsNotAHat', ...            No   \n",
       "2  accepted  ['TearingPaper', 'Peekaboo', 'ThatsNotAHat', '...            No   \n",
       "3  accepted  ['ThatsNotACat', 'NomNomNom', 'ThatsNotAHat', ...            No   \n",
       "4  accepted  ['TearingPaper', 'ThatsNotAHat', 'Peekaboo', '...            No   \n",
       "\n",
       "  joke1.howfunny.1 joke1.laugh.2 joke1.howfunny.2  ... ThatsNotACat.laugh.2  \\\n",
       "0        Not funny            No        Not funny  ...                   No   \n",
       "1        Not funny            No        Not funny  ...                   No   \n",
       "2        Not funny            No        Not funny  ...                   No   \n",
       "3            Funny            No            Funny  ...                   No   \n",
       "4   Slightly funny            No        Not funny  ...                   No   \n",
       "\n",
       "  ThatsNotACat.howfunny.2 ThatsNotACat.laugh.3 ThatsNotACat.howfunny.3  \\\n",
       "0               Not funny                   No               Not funny   \n",
       "1               Not funny                   No               Not funny   \n",
       "2               Not funny                   No               Not funny   \n",
       "3                   Funny                   No                   Funny   \n",
       "4               Not funny                   No          Slightly funny   \n",
       "\n",
       "  TearingPaper.laugh.1 TearingPaper.howfunny.1 TearingPaper.laugh.2  \\\n",
       "0                   No          Slightly funny                   No   \n",
       "1                   No               Not funny                   No   \n",
       "2                   No               Not funny                   No   \n",
       "3                   No               Not funny                   No   \n",
       "4                   No          Slightly funny                   No   \n",
       "\n",
       "  TearingPaper.howfunny.2 TearingPaper.laugh.3 TearingPaper.howfunny.3  \n",
       "0               Not funny                   No               Not funny  \n",
       "1               Not funny                   No               Not funny  \n",
       "2               Not funny                   No               Not funny  \n",
       "3               Not funny                   No          Slightly funny  \n",
       "4               Not funny                  Yes          Slightly funny  \n",
       "\n",
       "[5 rows x 66 columns]"
      ]
     },
     "execution_count": 17,
     "metadata": {},
     "output_type": "execute_result"
    }
   ],
   "source": [
    "excel_file.head()"
   ]
  },
  {
   "cell_type": "code",
   "execution_count": 20,
   "metadata": {},
   "outputs": [
    {
     "data": {
      "text/plain": [
       "No     58\n",
       "Yes    35\n",
       "Name: joke1.laugh.1, dtype: int64"
      ]
     },
     "execution_count": 20,
     "metadata": {},
     "output_type": "execute_result"
    }
   ],
   "source": [
    "excel_file['joke1.laugh.1'].value_counts()"
   ]
  },
  {
   "cell_type": "code",
   "execution_count": 30,
   "metadata": {},
   "outputs": [],
   "source": [
    "labelled_joke1_1_partial_filename = excel_file['VIDEOID/RESPONSEID'].to_list()"
   ]
  },
  {
   "cell_type": "code",
   "execution_count": 31,
   "metadata": {},
   "outputs": [
    {
     "data": {
      "text/plain": [
       "94"
      ]
     },
     "execution_count": 31,
     "metadata": {},
     "output_type": "execute_result"
    }
   ],
   "source": [
    "len(labelled_joke1_1_partial_filename)"
   ]
  },
  {
   "cell_type": "code",
   "execution_count": 22,
   "metadata": {},
   "outputs": [
    {
     "name": "stdout",
     "output_type": "stream",
     "text": [
      "['joke1.1_0d3cc120-8440-4579-9fd7-e7b88eb9a45f_1561401565511_636.mp3', 'joke1.1_12345-67890-abcdef_1561401565511_636.mp3']\n"
     ]
    }
   ],
   "source": [
    "def filter_file_names(file_list, partial_list):\n",
    "    filtered_files = []\n",
    "    \n",
    "    for file_name in file_list:\n",
    "        if file_name.startswith(\"joke1.1\"):\n",
    "            for partial_name in partial_list:\n",
    "                if partial_name in file_name:\n",
    "                    filtered_files.append(file_name)\n",
    "                    break  # If there's a match, no need to check other partial names\n",
    "    \n",
    "    return filtered_files\n",
    "\n"
   ]
  },
  {
   "cell_type": "code",
   "execution_count": 23,
   "metadata": {},
   "outputs": [],
   "source": [
    "# Define the input directory and output directory\n",
    "input_dir = \"./input_audio/\"\n",
    "\n",
    "# List all files in the input directory\n",
    "all_files = os.listdir(input_dir)\n",
    "\n",
    "# Filter out only the MP3 files\n",
    "mp3_files = [f for f in all_files if f.endswith('.mp3')]"
   ]
  },
  {
   "cell_type": "code",
   "execution_count": 24,
   "metadata": {},
   "outputs": [
    {
     "data": {
      "text/plain": [
       "1538"
      ]
     },
     "execution_count": 24,
     "metadata": {},
     "output_type": "execute_result"
    }
   ],
   "source": [
    "len(mp3_files)"
   ]
  },
  {
   "cell_type": "code",
   "execution_count": 25,
   "metadata": {},
   "outputs": [
    {
     "data": {
      "text/plain": [
       "['joke1.1_088ca5ae-9b47-469b-a197-d7872f5ae9d6_1559764135196_649.mp3',\n",
       " 'joke3.3_20a5c54f-d1b0-48d7-bcad-b86d3f6c659e_1568872464025_665.mp3',\n",
       " 'joke5.3_52d1e1ce-ab4b-4374-94ac-d21eacb0006a_1569452562666_970.mp3',\n",
       " 'joke1.1_5f9cb3c3-dba6-4a27-9881-57a95c7efe7a_1587767083654_972.mp3',\n",
       " 'joke1.1_22fa22ac-9f30-40e2-89b8-41ee3a8e89cf_1586730181497_917.mp3']"
      ]
     },
     "execution_count": 25,
     "metadata": {},
     "output_type": "execute_result"
    }
   ],
   "source": [
    "mp3_files[:5]"
   ]
  },
  {
   "cell_type": "code",
   "execution_count": 32,
   "metadata": {},
   "outputs": [],
   "source": [
    "filtered_files = filter_file_names(mp3_files, labelled_joke1_1_partial_filename)\n"
   ]
  },
  {
   "cell_type": "code",
   "execution_count": 33,
   "metadata": {},
   "outputs": [
    {
     "data": {
      "text/plain": [
       "119"
      ]
     },
     "execution_count": 33,
     "metadata": {},
     "output_type": "execute_result"
    }
   ],
   "source": [
    "len(filtered_files)"
   ]
  },
  {
   "cell_type": "code",
   "execution_count": 34,
   "metadata": {},
   "outputs": [
    {
     "data": {
      "text/plain": [
       "['joke1.1_088ca5ae-9b47-469b-a197-d7872f5ae9d6_1559764135196_649.mp3',\n",
       " 'joke1.1_5f9cb3c3-dba6-4a27-9881-57a95c7efe7a_1587767083654_972.mp3',\n",
       " 'joke1.1_22fa22ac-9f30-40e2-89b8-41ee3a8e89cf_1586730181497_917.mp3',\n",
       " 'joke1.1_2a3186e4-8f1e-42e8-84a3-172610e3dec4_1563800203941_506.mp3',\n",
       " 'joke1.1_9f94b24b-25ac-4266-a3f5-17f48f7feaa6_1556056374180_338.mp3',\n",
       " 'joke1.1_246e8874-e4dd-4fbb-83ce-41d70ca77876_1555356197789_437.mp3',\n",
       " 'joke1.1_1319e4c3-e360-40f4-9279-fb1cfa9ed65a_1561383699061_749.mp3',\n",
       " 'joke1.1_7d9817b4-3ee8-4cb3-a474-1789b08faf3a_1553875275933_594.mp3',\n",
       " 'joke1.1_c4f82db5-2182-47c3-8d85-ac0ca5b205c4_1555968523070_953.mp3',\n",
       " 'joke1.1_e986fa51-78fe-4e4e-99cb-a7540bd83174_1588650654970_398.mp3',\n",
       " 'joke1.1_1319e4c3-e360-40f4-9279-fb1cfa9ed65a_1561383722009_464.mp3',\n",
       " 'joke1.1_60048bfe-321a-4d65-b842-5bea0ed98c58_1585566015223_844.mp3',\n",
       " 'joke1.1_f9ffff9f-7659-4b23-941e-988979f69ded_1579140202923_616.mp3',\n",
       " 'joke1.1_5ce0c525-1675-4a81-a8ce-17adbd0fd06a_1553722447759_636.mp3',\n",
       " 'joke1.1_178df8f7-68a6-464c-a172-4bbb6b05e01a_1560892481724_664.mp3',\n",
       " 'joke1.1_98d41d02-091c-47a6-9b26-09720466e9ab_1557863204252_626.mp3',\n",
       " 'joke1.1_9089f8cf-4947-4301-92e1-1df6ffc8d4fa_1555426222215_544.mp3',\n",
       " 'joke1.1_3e424601-4435-4d85-8467-c800a67e3897_1565627877761_952.mp3',\n",
       " 'joke1.1_78490e71-df00-44cb-9eb7-56d6ad1f98fc_1586365797158_341.mp3',\n",
       " 'joke1.1_f889fba2-ad55-4b6a-ba67-baf589bf562e_1584468519399_776.mp3',\n",
       " 'joke1.1_cabb3197-6b49-4a13-86f7-acf7a0712fa2_1577584067473_210.mp3',\n",
       " 'joke1.1_59ac09f8-074f-4abe-9fa5-7dfbed2a42e4_1559825008851_656.mp3',\n",
       " 'joke1.1_b841a482-9cc9-4a26-ab2c-9cf310018fbc_1556897550692_89.mp3',\n",
       " 'joke1.1_0fa3f4b8-e2f6-44dc-a7a6-a47d49cdd546_1583361241622_731.mp3',\n",
       " 'joke1.1_b828be74-3497-4355-831f-561432a7dc0f_1564170481893_842.mp3',\n",
       " 'joke1.1_4f5ea3ce-6290-48e3-9652-ecd7fe098242_1553651531267_943.mp3',\n",
       " 'joke1.1_fbfbbeeb-46bd-4db7-9684-97a4f2f1e233_1570119731717_139.mp3',\n",
       " 'joke1.1_00f83c60-7438-4986-883f-183eafe9dee3_1584571286857_267.mp3',\n",
       " 'joke1.1_7f03d609-b760-47e3-824d-0b4ed60a7279_1564519294178_426.mp3',\n",
       " 'joke1.1_b67d25c2-2f5f-49fa-a7bc-978ae8479155_1575137229032_456.mp3',\n",
       " 'joke1.1_d64b37a4-8e18-495e-ac6e-4033efb90e2a_1555516203626_552.mp3',\n",
       " 'joke1.1_f02b2413-d44e-4b5f-b583-9541503cfedb_1554151693777_982.mp3',\n",
       " 'joke1.1_64c22370-98c8-42a5-b5b3-8a3abe69674d_1554662060716_445.mp3',\n",
       " 'joke1.1_73e855f3-6c3c-4673-86a0-c7f3dcfc7531_1584361235687_273.mp3',\n",
       " 'joke1.1_cbbf1f10-912d-401f-be86-9f70d316aa37_1563564510599_413.mp3',\n",
       " 'joke1.1_021641b9-34db-4f00-aafc-2a0a6427c653_1582586583104_762.mp3',\n",
       " 'joke1.1_71d77187-b7e3-409b-a29d-b33c1b65e840_1571344872105_527.mp3',\n",
       " 'joke1.1_91e0c834-2ca0-4c3e-8362-2015a1e111e4_1563918564244_86.mp3',\n",
       " 'joke1.1_e8807c2c-2cc3-4c12-a351-70a784ed5f36_1563717504810_417.mp3',\n",
       " 'joke1.1_592e600f-eee0-4c4b-ace6-023544b53db0_1555950694812_200.mp3',\n",
       " 'joke1.1_ffd96b9b-89f7-4664-89a9-368ddea2e3e1_1579388947941_196.mp3',\n",
       " 'joke1.1_0fa3f4b8-e2f6-44dc-a7a6-a47d49cdd546_1583361215310_662.mp3',\n",
       " 'joke1.1_22fa22ac-9f30-40e2-89b8-41ee3a8e89cf_1586730192425_68.mp3',\n",
       " 'joke1.1_484b989b-6fab-4f3e-ab9d-51f5af2f890d_1554154310327_62.mp3',\n",
       " 'joke1.1_175283b5-f591-4f86-a90b-59fa2977750a_1584564277497_569.mp3',\n",
       " 'joke1.1_6649d78d-1c7f-4d00-b34f-f4f01f20d99c_1570373339188_227.mp3',\n",
       " 'joke1.1_b841a482-9cc9-4a26-ab2c-9cf310018fbc_1556897788396_97.mp3',\n",
       " 'joke1.1_d64b37a4-8e18-495e-ac6e-4033efb90e2a_1555516152425_570.mp3',\n",
       " 'joke1.1_52d1e1ce-ab4b-4374-94ac-d21eacb0006a_1569451876078_506.mp3',\n",
       " 'joke1.1_592e600f-eee0-4c4b-ace6-023544b53db0_1555950733001_494.mp3',\n",
       " 'joke1.1_d98a453f-f791-4901-b0e3-02086258331b_1588775434998_420.mp3',\n",
       " 'joke1.1_71130116-6588-4a37-ba71-7d1db292778d_1553798094356_995.mp3',\n",
       " 'joke1.1_a2f5b4c3-8fca-4131-82f3-cd4ea8450d24_1563491387462_253.mp3',\n",
       " 'joke1.1_1319e4c3-e360-40f4-9279-fb1cfa9ed65a_1561383734143_646.mp3',\n",
       " 'joke1.1_d64b37a4-8e18-495e-ac6e-4033efb90e2a_1555516183522_226.mp3',\n",
       " 'joke1.1_20a5c54f-d1b0-48d7-bcad-b86d3f6c659e_1568872159703_6.mp3',\n",
       " 'joke1.1_b28fa101-b608-4c27-8f1e-dcf5cc8005b2_1560270950330_376.mp3',\n",
       " 'joke1.1_d64b37a4-8e18-495e-ac6e-4033efb90e2a_1555516230347_325.mp3',\n",
       " 'joke1.1_6af57deb-8586-4335-b822-46d4b3f9f82a_1586808987038_743.mp3',\n",
       " 'joke1.1_dba55702-ac39-4c66-b5b9-0cbe06652591_1572007881531_532.mp3',\n",
       " 'joke1.1_b841a482-9cc9-4a26-ab2c-9cf310018fbc_1556897520293_410.mp3',\n",
       " 'joke1.1_688b198e-7c1c-4407-b398-3e61727a573f_1588366793748_382.mp3',\n",
       " 'joke1.1_205a5734-4ba8-4962-89d6-52fcdf12e11d_1554162278036_812.mp3',\n",
       " 'joke1.1_030a16c4-d1a3-411c-a9d7-d574b89ea5b2_1584960095358_458.mp3',\n",
       " 'joke1.1_73c6f84b-5d0e-489d-bbd8-9fe51e8e4b77_1554810815046_265.mp3',\n",
       " 'joke1.1_cabb3197-6b49-4a13-86f7-acf7a0712fa2_1577584101331_783.mp3',\n",
       " 'joke1.1_5139b277-9f48-4a13-88f9-80cab409c545_1586098223341_255.mp3',\n",
       " 'joke1.1_381177fa-4ace-44e3-b294-bf1a54c383f8_1583252086378_265.mp3',\n",
       " 'joke1.1_dba55702-ac39-4c66-b5b9-0cbe06652591_1572007918603_418.mp3',\n",
       " 'joke1.1_753443c3-8003-40c7-8391-3f5dc0ec8162_1566604172047_803.mp3',\n",
       " 'joke1.1_0788fd8e-9fec-4f1e-98d1-aee349b370c0_1589490642139_105.mp3',\n",
       " 'joke1.1_b42fe590-4a5f-4231-a202-92a183b7b806_1554900592582_234.mp3',\n",
       " 'joke1.1_4d16ddd9-e207-45d0-bed8-4e2bf8df60ea_1587233794827_922.mp3',\n",
       " 'joke1.1_c0037173-8766-4eee-9c3e-7e943f09a8ff_1583284663327_722.mp3',\n",
       " 'joke1.1_aa03670f-5254-4ef1-8517-b2fc1316845e_1554046279944_839.mp3',\n",
       " 'joke1.1_fa172c2c-3715-4bfa-9bbc-09de0cd316a7_1585935484320_88.mp3',\n",
       " 'joke1.1_05c5340b-81c2-4edc-b3f4-1f0a860f9206_1554477601787_601.mp3',\n",
       " 'joke1.1_d90eddea-6aed-4f9a-aa45-37c9da6ba29f_1580770965632_847.mp3',\n",
       " 'joke1.1_f24c0022-56b4-4bec-8265-c942fc34020c_1568227325310_747.mp3',\n",
       " 'joke1.1_bf778fe2-6825-4be6-9e78-3726e6cbbc36_1586956204220_723.mp3',\n",
       " 'joke1.1_d37267f7-045f-4a9c-b593-75fa4a7c10bf_1586465446570_589.mp3',\n",
       " 'joke1.1_d90eddea-6aed-4f9a-aa45-37c9da6ba29f_1580770950289_740.mp3',\n",
       " 'joke1.1_cf9963f0-eaf3-46ad-b553-fab4e9a24503_1579618209263_915.mp3',\n",
       " 'joke1.1_9089f8cf-4947-4301-92e1-1df6ffc8d4fa_1555426324350_394.mp3',\n",
       " 'joke1.1_aa03670f-5254-4ef1-8517-b2fc1316845e_1554046331373_574.mp3',\n",
       " 'joke1.1_7aeaa6c5-7941-4d55-b29d-852255290f84_1572977675655_751.mp3',\n",
       " 'joke1.1_acd019a0-bcba-4de8-9aad-263b6333e044_1555946658938_34.mp3',\n",
       " 'joke1.1_c0037173-8766-4eee-9c3e-7e943f09a8ff_1583284635391_2.mp3',\n",
       " 'joke1.1_0d5cdeb5-d70e-4715-8fdc-a9dee5b2396e_1573361812178_58.mp3',\n",
       " 'joke1.1_5dcc826c-e70a-4c28-bd4e-dca0e9023fa8_1560890909506_729.mp3',\n",
       " 'joke1.1_dfbe3248-21ac-49d9-8da0-fea5314856b1_1585326431489_495.mp3',\n",
       " 'joke1.1_e8807c2c-2cc3-4c12-a351-70a784ed5f36_1563717388349_887.mp3',\n",
       " 'joke1.1_a33829cd-c0b8-4daf-9d2e-5689e9591413_1558558498260_56.mp3',\n",
       " 'joke1.1_98d41d02-091c-47a6-9b26-09720466e9ab_1557863232801_883.mp3',\n",
       " 'joke1.1_b1fbc9a4-f81f-4926-bc8f-c69b249d3259_1566420593208_412.mp3',\n",
       " 'joke1.1_4901fe93-aaa8-4557-9717-34c9c845e4af_1566148660975_218.mp3',\n",
       " 'joke1.1_9089f8cf-4947-4301-92e1-1df6ffc8d4fa_1555426353279_632.mp3',\n",
       " 'joke1.1_8cdac953-fe67-44d1-a875-77c9eae75984_1583248956243_366.mp3',\n",
       " 'joke1.1_079bdab2-71e0-4969-b222-c3d606a31701_1586043211755_943.mp3',\n",
       " 'joke1.1_a2f5b4c3-8fca-4131-82f3-cd4ea8450d24_1563491364081_370.mp3',\n",
       " 'joke1.1_9089f8cf-4947-4301-92e1-1df6ffc8d4fa_1555426191051_921.mp3',\n",
       " 'joke1.1_dfbe3248-21ac-49d9-8da0-fea5314856b1_1585326472515_357.mp3',\n",
       " 'joke1.1_088ca5ae-9b47-469b-a197-d7872f5ae9d6_1559764109089_445.mp3',\n",
       " 'joke1.1_fe12cbe7-bf8b-40a0-aff6-ffdfa29af575_1556299141934_654.mp3',\n",
       " 'joke1.1_8a85d911-0df9-412d-ace0-d3901cada917_1556217778536_908.mp3',\n",
       " 'joke1.1_e813c4c8-0ab1-4812-8e33-de2e05aa610c_1582306731403_49.mp3',\n",
       " 'joke1.1_0c6a9044-d414-41fc-ad1c-0ea3535bdd41_1588880103063_129.mp3',\n",
       " 'joke1.1_5dcc826c-e70a-4c28-bd4e-dca0e9023fa8_1560890971288_431.mp3',\n",
       " 'joke1.1_4d16ddd9-e207-45d0-bed8-4e2bf8df60ea_1587233759265_222.mp3',\n",
       " 'joke1.1_9089f8cf-4947-4301-92e1-1df6ffc8d4fa_1555426252697_97.mp3',\n",
       " 'joke1.1_b828be74-3497-4355-831f-561432a7dc0f_1564170445877_776.mp3',\n",
       " 'joke1.1_f4e620b4-8cf1-485a-961b-3a0828415ec5_1577919308877_656.mp3',\n",
       " 'joke1.1_60048bfe-321a-4d65-b842-5bea0ed98c58_1585566042766_570.mp3',\n",
       " 'joke1.1_60083074-de80-48f1-899a-437c3952ae59_1561479890409_838.mp3',\n",
       " 'joke1.1_164e487b-e4b6-4cb0-bb05-56a1f65e8324_1563481552198_872.mp3',\n",
       " 'joke1.1_7f03d609-b760-47e3-824d-0b4ed60a7279_1564519274675_705.mp3',\n",
       " 'joke1.1_b828be74-3497-4355-831f-561432a7dc0f_1564170505278_659.mp3',\n",
       " 'joke1.1_b828be74-3497-4355-831f-561432a7dc0f_1564170410271_810.mp3',\n",
       " 'joke1.1_40729233-7572-49cc-b765-38eb8f541372_1572288349857_526.mp3']"
      ]
     },
     "execution_count": 34,
     "metadata": {},
     "output_type": "execute_result"
    }
   ],
   "source": [
    "filtered_files"
   ]
  },
  {
   "cell_type": "code",
   "execution_count": 38,
   "metadata": {},
   "outputs": [
    {
     "name": "stdout",
     "output_type": "stream",
     "text": [
      "Using device cpu\n",
      "training with dropout=0.0\n",
      "Loading checkpoint at: checkpoints/in_use/resnet_with_augmentation/best.pth.tar\n",
      "Loading checkpoint at step:  60600\n"
     ]
    },
    {
     "name": "stderr",
     "output_type": "stream",
     "text": [
      "100%|██████████| 176/176 [01:49<00:00,  1.61it/s]\n"
     ]
    },
    {
     "name": "stdout",
     "output_type": "stream",
     "text": [
      "Using device cpu\n",
      "training with dropout=0.0\n",
      "Loading checkpoint at: checkpoints/in_use/resnet_with_augmentation/best.pth.tar\n",
      "Loading checkpoint at step:  60600\n"
     ]
    },
    {
     "name": "stderr",
     "output_type": "stream",
     "text": [
      "100%|██████████| 92/92 [00:57<00:00,  1.61it/s]\n"
     ]
    },
    {
     "name": "stdout",
     "output_type": "stream",
     "text": [
      "Using device cpu\n",
      "training with dropout=0.0\n",
      "Loading checkpoint at: checkpoints/in_use/resnet_with_augmentation/best.pth.tar\n",
      "Loading checkpoint at step:  60600\n"
     ]
    },
    {
     "name": "stderr",
     "output_type": "stream",
     "text": [
      "100%|██████████| 11/11 [00:07<00:00,  1.42it/s]\n"
     ]
    },
    {
     "name": "stdout",
     "output_type": "stream",
     "text": [
      "Using device cpu\n",
      "training with dropout=0.0\n",
      "Loading checkpoint at: checkpoints/in_use/resnet_with_augmentation/best.pth.tar\n",
      "Loading checkpoint at step:  60600\n"
     ]
    },
    {
     "name": "stderr",
     "output_type": "stream",
     "text": [
      "100%|██████████| 19/19 [00:12<00:00,  1.52it/s]\n"
     ]
    },
    {
     "name": "stdout",
     "output_type": "stream",
     "text": [
      "Using device cpu\n",
      "training with dropout=0.0\n",
      "Loading checkpoint at: checkpoints/in_use/resnet_with_augmentation/best.pth.tar\n",
      "Loading checkpoint at step:  60600\n"
     ]
    },
    {
     "name": "stderr",
     "output_type": "stream",
     "text": [
      "100%|██████████| 75/75 [00:47<00:00,  1.59it/s]\n"
     ]
    },
    {
     "name": "stdout",
     "output_type": "stream",
     "text": [
      "Using device cpu\n",
      "training with dropout=0.0\n",
      "Loading checkpoint at: checkpoints/in_use/resnet_with_augmentation/best.pth.tar\n",
      "Loading checkpoint at step:  60600\n"
     ]
    },
    {
     "name": "stderr",
     "output_type": "stream",
     "text": [
      "100%|██████████| 107/107 [01:00<00:00,  1.76it/s]\n"
     ]
    },
    {
     "name": "stdout",
     "output_type": "stream",
     "text": [
      "Using device cpu\n",
      "training with dropout=0.0\n",
      "Loading checkpoint at: checkpoints/in_use/resnet_with_augmentation/best.pth.tar\n",
      "Loading checkpoint at step:  60600\n"
     ]
    },
    {
     "name": "stderr",
     "output_type": "stream",
     "text": [
      "100%|██████████| 92/92 [00:51<00:00,  1.78it/s]\n"
     ]
    },
    {
     "name": "stdout",
     "output_type": "stream",
     "text": [
      "Using device cpu\n",
      "training with dropout=0.0\n",
      "Loading checkpoint at: checkpoints/in_use/resnet_with_augmentation/best.pth.tar\n",
      "Loading checkpoint at step:  60600\n"
     ]
    },
    {
     "name": "stderr",
     "output_type": "stream",
     "text": [
      "100%|██████████| 104/104 [00:58<00:00,  1.79it/s]\n"
     ]
    },
    {
     "name": "stdout",
     "output_type": "stream",
     "text": [
      "Using device cpu\n",
      "training with dropout=0.0\n",
      "Loading checkpoint at: checkpoints/in_use/resnet_with_augmentation/best.pth.tar\n",
      "Loading checkpoint at step:  60600\n"
     ]
    },
    {
     "name": "stderr",
     "output_type": "stream",
     "text": [
      "100%|██████████| 76/76 [00:43<00:00,  1.76it/s]\n"
     ]
    },
    {
     "name": "stdout",
     "output_type": "stream",
     "text": [
      "Using device cpu\n",
      "training with dropout=0.0\n",
      "Loading checkpoint at: checkpoints/in_use/resnet_with_augmentation/best.pth.tar\n",
      "Loading checkpoint at step:  60600\n"
     ]
    },
    {
     "name": "stderr",
     "output_type": "stream",
     "text": [
      "100%|██████████| 130/130 [01:13<00:00,  1.78it/s]\n"
     ]
    },
    {
     "name": "stdout",
     "output_type": "stream",
     "text": [
      "Using device cpu\n",
      "training with dropout=0.0\n",
      "Loading checkpoint at: checkpoints/in_use/resnet_with_augmentation/best.pth.tar\n",
      "Loading checkpoint at step:  60600\n"
     ]
    },
    {
     "name": "stderr",
     "output_type": "stream",
     "text": [
      "100%|██████████| 46/46 [00:26<00:00,  1.74it/s]\n"
     ]
    },
    {
     "name": "stdout",
     "output_type": "stream",
     "text": [
      "Using device cpu\n",
      "training with dropout=0.0\n",
      "Loading checkpoint at: checkpoints/in_use/resnet_with_augmentation/best.pth.tar\n",
      "Loading checkpoint at step:  60600\n"
     ]
    },
    {
     "name": "stderr",
     "output_type": "stream",
     "text": [
      "100%|██████████| 45/45 [00:25<00:00,  1.74it/s]\n"
     ]
    },
    {
     "name": "stdout",
     "output_type": "stream",
     "text": [
      "Using device cpu\n",
      "training with dropout=0.0\n",
      "Loading checkpoint at: checkpoints/in_use/resnet_with_augmentation/best.pth.tar\n",
      "Loading checkpoint at step:  60600\n"
     ]
    },
    {
     "name": "stderr",
     "output_type": "stream",
     "text": [
      "100%|██████████| 56/56 [00:31<00:00,  1.76it/s]\n"
     ]
    },
    {
     "name": "stdout",
     "output_type": "stream",
     "text": [
      "Using device cpu\n",
      "training with dropout=0.0\n",
      "Loading checkpoint at: checkpoints/in_use/resnet_with_augmentation/best.pth.tar\n",
      "Loading checkpoint at step:  60600\n"
     ]
    },
    {
     "name": "stderr",
     "output_type": "stream",
     "text": [
      "100%|██████████| 72/72 [00:40<00:00,  1.77it/s]\n"
     ]
    },
    {
     "name": "stdout",
     "output_type": "stream",
     "text": [
      "Using device cpu\n",
      "training with dropout=0.0\n",
      "Loading checkpoint at: checkpoints/in_use/resnet_with_augmentation/best.pth.tar\n",
      "Loading checkpoint at step:  60600\n"
     ]
    },
    {
     "name": "stderr",
     "output_type": "stream",
     "text": [
      "100%|██████████| 97/97 [00:54<00:00,  1.78it/s]\n"
     ]
    },
    {
     "name": "stdout",
     "output_type": "stream",
     "text": [
      "Using device cpu\n",
      "training with dropout=0.0\n",
      "Loading checkpoint at: checkpoints/in_use/resnet_with_augmentation/best.pth.tar\n",
      "Loading checkpoint at step:  60600\n"
     ]
    },
    {
     "name": "stderr",
     "output_type": "stream",
     "text": [
      "100%|██████████| 49/49 [00:27<00:00,  1.77it/s]\n"
     ]
    },
    {
     "name": "stdout",
     "output_type": "stream",
     "text": [
      "Using device cpu\n",
      "training with dropout=0.0\n",
      "Loading checkpoint at: checkpoints/in_use/resnet_with_augmentation/best.pth.tar\n",
      "Loading checkpoint at step:  60600\n"
     ]
    },
    {
     "name": "stderr",
     "output_type": "stream",
     "text": [
      "100%|██████████| 55/55 [00:31<00:00,  1.77it/s]\n"
     ]
    },
    {
     "name": "stdout",
     "output_type": "stream",
     "text": [
      "Using device cpu\n",
      "training with dropout=0.0\n",
      "Loading checkpoint at: checkpoints/in_use/resnet_with_augmentation/best.pth.tar\n",
      "Loading checkpoint at step:  60600\n"
     ]
    },
    {
     "name": "stderr",
     "output_type": "stream",
     "text": [
      "100%|██████████| 96/96 [00:54<00:00,  1.77it/s]\n"
     ]
    },
    {
     "name": "stdout",
     "output_type": "stream",
     "text": [
      "Using device cpu\n",
      "training with dropout=0.0\n",
      "Loading checkpoint at: checkpoints/in_use/resnet_with_augmentation/best.pth.tar\n",
      "Loading checkpoint at step:  60600\n"
     ]
    },
    {
     "name": "stderr",
     "output_type": "stream",
     "text": [
      "100%|██████████| 116/116 [01:05<00:00,  1.76it/s]\n"
     ]
    },
    {
     "name": "stdout",
     "output_type": "stream",
     "text": [
      "Using device cpu\n",
      "training with dropout=0.0\n",
      "Loading checkpoint at: checkpoints/in_use/resnet_with_augmentation/best.pth.tar\n",
      "Loading checkpoint at step:  60600\n"
     ]
    },
    {
     "name": "stderr",
     "output_type": "stream",
     "text": [
      "100%|██████████| 255/255 [02:21<00:00,  1.80it/s]\n"
     ]
    },
    {
     "name": "stdout",
     "output_type": "stream",
     "text": [
      "Using device cpu\n",
      "training with dropout=0.0\n",
      "Loading checkpoint at: checkpoints/in_use/resnet_with_augmentation/best.pth.tar\n",
      "Loading checkpoint at step:  60600\n"
     ]
    },
    {
     "name": "stderr",
     "output_type": "stream",
     "text": [
      "100%|██████████| 43/43 [00:24<00:00,  1.74it/s]\n"
     ]
    },
    {
     "name": "stdout",
     "output_type": "stream",
     "text": [
      "Using device cpu\n",
      "training with dropout=0.0\n",
      "Loading checkpoint at: checkpoints/in_use/resnet_with_augmentation/best.pth.tar\n",
      "Loading checkpoint at step:  60600\n"
     ]
    },
    {
     "name": "stderr",
     "output_type": "stream",
     "text": [
      "100%|██████████| 143/143 [01:31<00:00,  1.56it/s]\n"
     ]
    },
    {
     "name": "stdout",
     "output_type": "stream",
     "text": [
      "Using device cpu\n",
      "training with dropout=0.0\n",
      "Loading checkpoint at: checkpoints/in_use/resnet_with_augmentation/best.pth.tar\n",
      "Loading checkpoint at step:  60600\n"
     ]
    },
    {
     "name": "stderr",
     "output_type": "stream",
     "text": [
      "100%|██████████| 100/100 [01:05<00:00,  1.52it/s]\n"
     ]
    },
    {
     "name": "stdout",
     "output_type": "stream",
     "text": [
      "Using device cpu\n",
      "training with dropout=0.0\n",
      "Loading checkpoint at: checkpoints/in_use/resnet_with_augmentation/best.pth.tar\n",
      "Loading checkpoint at step:  60600\n"
     ]
    },
    {
     "name": "stderr",
     "output_type": "stream",
     "text": [
      "100%|██████████| 101/101 [01:01<00:00,  1.65it/s]\n"
     ]
    },
    {
     "name": "stdout",
     "output_type": "stream",
     "text": [
      "Using device cpu\n",
      "training with dropout=0.0\n",
      "Loading checkpoint at: checkpoints/in_use/resnet_with_augmentation/best.pth.tar\n",
      "Loading checkpoint at step:  60600\n"
     ]
    },
    {
     "name": "stderr",
     "output_type": "stream",
     "text": [
      "100%|██████████| 93/93 [00:56<00:00,  1.65it/s]\n"
     ]
    },
    {
     "name": "stdout",
     "output_type": "stream",
     "text": [
      "Using device cpu\n",
      "training with dropout=0.0\n",
      "Loading checkpoint at: checkpoints/in_use/resnet_with_augmentation/best.pth.tar\n",
      "Loading checkpoint at step:  60600\n"
     ]
    },
    {
     "name": "stderr",
     "output_type": "stream",
     "text": [
      "100%|██████████| 87/87 [00:53<00:00,  1.62it/s]\n"
     ]
    },
    {
     "name": "stdout",
     "output_type": "stream",
     "text": [
      "Using device cpu\n",
      "training with dropout=0.0\n",
      "Loading checkpoint at: checkpoints/in_use/resnet_with_augmentation/best.pth.tar\n",
      "Loading checkpoint at step:  60600\n"
     ]
    },
    {
     "name": "stderr",
     "output_type": "stream",
     "text": [
      "100%|██████████| 73/73 [00:50<00:00,  1.43it/s]\n"
     ]
    },
    {
     "name": "stdout",
     "output_type": "stream",
     "text": [
      "Using device cpu\n",
      "training with dropout=0.0\n",
      "Loading checkpoint at: checkpoints/in_use/resnet_with_augmentation/best.pth.tar\n",
      "Loading checkpoint at step:  60600\n"
     ]
    },
    {
     "name": "stderr",
     "output_type": "stream",
     "text": [
      "100%|██████████| 139/139 [01:33<00:00,  1.49it/s]\n"
     ]
    },
    {
     "name": "stdout",
     "output_type": "stream",
     "text": [
      "Using device cpu\n",
      "training with dropout=0.0\n",
      "Loading checkpoint at: checkpoints/in_use/resnet_with_augmentation/best.pth.tar\n",
      "Loading checkpoint at step:  60600\n"
     ]
    },
    {
     "name": "stderr",
     "output_type": "stream",
     "text": [
      "100%|██████████| 55/55 [00:34<00:00,  1.58it/s]\n"
     ]
    },
    {
     "name": "stdout",
     "output_type": "stream",
     "text": [
      "Using device cpu\n",
      "training with dropout=0.0\n",
      "Loading checkpoint at: checkpoints/in_use/resnet_with_augmentation/best.pth.tar\n",
      "Loading checkpoint at step:  60600\n"
     ]
    },
    {
     "name": "stderr",
     "output_type": "stream",
     "text": [
      "100%|██████████| 138/138 [01:35<00:00,  1.45it/s]\n"
     ]
    },
    {
     "name": "stdout",
     "output_type": "stream",
     "text": [
      "Using device cpu\n",
      "training with dropout=0.0\n",
      "Loading checkpoint at: checkpoints/in_use/resnet_with_augmentation/best.pth.tar\n",
      "Loading checkpoint at step:  60600\n"
     ]
    },
    {
     "name": "stderr",
     "output_type": "stream",
     "text": [
      "100%|██████████| 30/30 [00:17<00:00,  1.67it/s]\n"
     ]
    },
    {
     "name": "stdout",
     "output_type": "stream",
     "text": [
      "Using device cpu\n",
      "training with dropout=0.0\n",
      "Loading checkpoint at: checkpoints/in_use/resnet_with_augmentation/best.pth.tar\n",
      "Loading checkpoint at step:  60600\n"
     ]
    },
    {
     "name": "stderr",
     "output_type": "stream",
     "text": [
      "100%|██████████| 97/97 [01:09<00:00,  1.40it/s]\n"
     ]
    },
    {
     "name": "stdout",
     "output_type": "stream",
     "text": [
      "Using device cpu\n",
      "training with dropout=0.0\n",
      "Loading checkpoint at: checkpoints/in_use/resnet_with_augmentation/best.pth.tar\n",
      "Loading checkpoint at step:  60600\n"
     ]
    },
    {
     "name": "stderr",
     "output_type": "stream",
     "text": [
      "100%|██████████| 102/102 [01:11<00:00,  1.42it/s]\n"
     ]
    },
    {
     "name": "stdout",
     "output_type": "stream",
     "text": [
      "Using device cpu\n",
      "training with dropout=0.0\n",
      "Loading checkpoint at: checkpoints/in_use/resnet_with_augmentation/best.pth.tar\n",
      "Loading checkpoint at step:  60600\n"
     ]
    },
    {
     "name": "stderr",
     "output_type": "stream",
     "text": [
      "100%|██████████| 206/206 [02:25<00:00,  1.42it/s]\n"
     ]
    },
    {
     "name": "stdout",
     "output_type": "stream",
     "text": [
      "Using device cpu\n",
      "training with dropout=0.0\n",
      "Loading checkpoint at: checkpoints/in_use/resnet_with_augmentation/best.pth.tar\n",
      "Loading checkpoint at step:  60600\n"
     ]
    },
    {
     "name": "stderr",
     "output_type": "stream",
     "text": [
      "100%|██████████| 248/248 [02:26<00:00,  1.70it/s]\n"
     ]
    },
    {
     "name": "stdout",
     "output_type": "stream",
     "text": [
      "Using device cpu\n",
      "training with dropout=0.0\n",
      "Loading checkpoint at: checkpoints/in_use/resnet_with_augmentation/best.pth.tar\n",
      "Loading checkpoint at step:  60600\n"
     ]
    },
    {
     "name": "stderr",
     "output_type": "stream",
     "text": [
      "100%|██████████| 66/66 [00:39<00:00,  1.69it/s]\n"
     ]
    },
    {
     "name": "stdout",
     "output_type": "stream",
     "text": [
      "Using device cpu\n",
      "training with dropout=0.0\n",
      "Loading checkpoint at: checkpoints/in_use/resnet_with_augmentation/best.pth.tar\n",
      "Loading checkpoint at step:  60600\n"
     ]
    },
    {
     "name": "stderr",
     "output_type": "stream",
     "text": [
      "100%|██████████| 71/71 [00:42<00:00,  1.68it/s]\n"
     ]
    },
    {
     "name": "stdout",
     "output_type": "stream",
     "text": [
      "Using device cpu\n",
      "training with dropout=0.0\n",
      "Loading checkpoint at: checkpoints/in_use/resnet_with_augmentation/best.pth.tar\n",
      "Loading checkpoint at step:  60600\n"
     ]
    },
    {
     "name": "stderr",
     "output_type": "stream",
     "text": [
      "100%|██████████| 70/70 [00:41<00:00,  1.70it/s]\n"
     ]
    },
    {
     "name": "stdout",
     "output_type": "stream",
     "text": [
      "Using device cpu\n",
      "training with dropout=0.0\n",
      "Loading checkpoint at: checkpoints/in_use/resnet_with_augmentation/best.pth.tar\n",
      "Loading checkpoint at step:  60600\n"
     ]
    },
    {
     "name": "stderr",
     "output_type": "stream",
     "text": [
      "100%|██████████| 56/56 [00:33<00:00,  1.67it/s]\n"
     ]
    },
    {
     "name": "stdout",
     "output_type": "stream",
     "text": [
      "Using device cpu\n",
      "training with dropout=0.0\n",
      "Loading checkpoint at: checkpoints/in_use/resnet_with_augmentation/best.pth.tar\n",
      "Loading checkpoint at step:  60600\n"
     ]
    },
    {
     "name": "stderr",
     "output_type": "stream",
     "text": [
      "100%|██████████| 85/85 [00:51<00:00,  1.64it/s]\n"
     ]
    },
    {
     "name": "stdout",
     "output_type": "stream",
     "text": [
      "Using device cpu\n",
      "training with dropout=0.0\n",
      "Loading checkpoint at: checkpoints/in_use/resnet_with_augmentation/best.pth.tar\n",
      "Loading checkpoint at step:  60600\n"
     ]
    },
    {
     "name": "stderr",
     "output_type": "stream",
     "text": [
      "100%|██████████| 41/41 [00:24<00:00,  1.70it/s]\n"
     ]
    },
    {
     "name": "stdout",
     "output_type": "stream",
     "text": [
      "Using device cpu\n",
      "training with dropout=0.0\n",
      "Loading checkpoint at: checkpoints/in_use/resnet_with_augmentation/best.pth.tar\n",
      "Loading checkpoint at step:  60600\n"
     ]
    },
    {
     "name": "stderr",
     "output_type": "stream",
     "text": [
      "100%|██████████| 121/121 [01:10<00:00,  1.72it/s]\n"
     ]
    },
    {
     "name": "stdout",
     "output_type": "stream",
     "text": [
      "Using device cpu\n",
      "training with dropout=0.0\n",
      "Loading checkpoint at: checkpoints/in_use/resnet_with_augmentation/best.pth.tar\n",
      "Loading checkpoint at step:  60600\n"
     ]
    },
    {
     "name": "stderr",
     "output_type": "stream",
     "text": [
      "100%|██████████| 98/98 [01:04<00:00,  1.52it/s]\n"
     ]
    },
    {
     "name": "stdout",
     "output_type": "stream",
     "text": [
      "Using device cpu\n",
      "training with dropout=0.0\n",
      "Loading checkpoint at: checkpoints/in_use/resnet_with_augmentation/best.pth.tar\n",
      "Loading checkpoint at step:  60600\n"
     ]
    },
    {
     "name": "stderr",
     "output_type": "stream",
     "text": [
      "100%|██████████| 65/65 [00:43<00:00,  1.50it/s]\n"
     ]
    },
    {
     "name": "stdout",
     "output_type": "stream",
     "text": [
      "Using device cpu\n",
      "training with dropout=0.0\n",
      "Loading checkpoint at: checkpoints/in_use/resnet_with_augmentation/best.pth.tar\n",
      "Loading checkpoint at step:  60600\n"
     ]
    },
    {
     "name": "stderr",
     "output_type": "stream",
     "text": [
      "100%|██████████| 91/91 [01:00<00:00,  1.50it/s]\n"
     ]
    },
    {
     "name": "stdout",
     "output_type": "stream",
     "text": [
      "Using device cpu\n",
      "training with dropout=0.0\n",
      "Loading checkpoint at: checkpoints/in_use/resnet_with_augmentation/best.pth.tar\n",
      "Loading checkpoint at step:  60600\n"
     ]
    },
    {
     "name": "stderr",
     "output_type": "stream",
     "text": [
      "100%|██████████| 81/81 [00:51<00:00,  1.59it/s]\n"
     ]
    },
    {
     "name": "stdout",
     "output_type": "stream",
     "text": [
      "Using device cpu\n",
      "training with dropout=0.0\n",
      "Loading checkpoint at: checkpoints/in_use/resnet_with_augmentation/best.pth.tar\n",
      "Loading checkpoint at step:  60600\n"
     ]
    },
    {
     "name": "stderr",
     "output_type": "stream",
     "text": [
      "100%|██████████| 65/65 [00:37<00:00,  1.72it/s]\n"
     ]
    },
    {
     "name": "stdout",
     "output_type": "stream",
     "text": [
      "Using device cpu\n",
      "training with dropout=0.0\n",
      "Loading checkpoint at: checkpoints/in_use/resnet_with_augmentation/best.pth.tar\n",
      "Loading checkpoint at step:  60600\n"
     ]
    },
    {
     "name": "stderr",
     "output_type": "stream",
     "text": [
      "100%|██████████| 15/15 [00:09<00:00,  1.59it/s]\n"
     ]
    },
    {
     "name": "stdout",
     "output_type": "stream",
     "text": [
      "Using device cpu\n",
      "training with dropout=0.0\n",
      "Loading checkpoint at: checkpoints/in_use/resnet_with_augmentation/best.pth.tar\n",
      "Loading checkpoint at step:  60600\n"
     ]
    },
    {
     "name": "stderr",
     "output_type": "stream",
     "text": [
      "100%|██████████| 33/33 [00:21<00:00,  1.52it/s]\n"
     ]
    },
    {
     "name": "stdout",
     "output_type": "stream",
     "text": [
      "Using device cpu\n",
      "training with dropout=0.0\n",
      "Loading checkpoint at: checkpoints/in_use/resnet_with_augmentation/best.pth.tar\n",
      "Loading checkpoint at step:  60600\n"
     ]
    },
    {
     "name": "stderr",
     "output_type": "stream",
     "text": [
      "100%|██████████| 128/128 [01:23<00:00,  1.54it/s]\n"
     ]
    },
    {
     "name": "stdout",
     "output_type": "stream",
     "text": [
      "Using device cpu\n",
      "training with dropout=0.0\n",
      "Loading checkpoint at: checkpoints/in_use/resnet_with_augmentation/best.pth.tar\n",
      "Loading checkpoint at step:  60600\n"
     ]
    },
    {
     "name": "stderr",
     "output_type": "stream",
     "text": [
      "100%|██████████| 114/114 [01:11<00:00,  1.59it/s]\n"
     ]
    },
    {
     "name": "stdout",
     "output_type": "stream",
     "text": [
      "Using device cpu\n",
      "training with dropout=0.0\n",
      "Loading checkpoint at: checkpoints/in_use/resnet_with_augmentation/best.pth.tar\n",
      "Loading checkpoint at step:  60600\n"
     ]
    },
    {
     "name": "stderr",
     "output_type": "stream",
     "text": [
      "100%|██████████| 48/48 [00:29<00:00,  1.65it/s]\n"
     ]
    },
    {
     "name": "stdout",
     "output_type": "stream",
     "text": [
      "Using device cpu\n",
      "training with dropout=0.0\n",
      "Loading checkpoint at: checkpoints/in_use/resnet_with_augmentation/best.pth.tar\n",
      "Loading checkpoint at step:  60600\n"
     ]
    },
    {
     "name": "stderr",
     "output_type": "stream",
     "text": [
      "100%|██████████| 116/116 [01:08<00:00,  1.68it/s]\n"
     ]
    },
    {
     "name": "stdout",
     "output_type": "stream",
     "text": [
      "Using device cpu\n",
      "training with dropout=0.0\n",
      "Loading checkpoint at: checkpoints/in_use/resnet_with_augmentation/best.pth.tar\n",
      "Loading checkpoint at step:  60600\n"
     ]
    },
    {
     "name": "stderr",
     "output_type": "stream",
     "text": [
      "100%|██████████| 41/41 [00:26<00:00,  1.55it/s]\n"
     ]
    },
    {
     "name": "stdout",
     "output_type": "stream",
     "text": [
      "Using device cpu\n",
      "training with dropout=0.0\n",
      "Loading checkpoint at: checkpoints/in_use/resnet_with_augmentation/best.pth.tar\n",
      "Loading checkpoint at step:  60600\n"
     ]
    },
    {
     "name": "stderr",
     "output_type": "stream",
     "text": [
      "100%|██████████| 58/58 [00:35<00:00,  1.63it/s]\n"
     ]
    },
    {
     "name": "stdout",
     "output_type": "stream",
     "text": [
      "Using device cpu\n",
      "training with dropout=0.0\n",
      "Loading checkpoint at: checkpoints/in_use/resnet_with_augmentation/best.pth.tar\n",
      "Loading checkpoint at step:  60600\n"
     ]
    },
    {
     "name": "stderr",
     "output_type": "stream",
     "text": [
      "100%|██████████| 65/65 [00:38<00:00,  1.67it/s]\n"
     ]
    },
    {
     "name": "stdout",
     "output_type": "stream",
     "text": [
      "Using device cpu\n",
      "training with dropout=0.0\n",
      "Loading checkpoint at: checkpoints/in_use/resnet_with_augmentation/best.pth.tar\n",
      "Loading checkpoint at step:  60600\n"
     ]
    },
    {
     "name": "stderr",
     "output_type": "stream",
     "text": [
      "100%|██████████| 79/79 [00:47<00:00,  1.65it/s]\n"
     ]
    },
    {
     "name": "stdout",
     "output_type": "stream",
     "text": [
      "Using device cpu\n",
      "training with dropout=0.0\n",
      "Loading checkpoint at: checkpoints/in_use/resnet_with_augmentation/best.pth.tar\n",
      "Loading checkpoint at step:  60600\n"
     ]
    },
    {
     "name": "stderr",
     "output_type": "stream",
     "text": [
      "100%|██████████| 52/52 [00:32<00:00,  1.61it/s]\n"
     ]
    },
    {
     "name": "stdout",
     "output_type": "stream",
     "text": [
      "Using device cpu\n",
      "training with dropout=0.0\n",
      "Loading checkpoint at: checkpoints/in_use/resnet_with_augmentation/best.pth.tar\n",
      "Loading checkpoint at step:  60600\n"
     ]
    },
    {
     "name": "stderr",
     "output_type": "stream",
     "text": [
      "100%|██████████| 112/112 [01:06<00:00,  1.68it/s]\n"
     ]
    },
    {
     "name": "stdout",
     "output_type": "stream",
     "text": [
      "Using device cpu\n",
      "training with dropout=0.0\n",
      "Loading checkpoint at: checkpoints/in_use/resnet_with_augmentation/best.pth.tar\n",
      "Loading checkpoint at step:  60600\n"
     ]
    },
    {
     "name": "stderr",
     "output_type": "stream",
     "text": [
      "100%|██████████| 58/58 [00:35<00:00,  1.63it/s]\n"
     ]
    },
    {
     "name": "stdout",
     "output_type": "stream",
     "text": [
      "Using device cpu\n",
      "training with dropout=0.0\n",
      "Loading checkpoint at: checkpoints/in_use/resnet_with_augmentation/best.pth.tar\n",
      "Loading checkpoint at step:  60600\n"
     ]
    },
    {
     "name": "stderr",
     "output_type": "stream",
     "text": [
      "100%|██████████| 35/35 [00:21<00:00,  1.60it/s]\n"
     ]
    },
    {
     "name": "stdout",
     "output_type": "stream",
     "text": [
      "Using device cpu\n",
      "training with dropout=0.0\n",
      "Loading checkpoint at: checkpoints/in_use/resnet_with_augmentation/best.pth.tar\n",
      "Loading checkpoint at step:  60600\n"
     ]
    },
    {
     "name": "stderr",
     "output_type": "stream",
     "text": [
      "100%|██████████| 66/66 [00:42<00:00,  1.57it/s]\n"
     ]
    },
    {
     "name": "stdout",
     "output_type": "stream",
     "text": [
      "Using device cpu\n",
      "training with dropout=0.0\n",
      "Loading checkpoint at: checkpoints/in_use/resnet_with_augmentation/best.pth.tar\n",
      "Loading checkpoint at step:  60600\n"
     ]
    },
    {
     "name": "stderr",
     "output_type": "stream",
     "text": [
      "100%|██████████| 74/74 [00:52<00:00,  1.42it/s]\n"
     ]
    },
    {
     "name": "stdout",
     "output_type": "stream",
     "text": [
      "Using device cpu\n",
      "training with dropout=0.0\n",
      "Loading checkpoint at: checkpoints/in_use/resnet_with_augmentation/best.pth.tar\n",
      "Loading checkpoint at step:  60600\n"
     ]
    },
    {
     "name": "stderr",
     "output_type": "stream",
     "text": [
      "100%|██████████| 62/62 [00:42<00:00,  1.46it/s]\n"
     ]
    },
    {
     "name": "stdout",
     "output_type": "stream",
     "text": [
      "Using device cpu\n",
      "training with dropout=0.0\n",
      "Loading checkpoint at: checkpoints/in_use/resnet_with_augmentation/best.pth.tar\n",
      "Loading checkpoint at step:  60600\n"
     ]
    },
    {
     "name": "stderr",
     "output_type": "stream",
     "text": [
      "100%|██████████| 89/89 [00:52<00:00,  1.71it/s]\n"
     ]
    },
    {
     "name": "stdout",
     "output_type": "stream",
     "text": [
      "Using device cpu\n",
      "training with dropout=0.0\n",
      "Loading checkpoint at: checkpoints/in_use/resnet_with_augmentation/best.pth.tar\n",
      "Loading checkpoint at step:  60600\n"
     ]
    },
    {
     "name": "stderr",
     "output_type": "stream",
     "text": [
      "100%|██████████| 206/206 [01:55<00:00,  1.78it/s]\n"
     ]
    },
    {
     "name": "stdout",
     "output_type": "stream",
     "text": [
      "Using device cpu\n",
      "training with dropout=0.0\n",
      "Loading checkpoint at: checkpoints/in_use/resnet_with_augmentation/best.pth.tar\n",
      "Loading checkpoint at step:  60600\n"
     ]
    },
    {
     "name": "stderr",
     "output_type": "stream",
     "text": [
      "100%|██████████| 133/133 [01:14<00:00,  1.79it/s]\n"
     ]
    },
    {
     "name": "stdout",
     "output_type": "stream",
     "text": [
      "Using device cpu\n",
      "training with dropout=0.0\n",
      "Loading checkpoint at: checkpoints/in_use/resnet_with_augmentation/best.pth.tar\n",
      "Loading checkpoint at step:  60600\n"
     ]
    },
    {
     "name": "stderr",
     "output_type": "stream",
     "text": [
      "100%|██████████| 190/190 [01:48<00:00,  1.75it/s]\n"
     ]
    },
    {
     "name": "stdout",
     "output_type": "stream",
     "text": [
      "Using device cpu\n",
      "training with dropout=0.0\n",
      "Loading checkpoint at: checkpoints/in_use/resnet_with_augmentation/best.pth.tar\n",
      "Loading checkpoint at step:  60600\n"
     ]
    },
    {
     "name": "stderr",
     "output_type": "stream",
     "text": [
      "100%|██████████| 79/79 [00:44<00:00,  1.79it/s]\n"
     ]
    },
    {
     "name": "stdout",
     "output_type": "stream",
     "text": [
      "Using device cpu\n",
      "training with dropout=0.0\n",
      "Loading checkpoint at: checkpoints/in_use/resnet_with_augmentation/best.pth.tar\n",
      "Loading checkpoint at step:  60600\n"
     ]
    },
    {
     "name": "stderr",
     "output_type": "stream",
     "text": [
      "100%|██████████| 80/80 [00:44<00:00,  1.78it/s]\n"
     ]
    },
    {
     "name": "stdout",
     "output_type": "stream",
     "text": [
      "Using device cpu\n",
      "training with dropout=0.0\n",
      "Loading checkpoint at: checkpoints/in_use/resnet_with_augmentation/best.pth.tar\n",
      "Loading checkpoint at step:  60600\n"
     ]
    },
    {
     "name": "stderr",
     "output_type": "stream",
     "text": [
      "100%|██████████| 152/152 [01:24<00:00,  1.79it/s]\n"
     ]
    },
    {
     "name": "stdout",
     "output_type": "stream",
     "text": [
      "Using device cpu\n",
      "training with dropout=0.0\n",
      "Loading checkpoint at: checkpoints/in_use/resnet_with_augmentation/best.pth.tar\n",
      "Loading checkpoint at step:  60600\n"
     ]
    },
    {
     "name": "stderr",
     "output_type": "stream",
     "text": [
      "100%|██████████| 53/53 [00:30<00:00,  1.76it/s]\n"
     ]
    },
    {
     "name": "stdout",
     "output_type": "stream",
     "text": [
      "Using device cpu\n",
      "training with dropout=0.0\n",
      "Loading checkpoint at: checkpoints/in_use/resnet_with_augmentation/best.pth.tar\n",
      "Loading checkpoint at step:  60600\n"
     ]
    },
    {
     "name": "stderr",
     "output_type": "stream",
     "text": [
      "100%|██████████| 39/39 [00:21<00:00,  1.78it/s]\n"
     ]
    },
    {
     "name": "stdout",
     "output_type": "stream",
     "text": [
      "Using device cpu\n",
      "training with dropout=0.0\n",
      "Loading checkpoint at: checkpoints/in_use/resnet_with_augmentation/best.pth.tar\n",
      "Loading checkpoint at step:  60600\n"
     ]
    },
    {
     "name": "stderr",
     "output_type": "stream",
     "text": [
      "100%|██████████| 37/37 [00:20<00:00,  1.78it/s]\n"
     ]
    },
    {
     "name": "stdout",
     "output_type": "stream",
     "text": [
      "Using device cpu\n",
      "training with dropout=0.0\n",
      "Loading checkpoint at: checkpoints/in_use/resnet_with_augmentation/best.pth.tar\n",
      "Loading checkpoint at step:  60600\n"
     ]
    },
    {
     "name": "stderr",
     "output_type": "stream",
     "text": [
      "100%|██████████| 116/116 [01:04<00:00,  1.78it/s]\n"
     ]
    },
    {
     "name": "stdout",
     "output_type": "stream",
     "text": [
      "Using device cpu\n",
      "training with dropout=0.0\n",
      "Loading checkpoint at: checkpoints/in_use/resnet_with_augmentation/best.pth.tar\n",
      "Loading checkpoint at step:  60600\n"
     ]
    },
    {
     "name": "stderr",
     "output_type": "stream",
     "text": [
      "100%|██████████| 87/87 [00:48<00:00,  1.80it/s]\n"
     ]
    },
    {
     "name": "stdout",
     "output_type": "stream",
     "text": [
      "Using device cpu\n",
      "training with dropout=0.0\n",
      "Loading checkpoint at: checkpoints/in_use/resnet_with_augmentation/best.pth.tar\n",
      "Loading checkpoint at step:  60600\n"
     ]
    },
    {
     "name": "stderr",
     "output_type": "stream",
     "text": [
      "100%|██████████| 81/81 [00:45<00:00,  1.78it/s]\n"
     ]
    },
    {
     "name": "stdout",
     "output_type": "stream",
     "text": [
      "Using device cpu\n",
      "training with dropout=0.0\n",
      "Loading checkpoint at: checkpoints/in_use/resnet_with_augmentation/best.pth.tar\n",
      "Loading checkpoint at step:  60600\n"
     ]
    },
    {
     "name": "stderr",
     "output_type": "stream",
     "text": [
      "100%|██████████| 176/176 [01:37<00:00,  1.80it/s]\n"
     ]
    },
    {
     "name": "stdout",
     "output_type": "stream",
     "text": [
      "Using device cpu\n",
      "training with dropout=0.0\n",
      "Loading checkpoint at: checkpoints/in_use/resnet_with_augmentation/best.pth.tar\n",
      "Loading checkpoint at step:  60600\n"
     ]
    },
    {
     "name": "stderr",
     "output_type": "stream",
     "text": [
      "100%|██████████| 79/79 [00:44<00:00,  1.77it/s]\n"
     ]
    },
    {
     "name": "stdout",
     "output_type": "stream",
     "text": [
      "Using device cpu\n",
      "training with dropout=0.0\n",
      "Loading checkpoint at: checkpoints/in_use/resnet_with_augmentation/best.pth.tar\n",
      "Loading checkpoint at step:  60600\n"
     ]
    },
    {
     "name": "stderr",
     "output_type": "stream",
     "text": [
      "100%|██████████| 278/278 [02:52<00:00,  1.62it/s]\n"
     ]
    },
    {
     "name": "stdout",
     "output_type": "stream",
     "text": [
      "Using device cpu\n",
      "training with dropout=0.0\n",
      "Loading checkpoint at: checkpoints/in_use/resnet_with_augmentation/best.pth.tar\n",
      "Loading checkpoint at step:  60600\n"
     ]
    },
    {
     "name": "stderr",
     "output_type": "stream",
     "text": [
      "100%|██████████| 77/77 [00:48<00:00,  1.60it/s]\n"
     ]
    },
    {
     "name": "stdout",
     "output_type": "stream",
     "text": [
      "Using device cpu\n",
      "training with dropout=0.0\n",
      "Loading checkpoint at: checkpoints/in_use/resnet_with_augmentation/best.pth.tar\n",
      "Loading checkpoint at step:  60600\n"
     ]
    },
    {
     "name": "stderr",
     "output_type": "stream",
     "text": [
      "100%|██████████| 19/19 [00:13<00:00,  1.42it/s]\n"
     ]
    },
    {
     "name": "stdout",
     "output_type": "stream",
     "text": [
      "Using device cpu\n",
      "training with dropout=0.0\n",
      "Loading checkpoint at: checkpoints/in_use/resnet_with_augmentation/best.pth.tar\n",
      "Loading checkpoint at step:  60600\n"
     ]
    },
    {
     "name": "stderr",
     "output_type": "stream",
     "text": [
      "100%|██████████| 127/127 [01:17<00:00,  1.65it/s]\n"
     ]
    },
    {
     "name": "stdout",
     "output_type": "stream",
     "text": [
      "Using device cpu\n",
      "training with dropout=0.0\n",
      "Loading checkpoint at: checkpoints/in_use/resnet_with_augmentation/best.pth.tar\n",
      "Loading checkpoint at step:  60600\n"
     ]
    },
    {
     "name": "stderr",
     "output_type": "stream",
     "text": [
      "100%|██████████| 74/74 [00:43<00:00,  1.68it/s]\n"
     ]
    },
    {
     "name": "stdout",
     "output_type": "stream",
     "text": [
      "Using device cpu\n",
      "training with dropout=0.0\n",
      "Loading checkpoint at: checkpoints/in_use/resnet_with_augmentation/best.pth.tar\n",
      "Loading checkpoint at step:  60600\n"
     ]
    },
    {
     "name": "stderr",
     "output_type": "stream",
     "text": [
      "100%|██████████| 29/29 [00:19<00:00,  1.51it/s]\n"
     ]
    },
    {
     "name": "stdout",
     "output_type": "stream",
     "text": [
      "Using device cpu\n",
      "training with dropout=0.0\n",
      "Loading checkpoint at: checkpoints/in_use/resnet_with_augmentation/best.pth.tar\n",
      "Loading checkpoint at step:  60600\n"
     ]
    },
    {
     "name": "stderr",
     "output_type": "stream",
     "text": [
      "100%|██████████| 105/105 [01:03<00:00,  1.65it/s]\n"
     ]
    },
    {
     "name": "stdout",
     "output_type": "stream",
     "text": [
      "Using device cpu\n",
      "training with dropout=0.0\n",
      "Loading checkpoint at: checkpoints/in_use/resnet_with_augmentation/best.pth.tar\n",
      "Loading checkpoint at step:  60600\n"
     ]
    },
    {
     "name": "stderr",
     "output_type": "stream",
     "text": [
      "100%|██████████| 188/188 [01:54<00:00,  1.64it/s]\n"
     ]
    },
    {
     "name": "stdout",
     "output_type": "stream",
     "text": [
      "Using device cpu\n",
      "training with dropout=0.0\n",
      "Loading checkpoint at: checkpoints/in_use/resnet_with_augmentation/best.pth.tar\n",
      "Loading checkpoint at step:  60600\n"
     ]
    },
    {
     "name": "stderr",
     "output_type": "stream",
     "text": [
      "100%|██████████| 102/102 [01:02<00:00,  1.63it/s]\n"
     ]
    },
    {
     "name": "stdout",
     "output_type": "stream",
     "text": [
      "Using device cpu\n",
      "training with dropout=0.0\n",
      "Loading checkpoint at: checkpoints/in_use/resnet_with_augmentation/best.pth.tar\n",
      "Loading checkpoint at step:  60600\n"
     ]
    },
    {
     "name": "stderr",
     "output_type": "stream",
     "text": [
      "100%|██████████| 355/355 [03:58<00:00,  1.49it/s]\n"
     ]
    },
    {
     "name": "stdout",
     "output_type": "stream",
     "text": [
      "Using device cpu\n",
      "training with dropout=0.0\n",
      "Loading checkpoint at: checkpoints/in_use/resnet_with_augmentation/best.pth.tar\n",
      "Loading checkpoint at step:  60600\n"
     ]
    },
    {
     "name": "stderr",
     "output_type": "stream",
     "text": [
      "100%|██████████| 79/79 [00:50<00:00,  1.56it/s]\n"
     ]
    },
    {
     "name": "stdout",
     "output_type": "stream",
     "text": [
      "Using device cpu\n",
      "training with dropout=0.0\n",
      "Loading checkpoint at: checkpoints/in_use/resnet_with_augmentation/best.pth.tar\n",
      "Loading checkpoint at step:  60600\n"
     ]
    },
    {
     "name": "stderr",
     "output_type": "stream",
     "text": [
      "100%|██████████| 117/117 [01:08<00:00,  1.70it/s]\n"
     ]
    },
    {
     "name": "stdout",
     "output_type": "stream",
     "text": [
      "Using device cpu\n",
      "training with dropout=0.0\n",
      "Loading checkpoint at: checkpoints/in_use/resnet_with_augmentation/best.pth.tar\n",
      "Loading checkpoint at step:  60600\n"
     ]
    },
    {
     "name": "stderr",
     "output_type": "stream",
     "text": [
      "100%|██████████| 73/73 [00:43<00:00,  1.70it/s]\n"
     ]
    },
    {
     "name": "stdout",
     "output_type": "stream",
     "text": [
      "Using device cpu\n",
      "training with dropout=0.0\n",
      "Loading checkpoint at: checkpoints/in_use/resnet_with_augmentation/best.pth.tar\n",
      "Loading checkpoint at step:  60600\n"
     ]
    },
    {
     "name": "stderr",
     "output_type": "stream",
     "text": [
      "100%|██████████| 64/64 [00:42<00:00,  1.49it/s]\n"
     ]
    },
    {
     "name": "stdout",
     "output_type": "stream",
     "text": [
      "Using device cpu\n",
      "training with dropout=0.0\n",
      "Loading checkpoint at: checkpoints/in_use/resnet_with_augmentation/best.pth.tar\n",
      "Loading checkpoint at step:  60600\n"
     ]
    },
    {
     "name": "stderr",
     "output_type": "stream",
     "text": [
      "100%|██████████| 11/11 [00:06<00:00,  1.58it/s]\n"
     ]
    },
    {
     "name": "stdout",
     "output_type": "stream",
     "text": [
      "Using device cpu\n",
      "training with dropout=0.0\n",
      "Loading checkpoint at: checkpoints/in_use/resnet_with_augmentation/best.pth.tar\n",
      "Loading checkpoint at step:  60600\n"
     ]
    },
    {
     "name": "stderr",
     "output_type": "stream",
     "text": [
      "100%|██████████| 139/139 [01:21<00:00,  1.71it/s]\n"
     ]
    },
    {
     "name": "stdout",
     "output_type": "stream",
     "text": [
      "Using device cpu\n",
      "training with dropout=0.0\n",
      "Loading checkpoint at: checkpoints/in_use/resnet_with_augmentation/best.pth.tar\n",
      "Loading checkpoint at step:  60600\n"
     ]
    },
    {
     "name": "stderr",
     "output_type": "stream",
     "text": [
      "100%|██████████| 90/90 [00:52<00:00,  1.72it/s]\n"
     ]
    },
    {
     "name": "stdout",
     "output_type": "stream",
     "text": [
      "Using device cpu\n",
      "training with dropout=0.0\n",
      "Loading checkpoint at: checkpoints/in_use/resnet_with_augmentation/best.pth.tar\n",
      "Loading checkpoint at step:  60600\n"
     ]
    },
    {
     "name": "stderr",
     "output_type": "stream",
     "text": [
      "100%|██████████| 38/38 [00:22<00:00,  1.67it/s]\n"
     ]
    },
    {
     "name": "stdout",
     "output_type": "stream",
     "text": [
      "Using device cpu\n",
      "training with dropout=0.0\n",
      "Loading checkpoint at: checkpoints/in_use/resnet_with_augmentation/best.pth.tar\n",
      "Loading checkpoint at step:  60600\n"
     ]
    },
    {
     "name": "stderr",
     "output_type": "stream",
     "text": [
      "100%|██████████| 96/96 [00:58<00:00,  1.64it/s]\n"
     ]
    },
    {
     "name": "stdout",
     "output_type": "stream",
     "text": [
      "Using device cpu\n",
      "training with dropout=0.0\n",
      "Loading checkpoint at: checkpoints/in_use/resnet_with_augmentation/best.pth.tar\n",
      "Loading checkpoint at step:  60600\n"
     ]
    },
    {
     "name": "stderr",
     "output_type": "stream",
     "text": [
      "100%|██████████| 44/44 [00:27<00:00,  1.58it/s]\n"
     ]
    },
    {
     "name": "stdout",
     "output_type": "stream",
     "text": [
      "Using device cpu\n",
      "training with dropout=0.0\n",
      "Loading checkpoint at: checkpoints/in_use/resnet_with_augmentation/best.pth.tar\n",
      "Loading checkpoint at step:  60600\n"
     ]
    },
    {
     "name": "stderr",
     "output_type": "stream",
     "text": [
      "100%|██████████| 70/70 [00:44<00:00,  1.58it/s]\n"
     ]
    },
    {
     "name": "stdout",
     "output_type": "stream",
     "text": [
      "Using device cpu\n",
      "training with dropout=0.0\n",
      "Loading checkpoint at: checkpoints/in_use/resnet_with_augmentation/best.pth.tar\n",
      "Loading checkpoint at step:  60600\n"
     ]
    },
    {
     "name": "stderr",
     "output_type": "stream",
     "text": [
      "100%|██████████| 16/16 [00:10<00:00,  1.54it/s]\n"
     ]
    },
    {
     "name": "stdout",
     "output_type": "stream",
     "text": [
      "Using device cpu\n",
      "training with dropout=0.0\n",
      "Loading checkpoint at: checkpoints/in_use/resnet_with_augmentation/best.pth.tar\n",
      "Loading checkpoint at step:  60600\n"
     ]
    },
    {
     "name": "stderr",
     "output_type": "stream",
     "text": [
      "100%|██████████| 83/83 [00:52<00:00,  1.59it/s]\n"
     ]
    },
    {
     "name": "stdout",
     "output_type": "stream",
     "text": [
      "Using device cpu\n",
      "training with dropout=0.0\n",
      "Loading checkpoint at: checkpoints/in_use/resnet_with_augmentation/best.pth.tar\n",
      "Loading checkpoint at step:  60600\n"
     ]
    },
    {
     "name": "stderr",
     "output_type": "stream",
     "text": [
      "100%|██████████| 106/106 [01:06<00:00,  1.60it/s]\n"
     ]
    },
    {
     "name": "stdout",
     "output_type": "stream",
     "text": [
      "Using device cpu\n",
      "training with dropout=0.0\n",
      "Loading checkpoint at: checkpoints/in_use/resnet_with_augmentation/best.pth.tar\n",
      "Loading checkpoint at step:  60600\n"
     ]
    },
    {
     "name": "stderr",
     "output_type": "stream",
     "text": [
      "100%|██████████| 50/50 [00:31<00:00,  1.58it/s]\n"
     ]
    },
    {
     "name": "stdout",
     "output_type": "stream",
     "text": [
      "Using device cpu\n",
      "training with dropout=0.0\n",
      "Loading checkpoint at: checkpoints/in_use/resnet_with_augmentation/best.pth.tar\n",
      "Loading checkpoint at step:  60600\n"
     ]
    },
    {
     "name": "stderr",
     "output_type": "stream",
     "text": [
      "100%|██████████| 44/44 [00:27<00:00,  1.58it/s]\n"
     ]
    },
    {
     "name": "stdout",
     "output_type": "stream",
     "text": [
      "Using device cpu\n",
      "training with dropout=0.0\n",
      "Loading checkpoint at: checkpoints/in_use/resnet_with_augmentation/best.pth.tar\n",
      "Loading checkpoint at step:  60600\n"
     ]
    },
    {
     "name": "stderr",
     "output_type": "stream",
     "text": [
      "100%|██████████| 78/78 [00:49<00:00,  1.58it/s]\n"
     ]
    },
    {
     "name": "stdout",
     "output_type": "stream",
     "text": [
      "Using device cpu\n",
      "training with dropout=0.0\n",
      "Loading checkpoint at: checkpoints/in_use/resnet_with_augmentation/best.pth.tar\n",
      "Loading checkpoint at step:  60600\n"
     ]
    },
    {
     "name": "stderr",
     "output_type": "stream",
     "text": [
      "100%|██████████| 41/41 [00:26<00:00,  1.57it/s]\n"
     ]
    },
    {
     "name": "stdout",
     "output_type": "stream",
     "text": [
      "Using device cpu\n",
      "training with dropout=0.0\n",
      "Loading checkpoint at: checkpoints/in_use/resnet_with_augmentation/best.pth.tar\n",
      "Loading checkpoint at step:  60600\n"
     ]
    },
    {
     "name": "stderr",
     "output_type": "stream",
     "text": [
      "100%|██████████| 67/67 [00:45<00:00,  1.46it/s]\n"
     ]
    },
    {
     "name": "stdout",
     "output_type": "stream",
     "text": [
      "Using device cpu\n",
      "training with dropout=0.0\n",
      "Loading checkpoint at: checkpoints/in_use/resnet_with_augmentation/best.pth.tar\n",
      "Loading checkpoint at step:  60600\n"
     ]
    },
    {
     "name": "stderr",
     "output_type": "stream",
     "text": [
      "100%|██████████| 139/139 [01:28<00:00,  1.57it/s]\n"
     ]
    },
    {
     "name": "stdout",
     "output_type": "stream",
     "text": [
      "Using device cpu\n",
      "training with dropout=0.0\n",
      "Loading checkpoint at: checkpoints/in_use/resnet_with_augmentation/best.pth.tar\n",
      "Loading checkpoint at step:  60600\n"
     ]
    },
    {
     "name": "stderr",
     "output_type": "stream",
     "text": [
      "100%|██████████| 63/63 [00:40<00:00,  1.57it/s]\n"
     ]
    },
    {
     "name": "stdout",
     "output_type": "stream",
     "text": [
      "Using device cpu\n",
      "training with dropout=0.0\n",
      "Loading checkpoint at: checkpoints/in_use/resnet_with_augmentation/best.pth.tar\n",
      "Loading checkpoint at step:  60600\n"
     ]
    },
    {
     "name": "stderr",
     "output_type": "stream",
     "text": [
      "100%|██████████| 49/49 [00:31<00:00,  1.57it/s]\n"
     ]
    },
    {
     "name": "stdout",
     "output_type": "stream",
     "text": [
      "Using device cpu\n",
      "training with dropout=0.0\n",
      "Loading checkpoint at: checkpoints/in_use/resnet_with_augmentation/best.pth.tar\n",
      "Loading checkpoint at step:  60600\n"
     ]
    },
    {
     "name": "stderr",
     "output_type": "stream",
     "text": [
      "100%|██████████| 54/54 [00:34<00:00,  1.57it/s]\n"
     ]
    },
    {
     "name": "stdout",
     "output_type": "stream",
     "text": [
      "Using device cpu\n",
      "training with dropout=0.0\n",
      "Loading checkpoint at: checkpoints/in_use/resnet_with_augmentation/best.pth.tar\n",
      "Loading checkpoint at step:  60600\n"
     ]
    },
    {
     "name": "stderr",
     "output_type": "stream",
     "text": [
      "100%|██████████| 114/114 [01:12<00:00,  1.58it/s]\n"
     ]
    },
    {
     "name": "stdout",
     "output_type": "stream",
     "text": [
      "Using device cpu\n",
      "training with dropout=0.0\n",
      "Loading checkpoint at: checkpoints/in_use/resnet_with_augmentation/best.pth.tar\n",
      "Loading checkpoint at step:  60600\n"
     ]
    },
    {
     "name": "stderr",
     "output_type": "stream",
     "text": [
      "100%|██████████| 25/25 [00:17<00:00,  1.45it/s]\n"
     ]
    },
    {
     "name": "stdout",
     "output_type": "stream",
     "text": [
      "Using device cpu\n",
      "training with dropout=0.0\n",
      "Loading checkpoint at: checkpoints/in_use/resnet_with_augmentation/best.pth.tar\n",
      "Loading checkpoint at step:  60600\n"
     ]
    },
    {
     "name": "stderr",
     "output_type": "stream",
     "text": [
      "100%|██████████| 107/107 [01:11<00:00,  1.49it/s]\n"
     ]
    },
    {
     "name": "stdout",
     "output_type": "stream",
     "text": [
      "Using device cpu\n",
      "training with dropout=0.0\n",
      "Loading checkpoint at: checkpoints/in_use/resnet_with_augmentation/best.pth.tar\n",
      "Loading checkpoint at step:  60600\n"
     ]
    },
    {
     "name": "stderr",
     "output_type": "stream",
     "text": [
      "100%|██████████| 52/52 [00:35<00:00,  1.48it/s]\n"
     ]
    },
    {
     "name": "stdout",
     "output_type": "stream",
     "text": [
      "Using device cpu\n",
      "training with dropout=0.0\n",
      "Loading checkpoint at: checkpoints/in_use/resnet_with_augmentation/best.pth.tar\n",
      "Loading checkpoint at step:  60600\n"
     ]
    },
    {
     "name": "stderr",
     "output_type": "stream",
     "text": [
      "100%|██████████| 73/73 [00:48<00:00,  1.50it/s]\n"
     ]
    },
    {
     "name": "stdout",
     "output_type": "stream",
     "text": [
      "Using device cpu\n",
      "training with dropout=0.0\n",
      "Loading checkpoint at: checkpoints/in_use/resnet_with_augmentation/best.pth.tar\n",
      "Loading checkpoint at step:  60600\n"
     ]
    },
    {
     "name": "stderr",
     "output_type": "stream",
     "text": [
      "100%|██████████| 114/114 [01:11<00:00,  1.59it/s]\n"
     ]
    },
    {
     "name": "stdout",
     "output_type": "stream",
     "text": [
      "Using device cpu\n",
      "training with dropout=0.0\n",
      "Loading checkpoint at: checkpoints/in_use/resnet_with_augmentation/best.pth.tar\n",
      "Loading checkpoint at step:  60600\n"
     ]
    },
    {
     "name": "stderr",
     "output_type": "stream",
     "text": [
      "100%|██████████| 122/122 [01:15<00:00,  1.62it/s]\n"
     ]
    }
   ],
   "source": [
    "processed_results = process_audio_files(filtered_file_list=filtered_files)"
   ]
  },
  {
   "cell_type": "code",
   "execution_count": 39,
   "metadata": {},
   "outputs": [
    {
     "data": {
      "text/html": [
       "<div>\n",
       "<style scoped>\n",
       "    .dataframe tbody tr th:only-of-type {\n",
       "        vertical-align: middle;\n",
       "    }\n",
       "\n",
       "    .dataframe tbody tr th {\n",
       "        vertical-align: top;\n",
       "    }\n",
       "\n",
       "    .dataframe thead th {\n",
       "        text-align: right;\n",
       "    }\n",
       "</style>\n",
       "<table border=\"1\" class=\"dataframe\">\n",
       "  <thead>\n",
       "    <tr style=\"text-align: right;\">\n",
       "      <th></th>\n",
       "      <th>filename</th>\n",
       "      <th>num_laughs</th>\n",
       "      <th>results</th>\n",
       "    </tr>\n",
       "  </thead>\n",
       "  <tbody>\n",
       "    <tr>\n",
       "      <th>0</th>\n",
       "      <td>joke1.1_088ca5ae-9b47-469b-a197-d7872f5ae9d6_1...</td>\n",
       "      <td>0</td>\n",
       "      <td>[]</td>\n",
       "    </tr>\n",
       "    <tr>\n",
       "      <th>1</th>\n",
       "      <td>joke1.1_5f9cb3c3-dba6-4a27-9881-57a95c7efe7a_1...</td>\n",
       "      <td>2</td>\n",
       "      <td>[{'file_name': './output_segments/joke1.1_5f9c...</td>\n",
       "    </tr>\n",
       "    <tr>\n",
       "      <th>2</th>\n",
       "      <td>joke1.1_22fa22ac-9f30-40e2-89b8-41ee3a8e89cf_1...</td>\n",
       "      <td>0</td>\n",
       "      <td>[]</td>\n",
       "    </tr>\n",
       "    <tr>\n",
       "      <th>3</th>\n",
       "      <td>joke1.1_2a3186e4-8f1e-42e8-84a3-172610e3dec4_1...</td>\n",
       "      <td>1</td>\n",
       "      <td>[{'file_name': './output_segments/joke1.1_2a31...</td>\n",
       "    </tr>\n",
       "    <tr>\n",
       "      <th>4</th>\n",
       "      <td>joke1.1_9f94b24b-25ac-4266-a3f5-17f48f7feaa6_1...</td>\n",
       "      <td>1</td>\n",
       "      <td>[{'file_name': './output_segments/joke1.1_9f94...</td>\n",
       "    </tr>\n",
       "  </tbody>\n",
       "</table>\n",
       "</div>"
      ],
      "text/plain": [
       "                                            filename  num_laughs  \\\n",
       "0  joke1.1_088ca5ae-9b47-469b-a197-d7872f5ae9d6_1...           0   \n",
       "1  joke1.1_5f9cb3c3-dba6-4a27-9881-57a95c7efe7a_1...           2   \n",
       "2  joke1.1_22fa22ac-9f30-40e2-89b8-41ee3a8e89cf_1...           0   \n",
       "3  joke1.1_2a3186e4-8f1e-42e8-84a3-172610e3dec4_1...           1   \n",
       "4  joke1.1_9f94b24b-25ac-4266-a3f5-17f48f7feaa6_1...           1   \n",
       "\n",
       "                                             results  \n",
       "0                                                 []  \n",
       "1  [{'file_name': './output_segments/joke1.1_5f9c...  \n",
       "2                                                 []  \n",
       "3  [{'file_name': './output_segments/joke1.1_2a31...  \n",
       "4  [{'file_name': './output_segments/joke1.1_9f94...  "
      ]
     },
     "execution_count": 39,
     "metadata": {},
     "output_type": "execute_result"
    }
   ],
   "source": [
    "processed_results.head()"
   ]
  },
  {
   "cell_type": "code",
   "execution_count": 40,
   "metadata": {},
   "outputs": [],
   "source": [
    "processed_results.to_csv(\"joke_1_1_laughters.csv\")"
   ]
  },
  {
   "cell_type": "code",
   "execution_count": 43,
   "metadata": {},
   "outputs": [],
   "source": [
    "processed_results.to_excel( \"joke_1_1_laughters.xlsx\",header=True)"
   ]
  },
  {
   "cell_type": "code",
   "execution_count": 44,
   "metadata": {},
   "outputs": [
    {
     "data": {
      "text/plain": [
       "119"
      ]
     },
     "execution_count": 44,
     "metadata": {},
     "output_type": "execute_result"
    }
   ],
   "source": [
    "processed_results.filename.nunique()"
   ]
  },
  {
   "cell_type": "code",
   "execution_count": 45,
   "metadata": {},
   "outputs": [
    {
     "data": {
      "text/plain": [
       "119"
      ]
     },
     "execution_count": 45,
     "metadata": {},
     "output_type": "execute_result"
    }
   ],
   "source": [
    "len(filtered_files)"
   ]
  },
  {
   "cell_type": "code",
   "execution_count": 47,
   "metadata": {},
   "outputs": [
    {
     "data": {
      "text/plain": [
       "94"
      ]
     },
     "execution_count": 47,
     "metadata": {},
     "output_type": "execute_result"
    }
   ],
   "source": [
    "len(labelled_joke1_1_partial_filename)"
   ]
  },
  {
   "cell_type": "code",
   "execution_count": 48,
   "metadata": {},
   "outputs": [],
   "source": [
    "def find_multiple_matches(partial_names, complete_names):\n",
    "    for partial in partial_names:\n",
    "        matches = [name for name in complete_names if partial in name]\n",
    "        if len(matches) > 1:\n",
    "            print(f\"Partial name: {partial}\")\n",
    "            for match in matches:\n",
    "                print(f\"  - {match}\")\n",
    "\n",
    "\n",
    "\n"
   ]
  },
  {
   "cell_type": "code",
   "execution_count": 49,
   "metadata": {},
   "outputs": [
    {
     "name": "stdout",
     "output_type": "stream",
     "text": [
      "Partial name: 4d16ddd9-e207-45d0-bed8-4e2bf8df60ea\n",
      "  - joke1.1_4d16ddd9-e207-45d0-bed8-4e2bf8df60ea_1587233794827_922.mp3\n",
      "  - joke1.1_4d16ddd9-e207-45d0-bed8-4e2bf8df60ea_1587233759265_222.mp3\n",
      "Partial name: dfbe3248-21ac-49d9-8da0-fea5314856b1\n",
      "  - joke1.1_dfbe3248-21ac-49d9-8da0-fea5314856b1_1585326431489_495.mp3\n",
      "  - joke1.1_dfbe3248-21ac-49d9-8da0-fea5314856b1_1585326472515_357.mp3\n",
      "Partial name: e8807c2c-2cc3-4c12-a351-70a784ed5f36\n",
      "  - joke1.1_e8807c2c-2cc3-4c12-a351-70a784ed5f36_1563717504810_417.mp3\n",
      "  - joke1.1_e8807c2c-2cc3-4c12-a351-70a784ed5f36_1563717388349_887.mp3\n",
      "Partial name: 0fa3f4b8-e2f6-44dc-a7a6-a47d49cdd546\n",
      "  - joke1.1_0fa3f4b8-e2f6-44dc-a7a6-a47d49cdd546_1583361241622_731.mp3\n",
      "  - joke1.1_0fa3f4b8-e2f6-44dc-a7a6-a47d49cdd546_1583361215310_662.mp3\n",
      "Partial name: 22fa22ac-9f30-40e2-89b8-41ee3a8e89cf\n",
      "  - joke1.1_22fa22ac-9f30-40e2-89b8-41ee3a8e89cf_1586730181497_917.mp3\n",
      "  - joke1.1_22fa22ac-9f30-40e2-89b8-41ee3a8e89cf_1586730192425_68.mp3\n",
      "Partial name: 60048bfe-321a-4d65-b842-5bea0ed98c58\n",
      "  - joke1.1_60048bfe-321a-4d65-b842-5bea0ed98c58_1585566015223_844.mp3\n",
      "  - joke1.1_60048bfe-321a-4d65-b842-5bea0ed98c58_1585566042766_570.mp3\n",
      "Partial name: c0037173-8766-4eee-9c3e-7e943f09a8ff\n",
      "  - joke1.1_c0037173-8766-4eee-9c3e-7e943f09a8ff_1583284663327_722.mp3\n",
      "  - joke1.1_c0037173-8766-4eee-9c3e-7e943f09a8ff_1583284635391_2.mp3\n",
      "Partial name: a2f5b4c3-8fca-4131-82f3-cd4ea8450d24\n",
      "  - joke1.1_a2f5b4c3-8fca-4131-82f3-cd4ea8450d24_1563491387462_253.mp3\n",
      "  - joke1.1_a2f5b4c3-8fca-4131-82f3-cd4ea8450d24_1563491364081_370.mp3\n",
      "Partial name: aa03670f-5254-4ef1-8517-b2fc1316845e\n",
      "  - joke1.1_aa03670f-5254-4ef1-8517-b2fc1316845e_1554046279944_839.mp3\n",
      "  - joke1.1_aa03670f-5254-4ef1-8517-b2fc1316845e_1554046331373_574.mp3\n",
      "Partial name: dba55702-ac39-4c66-b5b9-0cbe06652591\n",
      "  - joke1.1_dba55702-ac39-4c66-b5b9-0cbe06652591_1572007881531_532.mp3\n",
      "  - joke1.1_dba55702-ac39-4c66-b5b9-0cbe06652591_1572007918603_418.mp3\n",
      "Partial name: 592e600f-eee0-4c4b-ace6-023544b53db0\n",
      "  - joke1.1_592e600f-eee0-4c4b-ace6-023544b53db0_1555950694812_200.mp3\n",
      "  - joke1.1_592e600f-eee0-4c4b-ace6-023544b53db0_1555950733001_494.mp3\n",
      "Partial name: b828be74-3497-4355-831f-561432a7dc0f\n",
      "  - joke1.1_b828be74-3497-4355-831f-561432a7dc0f_1564170481893_842.mp3\n",
      "  - joke1.1_b828be74-3497-4355-831f-561432a7dc0f_1564170445877_776.mp3\n",
      "  - joke1.1_b828be74-3497-4355-831f-561432a7dc0f_1564170505278_659.mp3\n",
      "  - joke1.1_b828be74-3497-4355-831f-561432a7dc0f_1564170410271_810.mp3\n",
      "Partial name: 7f03d609-b760-47e3-824d-0b4ed60a7279\n",
      "  - joke1.1_7f03d609-b760-47e3-824d-0b4ed60a7279_1564519294178_426.mp3\n",
      "  - joke1.1_7f03d609-b760-47e3-824d-0b4ed60a7279_1564519274675_705.mp3\n",
      "Partial name: d64b37a4-8e18-495e-ac6e-4033efb90e2a\n",
      "  - joke1.1_d64b37a4-8e18-495e-ac6e-4033efb90e2a_1555516203626_552.mp3\n",
      "  - joke1.1_d64b37a4-8e18-495e-ac6e-4033efb90e2a_1555516152425_570.mp3\n",
      "  - joke1.1_d64b37a4-8e18-495e-ac6e-4033efb90e2a_1555516183522_226.mp3\n",
      "  - joke1.1_d64b37a4-8e18-495e-ac6e-4033efb90e2a_1555516230347_325.mp3\n",
      "Partial name: d90eddea-6aed-4f9a-aa45-37c9da6ba29f\n",
      "  - joke1.1_d90eddea-6aed-4f9a-aa45-37c9da6ba29f_1580770965632_847.mp3\n",
      "  - joke1.1_d90eddea-6aed-4f9a-aa45-37c9da6ba29f_1580770950289_740.mp3\n",
      "Partial name: 5dcc826c-e70a-4c28-bd4e-dca0e9023fa8\n",
      "  - joke1.1_5dcc826c-e70a-4c28-bd4e-dca0e9023fa8_1560890909506_729.mp3\n",
      "  - joke1.1_5dcc826c-e70a-4c28-bd4e-dca0e9023fa8_1560890971288_431.mp3\n",
      "Partial name: 98d41d02-091c-47a6-9b26-09720466e9ab\n",
      "  - joke1.1_98d41d02-091c-47a6-9b26-09720466e9ab_1557863204252_626.mp3\n",
      "  - joke1.1_98d41d02-091c-47a6-9b26-09720466e9ab_1557863232801_883.mp3\n",
      "Partial name: 088ca5ae-9b47-469b-a197-d7872f5ae9d6\n",
      "  - joke1.1_088ca5ae-9b47-469b-a197-d7872f5ae9d6_1559764135196_649.mp3\n",
      "  - joke1.1_088ca5ae-9b47-469b-a197-d7872f5ae9d6_1559764109089_445.mp3\n",
      "Partial name: 9089f8cf-4947-4301-92e1-1df6ffc8d4fa\n",
      "  - joke1.1_9089f8cf-4947-4301-92e1-1df6ffc8d4fa_1555426222215_544.mp3\n",
      "  - joke1.1_9089f8cf-4947-4301-92e1-1df6ffc8d4fa_1555426324350_394.mp3\n",
      "  - joke1.1_9089f8cf-4947-4301-92e1-1df6ffc8d4fa_1555426353279_632.mp3\n",
      "  - joke1.1_9089f8cf-4947-4301-92e1-1df6ffc8d4fa_1555426191051_921.mp3\n",
      "  - joke1.1_9089f8cf-4947-4301-92e1-1df6ffc8d4fa_1555426252697_97.mp3\n",
      "Partial name: cabb3197-6b49-4a13-86f7-acf7a0712fa2\n",
      "  - joke1.1_cabb3197-6b49-4a13-86f7-acf7a0712fa2_1577584067473_210.mp3\n",
      "  - joke1.1_cabb3197-6b49-4a13-86f7-acf7a0712fa2_1577584101331_783.mp3\n",
      "Partial name: b841a482-9cc9-4a26-ab2c-9cf310018fbc\n",
      "  - joke1.1_b841a482-9cc9-4a26-ab2c-9cf310018fbc_1556897550692_89.mp3\n",
      "  - joke1.1_b841a482-9cc9-4a26-ab2c-9cf310018fbc_1556897788396_97.mp3\n",
      "  - joke1.1_b841a482-9cc9-4a26-ab2c-9cf310018fbc_1556897520293_410.mp3\n",
      "Partial name: 1319e4c3-e360-40f4-9279-fb1cfa9ed65a\n",
      "  - joke1.1_1319e4c3-e360-40f4-9279-fb1cfa9ed65a_1561383699061_749.mp3\n",
      "  - joke1.1_1319e4c3-e360-40f4-9279-fb1cfa9ed65a_1561383722009_464.mp3\n",
      "  - joke1.1_1319e4c3-e360-40f4-9279-fb1cfa9ed65a_1561383734143_646.mp3\n"
     ]
    }
   ],
   "source": [
    "find_multiple_matches(labelled_joke1_1_partial_filename, filtered_files)\n"
   ]
  },
  {
   "cell_type": "code",
   "execution_count": 50,
   "metadata": {},
   "outputs": [],
   "source": [
    "def find_matches(partial_names, complete_names):\n",
    "    data = []\n",
    "    for partial in partial_names:\n",
    "        matches = [name for name in complete_names if partial in name]\n",
    "        if len(matches) == 1:\n",
    "            data.append([partial, matches[0]])\n",
    "    \n",
    "    df = pd.DataFrame(data, columns=['VIDEOID/RESPONSEID', 'full_file_name'])\n",
    "    return df"
   ]
  },
  {
   "cell_type": "code",
   "execution_count": 51,
   "metadata": {},
   "outputs": [],
   "source": [
    "partial_complete_filenames = find_matches(labelled_joke1_1_partial_filename, filtered_files)"
   ]
  },
  {
   "cell_type": "code",
   "execution_count": 52,
   "metadata": {},
   "outputs": [
    {
     "data": {
      "text/html": [
       "<div>\n",
       "<style scoped>\n",
       "    .dataframe tbody tr th:only-of-type {\n",
       "        vertical-align: middle;\n",
       "    }\n",
       "\n",
       "    .dataframe tbody tr th {\n",
       "        vertical-align: top;\n",
       "    }\n",
       "\n",
       "    .dataframe thead th {\n",
       "        text-align: right;\n",
       "    }\n",
       "</style>\n",
       "<table border=\"1\" class=\"dataframe\">\n",
       "  <thead>\n",
       "    <tr style=\"text-align: right;\">\n",
       "      <th></th>\n",
       "      <th>VIDEOID/RESPONSEID</th>\n",
       "      <th>full_file_name</th>\n",
       "    </tr>\n",
       "  </thead>\n",
       "  <tbody>\n",
       "    <tr>\n",
       "      <th>0</th>\n",
       "      <td>73e855f3-6c3c-4673-86a0-c7f3dcfc7531</td>\n",
       "      <td>joke1.1_73e855f3-6c3c-4673-86a0-c7f3dcfc7531_1...</td>\n",
       "    </tr>\n",
       "    <tr>\n",
       "      <th>1</th>\n",
       "      <td>f889fba2-ad55-4b6a-ba67-baf589bf562e</td>\n",
       "      <td>joke1.1_f889fba2-ad55-4b6a-ba67-baf589bf562e_1...</td>\n",
       "    </tr>\n",
       "    <tr>\n",
       "      <th>2</th>\n",
       "      <td>ffd96b9b-89f7-4664-89a9-368ddea2e3e1</td>\n",
       "      <td>joke1.1_ffd96b9b-89f7-4664-89a9-368ddea2e3e1_1...</td>\n",
       "    </tr>\n",
       "    <tr>\n",
       "      <th>3</th>\n",
       "      <td>b1fbc9a4-f81f-4926-bc8f-c69b249d3259</td>\n",
       "      <td>joke1.1_b1fbc9a4-f81f-4926-bc8f-c69b249d3259_1...</td>\n",
       "    </tr>\n",
       "    <tr>\n",
       "      <th>4</th>\n",
       "      <td>b28fa101-b608-4c27-8f1e-dcf5cc8005b2</td>\n",
       "      <td>joke1.1_b28fa101-b608-4c27-8f1e-dcf5cc8005b2_1...</td>\n",
       "    </tr>\n",
       "  </tbody>\n",
       "</table>\n",
       "</div>"
      ],
      "text/plain": [
       "                     VIDEOID/RESPONSEID  \\\n",
       "0  73e855f3-6c3c-4673-86a0-c7f3dcfc7531   \n",
       "1  f889fba2-ad55-4b6a-ba67-baf589bf562e   \n",
       "2  ffd96b9b-89f7-4664-89a9-368ddea2e3e1   \n",
       "3  b1fbc9a4-f81f-4926-bc8f-c69b249d3259   \n",
       "4  b28fa101-b608-4c27-8f1e-dcf5cc8005b2   \n",
       "\n",
       "                                      full_file_name  \n",
       "0  joke1.1_73e855f3-6c3c-4673-86a0-c7f3dcfc7531_1...  \n",
       "1  joke1.1_f889fba2-ad55-4b6a-ba67-baf589bf562e_1...  \n",
       "2  joke1.1_ffd96b9b-89f7-4664-89a9-368ddea2e3e1_1...  \n",
       "3  joke1.1_b1fbc9a4-f81f-4926-bc8f-c69b249d3259_1...  \n",
       "4  joke1.1_b28fa101-b608-4c27-8f1e-dcf5cc8005b2_1...  "
      ]
     },
     "execution_count": 52,
     "metadata": {},
     "output_type": "execute_result"
    }
   ],
   "source": [
    "partial_complete_filenames.head()"
   ]
  },
  {
   "cell_type": "code",
   "execution_count": 53,
   "metadata": {},
   "outputs": [],
   "source": [
    "processed_results.rename(columns={\"filename\":\"full_file_name\"},inplace=True)"
   ]
  },
  {
   "cell_type": "code",
   "execution_count": 54,
   "metadata": {},
   "outputs": [
    {
     "data": {
      "text/html": [
       "<div>\n",
       "<style scoped>\n",
       "    .dataframe tbody tr th:only-of-type {\n",
       "        vertical-align: middle;\n",
       "    }\n",
       "\n",
       "    .dataframe tbody tr th {\n",
       "        vertical-align: top;\n",
       "    }\n",
       "\n",
       "    .dataframe thead th {\n",
       "        text-align: right;\n",
       "    }\n",
       "</style>\n",
       "<table border=\"1\" class=\"dataframe\">\n",
       "  <thead>\n",
       "    <tr style=\"text-align: right;\">\n",
       "      <th></th>\n",
       "      <th>full_file_name</th>\n",
       "      <th>num_laughs</th>\n",
       "      <th>results</th>\n",
       "    </tr>\n",
       "  </thead>\n",
       "  <tbody>\n",
       "    <tr>\n",
       "      <th>0</th>\n",
       "      <td>joke1.1_088ca5ae-9b47-469b-a197-d7872f5ae9d6_1...</td>\n",
       "      <td>0</td>\n",
       "      <td>[]</td>\n",
       "    </tr>\n",
       "    <tr>\n",
       "      <th>1</th>\n",
       "      <td>joke1.1_5f9cb3c3-dba6-4a27-9881-57a95c7efe7a_1...</td>\n",
       "      <td>2</td>\n",
       "      <td>[{'file_name': './output_segments/joke1.1_5f9c...</td>\n",
       "    </tr>\n",
       "    <tr>\n",
       "      <th>2</th>\n",
       "      <td>joke1.1_22fa22ac-9f30-40e2-89b8-41ee3a8e89cf_1...</td>\n",
       "      <td>0</td>\n",
       "      <td>[]</td>\n",
       "    </tr>\n",
       "    <tr>\n",
       "      <th>3</th>\n",
       "      <td>joke1.1_2a3186e4-8f1e-42e8-84a3-172610e3dec4_1...</td>\n",
       "      <td>1</td>\n",
       "      <td>[{'file_name': './output_segments/joke1.1_2a31...</td>\n",
       "    </tr>\n",
       "    <tr>\n",
       "      <th>4</th>\n",
       "      <td>joke1.1_9f94b24b-25ac-4266-a3f5-17f48f7feaa6_1...</td>\n",
       "      <td>1</td>\n",
       "      <td>[{'file_name': './output_segments/joke1.1_9f94...</td>\n",
       "    </tr>\n",
       "  </tbody>\n",
       "</table>\n",
       "</div>"
      ],
      "text/plain": [
       "                                      full_file_name  num_laughs  \\\n",
       "0  joke1.1_088ca5ae-9b47-469b-a197-d7872f5ae9d6_1...           0   \n",
       "1  joke1.1_5f9cb3c3-dba6-4a27-9881-57a95c7efe7a_1...           2   \n",
       "2  joke1.1_22fa22ac-9f30-40e2-89b8-41ee3a8e89cf_1...           0   \n",
       "3  joke1.1_2a3186e4-8f1e-42e8-84a3-172610e3dec4_1...           1   \n",
       "4  joke1.1_9f94b24b-25ac-4266-a3f5-17f48f7feaa6_1...           1   \n",
       "\n",
       "                                             results  \n",
       "0                                                 []  \n",
       "1  [{'file_name': './output_segments/joke1.1_5f9c...  \n",
       "2                                                 []  \n",
       "3  [{'file_name': './output_segments/joke1.1_2a31...  \n",
       "4  [{'file_name': './output_segments/joke1.1_9f94...  "
      ]
     },
     "execution_count": 54,
     "metadata": {},
     "output_type": "execute_result"
    }
   ],
   "source": [
    "processed_results.head()"
   ]
  },
  {
   "cell_type": "code",
   "execution_count": 55,
   "metadata": {},
   "outputs": [
    {
     "data": {
      "text/plain": [
       "119"
      ]
     },
     "execution_count": 55,
     "metadata": {},
     "output_type": "execute_result"
    }
   ],
   "source": [
    "len(processed_results)"
   ]
  },
  {
   "cell_type": "code",
   "execution_count": 56,
   "metadata": {},
   "outputs": [
    {
     "data": {
      "text/plain": [
       "70"
      ]
     },
     "execution_count": 56,
     "metadata": {},
     "output_type": "execute_result"
    }
   ],
   "source": [
    "len(partial_complete_filenames)"
   ]
  },
  {
   "cell_type": "code",
   "execution_count": 59,
   "metadata": {},
   "outputs": [
    {
     "data": {
      "text/html": [
       "<div>\n",
       "<style scoped>\n",
       "    .dataframe tbody tr th:only-of-type {\n",
       "        vertical-align: middle;\n",
       "    }\n",
       "\n",
       "    .dataframe tbody tr th {\n",
       "        vertical-align: top;\n",
       "    }\n",
       "\n",
       "    .dataframe thead th {\n",
       "        text-align: right;\n",
       "    }\n",
       "</style>\n",
       "<table border=\"1\" class=\"dataframe\">\n",
       "  <thead>\n",
       "    <tr style=\"text-align: right;\">\n",
       "      <th></th>\n",
       "      <th>full_file_name</th>\n",
       "      <th>num_laughs</th>\n",
       "      <th>results</th>\n",
       "      <th>VIDEOID/RESPONSEID</th>\n",
       "    </tr>\n",
       "  </thead>\n",
       "  <tbody>\n",
       "    <tr>\n",
       "      <th>0</th>\n",
       "      <td>joke1.1_088ca5ae-9b47-469b-a197-d7872f5ae9d6_1...</td>\n",
       "      <td>0.0</td>\n",
       "      <td>[]</td>\n",
       "      <td>NaN</td>\n",
       "    </tr>\n",
       "    <tr>\n",
       "      <th>1</th>\n",
       "      <td>joke1.1_5f9cb3c3-dba6-4a27-9881-57a95c7efe7a_1...</td>\n",
       "      <td>2.0</td>\n",
       "      <td>[{'file_name': './output_segments/joke1.1_5f9c...</td>\n",
       "      <td>NaN</td>\n",
       "    </tr>\n",
       "    <tr>\n",
       "      <th>2</th>\n",
       "      <td>joke1.1_22fa22ac-9f30-40e2-89b8-41ee3a8e89cf_1...</td>\n",
       "      <td>0.0</td>\n",
       "      <td>[]</td>\n",
       "      <td>NaN</td>\n",
       "    </tr>\n",
       "    <tr>\n",
       "      <th>3</th>\n",
       "      <td>joke1.1_2a3186e4-8f1e-42e8-84a3-172610e3dec4_1...</td>\n",
       "      <td>1.0</td>\n",
       "      <td>[{'file_name': './output_segments/joke1.1_2a31...</td>\n",
       "      <td>NaN</td>\n",
       "    </tr>\n",
       "    <tr>\n",
       "      <th>4</th>\n",
       "      <td>joke1.1_9f94b24b-25ac-4266-a3f5-17f48f7feaa6_1...</td>\n",
       "      <td>1.0</td>\n",
       "      <td>[{'file_name': './output_segments/joke1.1_9f94...</td>\n",
       "      <td>NaN</td>\n",
       "    </tr>\n",
       "  </tbody>\n",
       "</table>\n",
       "</div>"
      ],
      "text/plain": [
       "                                      full_file_name  num_laughs  \\\n",
       "0  joke1.1_088ca5ae-9b47-469b-a197-d7872f5ae9d6_1...         0.0   \n",
       "1  joke1.1_5f9cb3c3-dba6-4a27-9881-57a95c7efe7a_1...         2.0   \n",
       "2  joke1.1_22fa22ac-9f30-40e2-89b8-41ee3a8e89cf_1...         0.0   \n",
       "3  joke1.1_2a3186e4-8f1e-42e8-84a3-172610e3dec4_1...         1.0   \n",
       "4  joke1.1_9f94b24b-25ac-4266-a3f5-17f48f7feaa6_1...         1.0   \n",
       "\n",
       "                                             results VIDEOID/RESPONSEID  \n",
       "0                                                 []                NaN  \n",
       "1  [{'file_name': './output_segments/joke1.1_5f9c...                NaN  \n",
       "2                                                 []                NaN  \n",
       "3  [{'file_name': './output_segments/joke1.1_2a31...                NaN  \n",
       "4  [{'file_name': './output_segments/joke1.1_9f94...                NaN  "
      ]
     },
     "execution_count": 59,
     "metadata": {},
     "output_type": "execute_result"
    }
   ],
   "source": [
    "# Combine the two DataFrames\n",
    "combined_df = pd.concat([processed_results, partial_complete_filenames], ignore_index=True)\n",
    "combined_df.head()"
   ]
  },
  {
   "cell_type": "code",
   "execution_count": 61,
   "metadata": {},
   "outputs": [
    {
     "data": {
      "text/html": [
       "<div>\n",
       "<style scoped>\n",
       "    .dataframe tbody tr th:only-of-type {\n",
       "        vertical-align: middle;\n",
       "    }\n",
       "\n",
       "    .dataframe tbody tr th {\n",
       "        vertical-align: top;\n",
       "    }\n",
       "\n",
       "    .dataframe thead th {\n",
       "        text-align: right;\n",
       "    }\n",
       "</style>\n",
       "<table border=\"1\" class=\"dataframe\">\n",
       "  <thead>\n",
       "    <tr style=\"text-align: right;\">\n",
       "      <th></th>\n",
       "      <th>full_file_name</th>\n",
       "      <th>num_laughs</th>\n",
       "      <th>results</th>\n",
       "      <th>VIDEOID/RESPONSEID</th>\n",
       "    </tr>\n",
       "  </thead>\n",
       "  <tbody>\n",
       "    <tr>\n",
       "      <th>0</th>\n",
       "      <td>joke1.1_088ca5ae-9b47-469b-a197-d7872f5ae9d6_1...</td>\n",
       "      <td>0.0</td>\n",
       "      <td>[]</td>\n",
       "      <td>NaN</td>\n",
       "    </tr>\n",
       "    <tr>\n",
       "      <th>2</th>\n",
       "      <td>joke1.1_22fa22ac-9f30-40e2-89b8-41ee3a8e89cf_1...</td>\n",
       "      <td>0.0</td>\n",
       "      <td>[]</td>\n",
       "      <td>NaN</td>\n",
       "    </tr>\n",
       "    <tr>\n",
       "      <th>6</th>\n",
       "      <td>joke1.1_1319e4c3-e360-40f4-9279-fb1cfa9ed65a_1...</td>\n",
       "      <td>0.0</td>\n",
       "      <td>[]</td>\n",
       "      <td>NaN</td>\n",
       "    </tr>\n",
       "    <tr>\n",
       "      <th>10</th>\n",
       "      <td>joke1.1_1319e4c3-e360-40f4-9279-fb1cfa9ed65a_1...</td>\n",
       "      <td>1.0</td>\n",
       "      <td>[{'file_name': './output_segments/joke1.1_1319...</td>\n",
       "      <td>NaN</td>\n",
       "    </tr>\n",
       "    <tr>\n",
       "      <th>11</th>\n",
       "      <td>joke1.1_60048bfe-321a-4d65-b842-5bea0ed98c58_1...</td>\n",
       "      <td>0.0</td>\n",
       "      <td>[]</td>\n",
       "      <td>NaN</td>\n",
       "    </tr>\n",
       "  </tbody>\n",
       "</table>\n",
       "</div>"
      ],
      "text/plain": [
       "                                       full_file_name  num_laughs  \\\n",
       "0   joke1.1_088ca5ae-9b47-469b-a197-d7872f5ae9d6_1...         0.0   \n",
       "2   joke1.1_22fa22ac-9f30-40e2-89b8-41ee3a8e89cf_1...         0.0   \n",
       "6   joke1.1_1319e4c3-e360-40f4-9279-fb1cfa9ed65a_1...         0.0   \n",
       "10  joke1.1_1319e4c3-e360-40f4-9279-fb1cfa9ed65a_1...         1.0   \n",
       "11  joke1.1_60048bfe-321a-4d65-b842-5bea0ed98c58_1...         0.0   \n",
       "\n",
       "                                              results VIDEOID/RESPONSEID  \n",
       "0                                                  []                NaN  \n",
       "2                                                  []                NaN  \n",
       "6                                                  []                NaN  \n",
       "10  [{'file_name': './output_segments/joke1.1_1319...                NaN  \n",
       "11                                                 []                NaN  "
      ]
     },
     "execution_count": 61,
     "metadata": {},
     "output_type": "execute_result"
    }
   ],
   "source": [
    "# Drop all duplicate rows based on the 'full_file_name' column\n",
    "unique_df = combined_df.drop_duplicates(subset='full_file_name', keep=False)\n",
    "unique_df.head()"
   ]
  },
  {
   "cell_type": "code",
   "execution_count": 62,
   "metadata": {},
   "outputs": [
    {
     "data": {
      "text/plain": [
       "(53, 4)"
      ]
     },
     "execution_count": 62,
     "metadata": {},
     "output_type": "execute_result"
    }
   ],
   "source": [
    "unique_df.shape"
   ]
  },
  {
   "cell_type": "code",
   "execution_count": 63,
   "metadata": {},
   "outputs": [],
   "source": [
    "# Join the dataframes using the 'key' column\n",
    "joined_df = processed_results.merge(partial_complete_filenames, on='full_file_name', how='inner')"
   ]
  },
  {
   "cell_type": "code",
   "execution_count": 64,
   "metadata": {},
   "outputs": [
    {
     "data": {
      "text/plain": [
       "(70, 4)"
      ]
     },
     "execution_count": 64,
     "metadata": {},
     "output_type": "execute_result"
    }
   ],
   "source": [
    "\n",
    "joined_df.shape"
   ]
  },
  {
   "cell_type": "code",
   "execution_count": 65,
   "metadata": {},
   "outputs": [
    {
     "data": {
      "text/html": [
       "<div>\n",
       "<style scoped>\n",
       "    .dataframe tbody tr th:only-of-type {\n",
       "        vertical-align: middle;\n",
       "    }\n",
       "\n",
       "    .dataframe tbody tr th {\n",
       "        vertical-align: top;\n",
       "    }\n",
       "\n",
       "    .dataframe thead th {\n",
       "        text-align: right;\n",
       "    }\n",
       "</style>\n",
       "<table border=\"1\" class=\"dataframe\">\n",
       "  <thead>\n",
       "    <tr style=\"text-align: right;\">\n",
       "      <th></th>\n",
       "      <th>full_file_name</th>\n",
       "      <th>num_laughs</th>\n",
       "      <th>results</th>\n",
       "      <th>VIDEOID/RESPONSEID</th>\n",
       "    </tr>\n",
       "  </thead>\n",
       "  <tbody>\n",
       "    <tr>\n",
       "      <th>0</th>\n",
       "      <td>joke1.1_5f9cb3c3-dba6-4a27-9881-57a95c7efe7a_1...</td>\n",
       "      <td>2</td>\n",
       "      <td>[{'file_name': './output_segments/joke1.1_5f9c...</td>\n",
       "      <td>5f9cb3c3-dba6-4a27-9881-57a95c7efe7a</td>\n",
       "    </tr>\n",
       "    <tr>\n",
       "      <th>1</th>\n",
       "      <td>joke1.1_2a3186e4-8f1e-42e8-84a3-172610e3dec4_1...</td>\n",
       "      <td>1</td>\n",
       "      <td>[{'file_name': './output_segments/joke1.1_2a31...</td>\n",
       "      <td>2a3186e4-8f1e-42e8-84a3-172610e3dec4</td>\n",
       "    </tr>\n",
       "    <tr>\n",
       "      <th>2</th>\n",
       "      <td>joke1.1_9f94b24b-25ac-4266-a3f5-17f48f7feaa6_1...</td>\n",
       "      <td>1</td>\n",
       "      <td>[{'file_name': './output_segments/joke1.1_9f94...</td>\n",
       "      <td>9f94b24b-25ac-4266-a3f5-17f48f7feaa6</td>\n",
       "    </tr>\n",
       "    <tr>\n",
       "      <th>3</th>\n",
       "      <td>joke1.1_246e8874-e4dd-4fbb-83ce-41d70ca77876_1...</td>\n",
       "      <td>4</td>\n",
       "      <td>[{'file_name': './output_segments/joke1.1_246e...</td>\n",
       "      <td>246e8874-e4dd-4fbb-83ce-41d70ca77876</td>\n",
       "    </tr>\n",
       "    <tr>\n",
       "      <th>4</th>\n",
       "      <td>joke1.1_246e8874-e4dd-4fbb-83ce-41d70ca77876_1...</td>\n",
       "      <td>4</td>\n",
       "      <td>[{'file_name': './output_segments/joke1.1_246e...</td>\n",
       "      <td>246e8874-e4dd-4fbb-83ce-41d70ca77876</td>\n",
       "    </tr>\n",
       "  </tbody>\n",
       "</table>\n",
       "</div>"
      ],
      "text/plain": [
       "                                      full_file_name  num_laughs  \\\n",
       "0  joke1.1_5f9cb3c3-dba6-4a27-9881-57a95c7efe7a_1...           2   \n",
       "1  joke1.1_2a3186e4-8f1e-42e8-84a3-172610e3dec4_1...           1   \n",
       "2  joke1.1_9f94b24b-25ac-4266-a3f5-17f48f7feaa6_1...           1   \n",
       "3  joke1.1_246e8874-e4dd-4fbb-83ce-41d70ca77876_1...           4   \n",
       "4  joke1.1_246e8874-e4dd-4fbb-83ce-41d70ca77876_1...           4   \n",
       "\n",
       "                                             results  \\\n",
       "0  [{'file_name': './output_segments/joke1.1_5f9c...   \n",
       "1  [{'file_name': './output_segments/joke1.1_2a31...   \n",
       "2  [{'file_name': './output_segments/joke1.1_9f94...   \n",
       "3  [{'file_name': './output_segments/joke1.1_246e...   \n",
       "4  [{'file_name': './output_segments/joke1.1_246e...   \n",
       "\n",
       "                     VIDEOID/RESPONSEID  \n",
       "0  5f9cb3c3-dba6-4a27-9881-57a95c7efe7a  \n",
       "1  2a3186e4-8f1e-42e8-84a3-172610e3dec4  \n",
       "2  9f94b24b-25ac-4266-a3f5-17f48f7feaa6  \n",
       "3  246e8874-e4dd-4fbb-83ce-41d70ca77876  \n",
       "4  246e8874-e4dd-4fbb-83ce-41d70ca77876  "
      ]
     },
     "execution_count": 65,
     "metadata": {},
     "output_type": "execute_result"
    }
   ],
   "source": [
    "joined_df.head()"
   ]
  },
  {
   "cell_type": "code",
   "execution_count": 66,
   "metadata": {},
   "outputs": [
    {
     "data": {
      "text/plain": [
       "False"
      ]
     },
     "execution_count": 66,
     "metadata": {},
     "output_type": "execute_result"
    }
   ],
   "source": [
    "joined_df.isnull().any(axis=1).any()"
   ]
  },
  {
   "cell_type": "code",
   "execution_count": 67,
   "metadata": {},
   "outputs": [
    {
     "data": {
      "text/plain": [
       "66"
      ]
     },
     "execution_count": 67,
     "metadata": {},
     "output_type": "execute_result"
    }
   ],
   "source": [
    "joined_df[\"VIDEOID/RESPONSEID\"].nunique()"
   ]
  },
  {
   "cell_type": "code",
   "execution_count": 68,
   "metadata": {},
   "outputs": [
    {
     "data": {
      "text/html": [
       "<div>\n",
       "<style scoped>\n",
       "    .dataframe tbody tr th:only-of-type {\n",
       "        vertical-align: middle;\n",
       "    }\n",
       "\n",
       "    .dataframe tbody tr th {\n",
       "        vertical-align: top;\n",
       "    }\n",
       "\n",
       "    .dataframe thead th {\n",
       "        text-align: right;\n",
       "    }\n",
       "</style>\n",
       "<table border=\"1\" class=\"dataframe\">\n",
       "  <thead>\n",
       "    <tr style=\"text-align: right;\">\n",
       "      <th></th>\n",
       "      <th>full_file_name</th>\n",
       "      <th>num_laughs</th>\n",
       "      <th>results</th>\n",
       "      <th>VIDEOID/RESPONSEID</th>\n",
       "    </tr>\n",
       "  </thead>\n",
       "  <tbody>\n",
       "    <tr>\n",
       "      <th>3</th>\n",
       "      <td>joke1.1_246e8874-e4dd-4fbb-83ce-41d70ca77876_1...</td>\n",
       "      <td>4</td>\n",
       "      <td>[{'file_name': './output_segments/joke1.1_246e...</td>\n",
       "      <td>246e8874-e4dd-4fbb-83ce-41d70ca77876</td>\n",
       "    </tr>\n",
       "    <tr>\n",
       "      <th>4</th>\n",
       "      <td>joke1.1_246e8874-e4dd-4fbb-83ce-41d70ca77876_1...</td>\n",
       "      <td>4</td>\n",
       "      <td>[{'file_name': './output_segments/joke1.1_246e...</td>\n",
       "      <td>246e8874-e4dd-4fbb-83ce-41d70ca77876</td>\n",
       "    </tr>\n",
       "    <tr>\n",
       "      <th>5</th>\n",
       "      <td>joke1.1_7d9817b4-3ee8-4cb3-a474-1789b08faf3a_1...</td>\n",
       "      <td>2</td>\n",
       "      <td>[{'file_name': './output_segments/joke1.1_7d98...</td>\n",
       "      <td>7d9817b4-3ee8-4cb3-a474-1789b08faf3a</td>\n",
       "    </tr>\n",
       "    <tr>\n",
       "      <th>6</th>\n",
       "      <td>joke1.1_7d9817b4-3ee8-4cb3-a474-1789b08faf3a_1...</td>\n",
       "      <td>2</td>\n",
       "      <td>[{'file_name': './output_segments/joke1.1_7d98...</td>\n",
       "      <td>7d9817b4-3ee8-4cb3-a474-1789b08faf3a</td>\n",
       "    </tr>\n",
       "    <tr>\n",
       "      <th>35</th>\n",
       "      <td>joke1.1_b28fa101-b608-4c27-8f1e-dcf5cc8005b2_1...</td>\n",
       "      <td>1</td>\n",
       "      <td>[{'file_name': './output_segments/joke1.1_b28f...</td>\n",
       "      <td>b28fa101-b608-4c27-8f1e-dcf5cc8005b2</td>\n",
       "    </tr>\n",
       "    <tr>\n",
       "      <th>36</th>\n",
       "      <td>joke1.1_b28fa101-b608-4c27-8f1e-dcf5cc8005b2_1...</td>\n",
       "      <td>1</td>\n",
       "      <td>[{'file_name': './output_segments/joke1.1_b28f...</td>\n",
       "      <td>b28fa101-b608-4c27-8f1e-dcf5cc8005b2</td>\n",
       "    </tr>\n",
       "    <tr>\n",
       "      <th>56</th>\n",
       "      <td>joke1.1_a33829cd-c0b8-4daf-9d2e-5689e9591413_1...</td>\n",
       "      <td>0</td>\n",
       "      <td>[]</td>\n",
       "      <td>a33829cd-c0b8-4daf-9d2e-5689e9591413</td>\n",
       "    </tr>\n",
       "    <tr>\n",
       "      <th>57</th>\n",
       "      <td>joke1.1_a33829cd-c0b8-4daf-9d2e-5689e9591413_1...</td>\n",
       "      <td>0</td>\n",
       "      <td>[]</td>\n",
       "      <td>a33829cd-c0b8-4daf-9d2e-5689e9591413</td>\n",
       "    </tr>\n",
       "  </tbody>\n",
       "</table>\n",
       "</div>"
      ],
      "text/plain": [
       "                                       full_file_name  num_laughs  \\\n",
       "3   joke1.1_246e8874-e4dd-4fbb-83ce-41d70ca77876_1...           4   \n",
       "4   joke1.1_246e8874-e4dd-4fbb-83ce-41d70ca77876_1...           4   \n",
       "5   joke1.1_7d9817b4-3ee8-4cb3-a474-1789b08faf3a_1...           2   \n",
       "6   joke1.1_7d9817b4-3ee8-4cb3-a474-1789b08faf3a_1...           2   \n",
       "35  joke1.1_b28fa101-b608-4c27-8f1e-dcf5cc8005b2_1...           1   \n",
       "36  joke1.1_b28fa101-b608-4c27-8f1e-dcf5cc8005b2_1...           1   \n",
       "56  joke1.1_a33829cd-c0b8-4daf-9d2e-5689e9591413_1...           0   \n",
       "57  joke1.1_a33829cd-c0b8-4daf-9d2e-5689e9591413_1...           0   \n",
       "\n",
       "                                              results  \\\n",
       "3   [{'file_name': './output_segments/joke1.1_246e...   \n",
       "4   [{'file_name': './output_segments/joke1.1_246e...   \n",
       "5   [{'file_name': './output_segments/joke1.1_7d98...   \n",
       "6   [{'file_name': './output_segments/joke1.1_7d98...   \n",
       "35  [{'file_name': './output_segments/joke1.1_b28f...   \n",
       "36  [{'file_name': './output_segments/joke1.1_b28f...   \n",
       "56                                                 []   \n",
       "57                                                 []   \n",
       "\n",
       "                      VIDEOID/RESPONSEID  \n",
       "3   246e8874-e4dd-4fbb-83ce-41d70ca77876  \n",
       "4   246e8874-e4dd-4fbb-83ce-41d70ca77876  \n",
       "5   7d9817b4-3ee8-4cb3-a474-1789b08faf3a  \n",
       "6   7d9817b4-3ee8-4cb3-a474-1789b08faf3a  \n",
       "35  b28fa101-b608-4c27-8f1e-dcf5cc8005b2  \n",
       "36  b28fa101-b608-4c27-8f1e-dcf5cc8005b2  \n",
       "56  a33829cd-c0b8-4daf-9d2e-5689e9591413  \n",
       "57  a33829cd-c0b8-4daf-9d2e-5689e9591413  "
      ]
     },
     "execution_count": 68,
     "metadata": {},
     "output_type": "execute_result"
    }
   ],
   "source": [
    "duplicate_rows = joined_df[joined_df[\"VIDEOID/RESPONSEID\"].duplicated(keep=False)]\n",
    "duplicate_rows"
   ]
  },
  {
   "cell_type": "code",
   "execution_count": 70,
   "metadata": {},
   "outputs": [
    {
     "data": {
      "text/html": [
       "<div>\n",
       "<style scoped>\n",
       "    .dataframe tbody tr th:only-of-type {\n",
       "        vertical-align: middle;\n",
       "    }\n",
       "\n",
       "    .dataframe tbody tr th {\n",
       "        vertical-align: top;\n",
       "    }\n",
       "\n",
       "    .dataframe thead th {\n",
       "        text-align: right;\n",
       "    }\n",
       "</style>\n",
       "<table border=\"1\" class=\"dataframe\">\n",
       "  <thead>\n",
       "    <tr style=\"text-align: right;\">\n",
       "      <th></th>\n",
       "      <th>full_file_name</th>\n",
       "      <th>num_laughs</th>\n",
       "      <th>results</th>\n",
       "      <th>VIDEOID/RESPONSEID</th>\n",
       "    </tr>\n",
       "  </thead>\n",
       "  <tbody>\n",
       "    <tr>\n",
       "      <th>0</th>\n",
       "      <td>joke1.1_5f9cb3c3-dba6-4a27-9881-57a95c7efe7a_1...</td>\n",
       "      <td>2</td>\n",
       "      <td>[{'file_name': './output_segments/joke1.1_5f9c...</td>\n",
       "      <td>5f9cb3c3-dba6-4a27-9881-57a95c7efe7a</td>\n",
       "    </tr>\n",
       "    <tr>\n",
       "      <th>1</th>\n",
       "      <td>joke1.1_2a3186e4-8f1e-42e8-84a3-172610e3dec4_1...</td>\n",
       "      <td>1</td>\n",
       "      <td>[{'file_name': './output_segments/joke1.1_2a31...</td>\n",
       "      <td>2a3186e4-8f1e-42e8-84a3-172610e3dec4</td>\n",
       "    </tr>\n",
       "    <tr>\n",
       "      <th>2</th>\n",
       "      <td>joke1.1_9f94b24b-25ac-4266-a3f5-17f48f7feaa6_1...</td>\n",
       "      <td>1</td>\n",
       "      <td>[{'file_name': './output_segments/joke1.1_9f94...</td>\n",
       "      <td>9f94b24b-25ac-4266-a3f5-17f48f7feaa6</td>\n",
       "    </tr>\n",
       "    <tr>\n",
       "      <th>7</th>\n",
       "      <td>joke1.1_c4f82db5-2182-47c3-8d85-ac0ca5b205c4_1...</td>\n",
       "      <td>1</td>\n",
       "      <td>[{'file_name': './output_segments/joke1.1_c4f8...</td>\n",
       "      <td>c4f82db5-2182-47c3-8d85-ac0ca5b205c4</td>\n",
       "    </tr>\n",
       "    <tr>\n",
       "      <th>8</th>\n",
       "      <td>joke1.1_e986fa51-78fe-4e4e-99cb-a7540bd83174_1...</td>\n",
       "      <td>1</td>\n",
       "      <td>[{'file_name': './output_segments/joke1.1_e986...</td>\n",
       "      <td>e986fa51-78fe-4e4e-99cb-a7540bd83174</td>\n",
       "    </tr>\n",
       "  </tbody>\n",
       "</table>\n",
       "</div>"
      ],
      "text/plain": [
       "                                      full_file_name  num_laughs  \\\n",
       "0  joke1.1_5f9cb3c3-dba6-4a27-9881-57a95c7efe7a_1...           2   \n",
       "1  joke1.1_2a3186e4-8f1e-42e8-84a3-172610e3dec4_1...           1   \n",
       "2  joke1.1_9f94b24b-25ac-4266-a3f5-17f48f7feaa6_1...           1   \n",
       "7  joke1.1_c4f82db5-2182-47c3-8d85-ac0ca5b205c4_1...           1   \n",
       "8  joke1.1_e986fa51-78fe-4e4e-99cb-a7540bd83174_1...           1   \n",
       "\n",
       "                                             results  \\\n",
       "0  [{'file_name': './output_segments/joke1.1_5f9c...   \n",
       "1  [{'file_name': './output_segments/joke1.1_2a31...   \n",
       "2  [{'file_name': './output_segments/joke1.1_9f94...   \n",
       "7  [{'file_name': './output_segments/joke1.1_c4f8...   \n",
       "8  [{'file_name': './output_segments/joke1.1_e986...   \n",
       "\n",
       "                     VIDEOID/RESPONSEID  \n",
       "0  5f9cb3c3-dba6-4a27-9881-57a95c7efe7a  \n",
       "1  2a3186e4-8f1e-42e8-84a3-172610e3dec4  \n",
       "2  9f94b24b-25ac-4266-a3f5-17f48f7feaa6  \n",
       "7  c4f82db5-2182-47c3-8d85-ac0ca5b205c4  \n",
       "8  e986fa51-78fe-4e4e-99cb-a7540bd83174  "
      ]
     },
     "execution_count": 70,
     "metadata": {},
     "output_type": "execute_result"
    }
   ],
   "source": [
    "# duplicate free\n",
    "unique_files = joined_df.drop_duplicates(subset=\"VIDEOID/RESPONSEID\", keep=False)\n",
    "unique_files.head()"
   ]
  },
  {
   "cell_type": "code",
   "execution_count": 72,
   "metadata": {},
   "outputs": [
    {
     "data": {
      "text/plain": [
       "(62, 4)"
      ]
     },
     "execution_count": 72,
     "metadata": {},
     "output_type": "execute_result"
    }
   ],
   "source": [
    "unique_files.shape"
   ]
  },
  {
   "cell_type": "code",
   "execution_count": 71,
   "metadata": {},
   "outputs": [
    {
     "data": {
      "text/html": [
       "<div>\n",
       "<style scoped>\n",
       "    .dataframe tbody tr th:only-of-type {\n",
       "        vertical-align: middle;\n",
       "    }\n",
       "\n",
       "    .dataframe tbody tr th {\n",
       "        vertical-align: top;\n",
       "    }\n",
       "\n",
       "    .dataframe thead th {\n",
       "        text-align: right;\n",
       "    }\n",
       "</style>\n",
       "<table border=\"1\" class=\"dataframe\">\n",
       "  <thead>\n",
       "    <tr style=\"text-align: right;\">\n",
       "      <th></th>\n",
       "      <th>VIDEOID/RESPONSEID</th>\n",
       "      <th>ChildHashedID</th>\n",
       "      <th>age_in_days</th>\n",
       "      <th>gender</th>\n",
       "      <th>Consent</th>\n",
       "      <th>JokeOrder</th>\n",
       "      <th>joke1.laugh.1</th>\n",
       "      <th>joke1.howfunny.1</th>\n",
       "      <th>joke1.laugh.2</th>\n",
       "      <th>joke1.howfunny.2</th>\n",
       "      <th>...</th>\n",
       "      <th>ThatsNotACat.laugh.2</th>\n",
       "      <th>ThatsNotACat.howfunny.2</th>\n",
       "      <th>ThatsNotACat.laugh.3</th>\n",
       "      <th>ThatsNotACat.howfunny.3</th>\n",
       "      <th>TearingPaper.laugh.1</th>\n",
       "      <th>TearingPaper.howfunny.1</th>\n",
       "      <th>TearingPaper.laugh.2</th>\n",
       "      <th>TearingPaper.howfunny.2</th>\n",
       "      <th>TearingPaper.laugh.3</th>\n",
       "      <th>TearingPaper.howfunny.3</th>\n",
       "    </tr>\n",
       "  </thead>\n",
       "  <tbody>\n",
       "    <tr>\n",
       "      <th>0</th>\n",
       "      <td>4d16ddd9-e207-45d0-bed8-4e2bf8df60ea</td>\n",
       "      <td>FHN26F</td>\n",
       "      <td>105</td>\n",
       "      <td>f</td>\n",
       "      <td>accepted</td>\n",
       "      <td>['ThatsNotACat', 'Peekaboo', 'ThatsNotAHat', '...</td>\n",
       "      <td>No</td>\n",
       "      <td>Not funny</td>\n",
       "      <td>No</td>\n",
       "      <td>Not funny</td>\n",
       "      <td>...</td>\n",
       "      <td>No</td>\n",
       "      <td>Not funny</td>\n",
       "      <td>No</td>\n",
       "      <td>Not funny</td>\n",
       "      <td>No</td>\n",
       "      <td>Slightly funny</td>\n",
       "      <td>No</td>\n",
       "      <td>Not funny</td>\n",
       "      <td>No</td>\n",
       "      <td>Not funny</td>\n",
       "    </tr>\n",
       "    <tr>\n",
       "      <th>1</th>\n",
       "      <td>73e855f3-6c3c-4673-86a0-c7f3dcfc7531</td>\n",
       "      <td>ZCH3UU</td>\n",
       "      <td>121</td>\n",
       "      <td>m</td>\n",
       "      <td>accepted</td>\n",
       "      <td>['TearingPaper', 'NomNomNom', 'ThatsNotAHat', ...</td>\n",
       "      <td>No</td>\n",
       "      <td>Not funny</td>\n",
       "      <td>No</td>\n",
       "      <td>Not funny</td>\n",
       "      <td>...</td>\n",
       "      <td>No</td>\n",
       "      <td>Not funny</td>\n",
       "      <td>No</td>\n",
       "      <td>Not funny</td>\n",
       "      <td>No</td>\n",
       "      <td>Not funny</td>\n",
       "      <td>No</td>\n",
       "      <td>Not funny</td>\n",
       "      <td>No</td>\n",
       "      <td>Not funny</td>\n",
       "    </tr>\n",
       "    <tr>\n",
       "      <th>2</th>\n",
       "      <td>f889fba2-ad55-4b6a-ba67-baf589bf562e</td>\n",
       "      <td>USMEcW</td>\n",
       "      <td>132</td>\n",
       "      <td>f</td>\n",
       "      <td>accepted</td>\n",
       "      <td>['TearingPaper', 'Peekaboo', 'ThatsNotAHat', '...</td>\n",
       "      <td>No</td>\n",
       "      <td>Not funny</td>\n",
       "      <td>No</td>\n",
       "      <td>Not funny</td>\n",
       "      <td>...</td>\n",
       "      <td>No</td>\n",
       "      <td>Not funny</td>\n",
       "      <td>No</td>\n",
       "      <td>Not funny</td>\n",
       "      <td>No</td>\n",
       "      <td>Not funny</td>\n",
       "      <td>No</td>\n",
       "      <td>Not funny</td>\n",
       "      <td>No</td>\n",
       "      <td>Not funny</td>\n",
       "    </tr>\n",
       "    <tr>\n",
       "      <th>3</th>\n",
       "      <td>ffd96b9b-89f7-4664-89a9-368ddea2e3e1</td>\n",
       "      <td>ZWYN3M</td>\n",
       "      <td>135</td>\n",
       "      <td>f</td>\n",
       "      <td>accepted</td>\n",
       "      <td>['ThatsNotACat', 'NomNomNom', 'ThatsNotAHat', ...</td>\n",
       "      <td>No</td>\n",
       "      <td>Funny</td>\n",
       "      <td>No</td>\n",
       "      <td>Funny</td>\n",
       "      <td>...</td>\n",
       "      <td>No</td>\n",
       "      <td>Funny</td>\n",
       "      <td>No</td>\n",
       "      <td>Funny</td>\n",
       "      <td>No</td>\n",
       "      <td>Not funny</td>\n",
       "      <td>No</td>\n",
       "      <td>Not funny</td>\n",
       "      <td>No</td>\n",
       "      <td>Slightly funny</td>\n",
       "    </tr>\n",
       "    <tr>\n",
       "      <th>4</th>\n",
       "      <td>b1fbc9a4-f81f-4926-bc8f-c69b249d3259</td>\n",
       "      <td>PYDMU3</td>\n",
       "      <td>138</td>\n",
       "      <td>f</td>\n",
       "      <td>accepted</td>\n",
       "      <td>['TearingPaper', 'ThatsNotAHat', 'Peekaboo', '...</td>\n",
       "      <td>No</td>\n",
       "      <td>Slightly funny</td>\n",
       "      <td>No</td>\n",
       "      <td>Not funny</td>\n",
       "      <td>...</td>\n",
       "      <td>No</td>\n",
       "      <td>Not funny</td>\n",
       "      <td>No</td>\n",
       "      <td>Slightly funny</td>\n",
       "      <td>No</td>\n",
       "      <td>Slightly funny</td>\n",
       "      <td>No</td>\n",
       "      <td>Not funny</td>\n",
       "      <td>Yes</td>\n",
       "      <td>Slightly funny</td>\n",
       "    </tr>\n",
       "  </tbody>\n",
       "</table>\n",
       "<p>5 rows × 66 columns</p>\n",
       "</div>"
      ],
      "text/plain": [
       "                     VIDEOID/RESPONSEID ChildHashedID  age_in_days gender  \\\n",
       "0  4d16ddd9-e207-45d0-bed8-4e2bf8df60ea        FHN26F          105      f   \n",
       "1  73e855f3-6c3c-4673-86a0-c7f3dcfc7531        ZCH3UU          121      m   \n",
       "2  f889fba2-ad55-4b6a-ba67-baf589bf562e        USMEcW          132      f   \n",
       "3  ffd96b9b-89f7-4664-89a9-368ddea2e3e1        ZWYN3M          135      f   \n",
       "4  b1fbc9a4-f81f-4926-bc8f-c69b249d3259        PYDMU3          138      f   \n",
       "\n",
       "    Consent                                          JokeOrder joke1.laugh.1  \\\n",
       "0  accepted  ['ThatsNotACat', 'Peekaboo', 'ThatsNotAHat', '...            No   \n",
       "1  accepted  ['TearingPaper', 'NomNomNom', 'ThatsNotAHat', ...            No   \n",
       "2  accepted  ['TearingPaper', 'Peekaboo', 'ThatsNotAHat', '...            No   \n",
       "3  accepted  ['ThatsNotACat', 'NomNomNom', 'ThatsNotAHat', ...            No   \n",
       "4  accepted  ['TearingPaper', 'ThatsNotAHat', 'Peekaboo', '...            No   \n",
       "\n",
       "  joke1.howfunny.1 joke1.laugh.2 joke1.howfunny.2  ... ThatsNotACat.laugh.2  \\\n",
       "0        Not funny            No        Not funny  ...                   No   \n",
       "1        Not funny            No        Not funny  ...                   No   \n",
       "2        Not funny            No        Not funny  ...                   No   \n",
       "3            Funny            No            Funny  ...                   No   \n",
       "4   Slightly funny            No        Not funny  ...                   No   \n",
       "\n",
       "  ThatsNotACat.howfunny.2 ThatsNotACat.laugh.3 ThatsNotACat.howfunny.3  \\\n",
       "0               Not funny                   No               Not funny   \n",
       "1               Not funny                   No               Not funny   \n",
       "2               Not funny                   No               Not funny   \n",
       "3                   Funny                   No                   Funny   \n",
       "4               Not funny                   No          Slightly funny   \n",
       "\n",
       "  TearingPaper.laugh.1 TearingPaper.howfunny.1 TearingPaper.laugh.2  \\\n",
       "0                   No          Slightly funny                   No   \n",
       "1                   No               Not funny                   No   \n",
       "2                   No               Not funny                   No   \n",
       "3                   No               Not funny                   No   \n",
       "4                   No          Slightly funny                   No   \n",
       "\n",
       "  TearingPaper.howfunny.2 TearingPaper.laugh.3 TearingPaper.howfunny.3  \n",
       "0               Not funny                   No               Not funny  \n",
       "1               Not funny                   No               Not funny  \n",
       "2               Not funny                   No               Not funny  \n",
       "3               Not funny                   No          Slightly funny  \n",
       "4               Not funny                  Yes          Slightly funny  \n",
       "\n",
       "[5 rows x 66 columns]"
      ]
     },
     "execution_count": 71,
     "metadata": {},
     "output_type": "execute_result"
    }
   ],
   "source": [
    "excel_file.head()"
   ]
  },
  {
   "cell_type": "code",
   "execution_count": 73,
   "metadata": {},
   "outputs": [
    {
     "data": {
      "text/plain": [
       "(94, 66)"
      ]
     },
     "execution_count": 73,
     "metadata": {},
     "output_type": "execute_result"
    }
   ],
   "source": [
    "excel_file.shape"
   ]
  },
  {
   "cell_type": "code",
   "execution_count": 74,
   "metadata": {},
   "outputs": [
    {
     "data": {
      "text/plain": [
       "(62, 69)"
      ]
     },
     "execution_count": 74,
     "metadata": {},
     "output_type": "execute_result"
    }
   ],
   "source": [
    "# Join the dataframes using the 'key' column\n",
    "final_combined = unique_files.merge(excel_file, on=\"VIDEOID/RESPONSEID\", how='inner')\n",
    "final_combined.shape"
   ]
  },
  {
   "cell_type": "code",
   "execution_count": 75,
   "metadata": {},
   "outputs": [
    {
     "data": {
      "text/html": [
       "<div>\n",
       "<style scoped>\n",
       "    .dataframe tbody tr th:only-of-type {\n",
       "        vertical-align: middle;\n",
       "    }\n",
       "\n",
       "    .dataframe tbody tr th {\n",
       "        vertical-align: top;\n",
       "    }\n",
       "\n",
       "    .dataframe thead th {\n",
       "        text-align: right;\n",
       "    }\n",
       "</style>\n",
       "<table border=\"1\" class=\"dataframe\">\n",
       "  <thead>\n",
       "    <tr style=\"text-align: right;\">\n",
       "      <th></th>\n",
       "      <th>full_file_name</th>\n",
       "      <th>num_laughs</th>\n",
       "      <th>results</th>\n",
       "      <th>VIDEOID/RESPONSEID</th>\n",
       "      <th>ChildHashedID</th>\n",
       "      <th>age_in_days</th>\n",
       "      <th>gender</th>\n",
       "      <th>Consent</th>\n",
       "      <th>JokeOrder</th>\n",
       "      <th>joke1.laugh.1</th>\n",
       "      <th>...</th>\n",
       "      <th>ThatsNotACat.laugh.2</th>\n",
       "      <th>ThatsNotACat.howfunny.2</th>\n",
       "      <th>ThatsNotACat.laugh.3</th>\n",
       "      <th>ThatsNotACat.howfunny.3</th>\n",
       "      <th>TearingPaper.laugh.1</th>\n",
       "      <th>TearingPaper.howfunny.1</th>\n",
       "      <th>TearingPaper.laugh.2</th>\n",
       "      <th>TearingPaper.howfunny.2</th>\n",
       "      <th>TearingPaper.laugh.3</th>\n",
       "      <th>TearingPaper.howfunny.3</th>\n",
       "    </tr>\n",
       "  </thead>\n",
       "  <tbody>\n",
       "    <tr>\n",
       "      <th>0</th>\n",
       "      <td>joke1.1_5f9cb3c3-dba6-4a27-9881-57a95c7efe7a_1...</td>\n",
       "      <td>2</td>\n",
       "      <td>[{'file_name': './output_segments/joke1.1_5f9c...</td>\n",
       "      <td>5f9cb3c3-dba6-4a27-9881-57a95c7efe7a</td>\n",
       "      <td>DXZ573</td>\n",
       "      <td>789</td>\n",
       "      <td>f</td>\n",
       "      <td>accepted</td>\n",
       "      <td>['ThatsNotAHat', 'TearingPaper', 'Peekaboo', '...</td>\n",
       "      <td>No</td>\n",
       "      <td>...</td>\n",
       "      <td>Yes</td>\n",
       "      <td>Not funny</td>\n",
       "      <td>Yes</td>\n",
       "      <td>Slightly funny</td>\n",
       "      <td>No</td>\n",
       "      <td>Not funny</td>\n",
       "      <td>Yes</td>\n",
       "      <td>Slightly funny</td>\n",
       "      <td>Yes</td>\n",
       "      <td>Slightly funny</td>\n",
       "    </tr>\n",
       "    <tr>\n",
       "      <th>1</th>\n",
       "      <td>joke1.1_2a3186e4-8f1e-42e8-84a3-172610e3dec4_1...</td>\n",
       "      <td>1</td>\n",
       "      <td>[{'file_name': './output_segments/joke1.1_2a31...</td>\n",
       "      <td>2a3186e4-8f1e-42e8-84a3-172610e3dec4</td>\n",
       "      <td>6dZBcR</td>\n",
       "      <td>250</td>\n",
       "      <td>m</td>\n",
       "      <td>accepted</td>\n",
       "      <td>['TearingPaper', 'ThatsNotAHat', 'NomNomNom', ...</td>\n",
       "      <td>No</td>\n",
       "      <td>...</td>\n",
       "      <td>No</td>\n",
       "      <td>Not funny</td>\n",
       "      <td>No</td>\n",
       "      <td>Not funny</td>\n",
       "      <td>No</td>\n",
       "      <td>Not funny</td>\n",
       "      <td>No</td>\n",
       "      <td>Slightly funny</td>\n",
       "      <td>No</td>\n",
       "      <td>Slightly funny</td>\n",
       "    </tr>\n",
       "    <tr>\n",
       "      <th>2</th>\n",
       "      <td>joke1.1_9f94b24b-25ac-4266-a3f5-17f48f7feaa6_1...</td>\n",
       "      <td>1</td>\n",
       "      <td>[{'file_name': './output_segments/joke1.1_9f94...</td>\n",
       "      <td>9f94b24b-25ac-4266-a3f5-17f48f7feaa6</td>\n",
       "      <td>RXFPN3</td>\n",
       "      <td>769</td>\n",
       "      <td>f</td>\n",
       "      <td>accepted</td>\n",
       "      <td>['ThatsNotACat', 'ThatsNotAHat', 'NomNomNom', ...</td>\n",
       "      <td>No</td>\n",
       "      <td>...</td>\n",
       "      <td>No</td>\n",
       "      <td>Not funny</td>\n",
       "      <td>No</td>\n",
       "      <td>Not funny</td>\n",
       "      <td>Yes</td>\n",
       "      <td>Slightly funny</td>\n",
       "      <td>Yes</td>\n",
       "      <td>Slightly funny</td>\n",
       "      <td>Yes</td>\n",
       "      <td>Slightly funny</td>\n",
       "    </tr>\n",
       "    <tr>\n",
       "      <th>3</th>\n",
       "      <td>joke1.1_c4f82db5-2182-47c3-8d85-ac0ca5b205c4_1...</td>\n",
       "      <td>1</td>\n",
       "      <td>[{'file_name': './output_segments/joke1.1_c4f8...</td>\n",
       "      <td>c4f82db5-2182-47c3-8d85-ac0ca5b205c4</td>\n",
       "      <td>NSQQVX</td>\n",
       "      <td>469</td>\n",
       "      <td>m</td>\n",
       "      <td>accepted</td>\n",
       "      <td>['ThatsNotACat', 'Peekaboo', 'TearingPaper', '...</td>\n",
       "      <td>No</td>\n",
       "      <td>...</td>\n",
       "      <td>Yes</td>\n",
       "      <td>Funny</td>\n",
       "      <td>Yes</td>\n",
       "      <td>Very funny</td>\n",
       "      <td>No</td>\n",
       "      <td>Slightly funny</td>\n",
       "      <td>Yes</td>\n",
       "      <td>Slightly funny</td>\n",
       "      <td>Yes</td>\n",
       "      <td>Slightly funny</td>\n",
       "    </tr>\n",
       "    <tr>\n",
       "      <th>4</th>\n",
       "      <td>joke1.1_e986fa51-78fe-4e4e-99cb-a7540bd83174_1...</td>\n",
       "      <td>1</td>\n",
       "      <td>[{'file_name': './output_segments/joke1.1_e986...</td>\n",
       "      <td>e986fa51-78fe-4e4e-99cb-a7540bd83174</td>\n",
       "      <td>AETYX2</td>\n",
       "      <td>327</td>\n",
       "      <td>m</td>\n",
       "      <td>accepted</td>\n",
       "      <td>['ThatsNotAHat', 'NomNomNom', 'Peekaboo', 'Tea...</td>\n",
       "      <td>Yes</td>\n",
       "      <td>...</td>\n",
       "      <td>Yes</td>\n",
       "      <td>Slightly funny</td>\n",
       "      <td>No</td>\n",
       "      <td>Not funny</td>\n",
       "      <td>No</td>\n",
       "      <td>Not funny</td>\n",
       "      <td>No</td>\n",
       "      <td>Not funny</td>\n",
       "      <td>No</td>\n",
       "      <td>Not funny</td>\n",
       "    </tr>\n",
       "  </tbody>\n",
       "</table>\n",
       "<p>5 rows × 69 columns</p>\n",
       "</div>"
      ],
      "text/plain": [
       "                                      full_file_name  num_laughs  \\\n",
       "0  joke1.1_5f9cb3c3-dba6-4a27-9881-57a95c7efe7a_1...           2   \n",
       "1  joke1.1_2a3186e4-8f1e-42e8-84a3-172610e3dec4_1...           1   \n",
       "2  joke1.1_9f94b24b-25ac-4266-a3f5-17f48f7feaa6_1...           1   \n",
       "3  joke1.1_c4f82db5-2182-47c3-8d85-ac0ca5b205c4_1...           1   \n",
       "4  joke1.1_e986fa51-78fe-4e4e-99cb-a7540bd83174_1...           1   \n",
       "\n",
       "                                             results  \\\n",
       "0  [{'file_name': './output_segments/joke1.1_5f9c...   \n",
       "1  [{'file_name': './output_segments/joke1.1_2a31...   \n",
       "2  [{'file_name': './output_segments/joke1.1_9f94...   \n",
       "3  [{'file_name': './output_segments/joke1.1_c4f8...   \n",
       "4  [{'file_name': './output_segments/joke1.1_e986...   \n",
       "\n",
       "                     VIDEOID/RESPONSEID ChildHashedID  age_in_days gender  \\\n",
       "0  5f9cb3c3-dba6-4a27-9881-57a95c7efe7a        DXZ573          789      f   \n",
       "1  2a3186e4-8f1e-42e8-84a3-172610e3dec4        6dZBcR          250      m   \n",
       "2  9f94b24b-25ac-4266-a3f5-17f48f7feaa6        RXFPN3          769      f   \n",
       "3  c4f82db5-2182-47c3-8d85-ac0ca5b205c4        NSQQVX          469      m   \n",
       "4  e986fa51-78fe-4e4e-99cb-a7540bd83174        AETYX2          327      m   \n",
       "\n",
       "    Consent                                          JokeOrder joke1.laugh.1  \\\n",
       "0  accepted  ['ThatsNotAHat', 'TearingPaper', 'Peekaboo', '...            No   \n",
       "1  accepted  ['TearingPaper', 'ThatsNotAHat', 'NomNomNom', ...            No   \n",
       "2  accepted  ['ThatsNotACat', 'ThatsNotAHat', 'NomNomNom', ...            No   \n",
       "3  accepted  ['ThatsNotACat', 'Peekaboo', 'TearingPaper', '...            No   \n",
       "4  accepted  ['ThatsNotAHat', 'NomNomNom', 'Peekaboo', 'Tea...           Yes   \n",
       "\n",
       "   ... ThatsNotACat.laugh.2 ThatsNotACat.howfunny.2 ThatsNotACat.laugh.3  \\\n",
       "0  ...                  Yes               Not funny                  Yes   \n",
       "1  ...                   No               Not funny                   No   \n",
       "2  ...                   No               Not funny                   No   \n",
       "3  ...                  Yes                   Funny                  Yes   \n",
       "4  ...                  Yes          Slightly funny                   No   \n",
       "\n",
       "  ThatsNotACat.howfunny.3 TearingPaper.laugh.1 TearingPaper.howfunny.1  \\\n",
       "0          Slightly funny                   No               Not funny   \n",
       "1               Not funny                   No               Not funny   \n",
       "2               Not funny                  Yes          Slightly funny   \n",
       "3              Very funny                   No          Slightly funny   \n",
       "4               Not funny                   No               Not funny   \n",
       "\n",
       "  TearingPaper.laugh.2 TearingPaper.howfunny.2 TearingPaper.laugh.3  \\\n",
       "0                  Yes          Slightly funny                  Yes   \n",
       "1                   No          Slightly funny                   No   \n",
       "2                  Yes          Slightly funny                  Yes   \n",
       "3                  Yes          Slightly funny                  Yes   \n",
       "4                   No               Not funny                   No   \n",
       "\n",
       "  TearingPaper.howfunny.3  \n",
       "0          Slightly funny  \n",
       "1          Slightly funny  \n",
       "2          Slightly funny  \n",
       "3          Slightly funny  \n",
       "4               Not funny  \n",
       "\n",
       "[5 rows x 69 columns]"
      ]
     },
     "execution_count": 75,
     "metadata": {},
     "output_type": "execute_result"
    }
   ],
   "source": [
    "final_combined.head()"
   ]
  },
  {
   "cell_type": "code",
   "execution_count": 76,
   "metadata": {},
   "outputs": [
    {
     "data": {
      "text/plain": [
       "No     40\n",
       "Yes    22\n",
       "Name: joke1.laugh.1, dtype: int64"
      ]
     },
     "execution_count": 76,
     "metadata": {},
     "output_type": "execute_result"
    }
   ],
   "source": [
    "final_combined[\"joke1.laugh.1\"].value_counts()"
   ]
  },
  {
   "cell_type": "code",
   "execution_count": 78,
   "metadata": {},
   "outputs": [
    {
     "data": {
      "text/html": [
       "<div>\n",
       "<style scoped>\n",
       "    .dataframe tbody tr th:only-of-type {\n",
       "        vertical-align: middle;\n",
       "    }\n",
       "\n",
       "    .dataframe tbody tr th {\n",
       "        vertical-align: top;\n",
       "    }\n",
       "\n",
       "    .dataframe thead th {\n",
       "        text-align: right;\n",
       "    }\n",
       "</style>\n",
       "<table border=\"1\" class=\"dataframe\">\n",
       "  <thead>\n",
       "    <tr style=\"text-align: right;\">\n",
       "      <th></th>\n",
       "      <th>full_file_name</th>\n",
       "      <th>num_laughs</th>\n",
       "      <th>results</th>\n",
       "      <th>VIDEOID/RESPONSEID</th>\n",
       "      <th>ChildHashedID</th>\n",
       "      <th>age_in_days</th>\n",
       "      <th>gender</th>\n",
       "      <th>Consent</th>\n",
       "      <th>JokeOrder</th>\n",
       "      <th>joke1.laugh.1</th>\n",
       "      <th>...</th>\n",
       "      <th>ThatsNotACat.howfunny.2</th>\n",
       "      <th>ThatsNotACat.laugh.3</th>\n",
       "      <th>ThatsNotACat.howfunny.3</th>\n",
       "      <th>TearingPaper.laugh.1</th>\n",
       "      <th>TearingPaper.howfunny.1</th>\n",
       "      <th>TearingPaper.laugh.2</th>\n",
       "      <th>TearingPaper.howfunny.2</th>\n",
       "      <th>TearingPaper.laugh.3</th>\n",
       "      <th>TearingPaper.howfunny.3</th>\n",
       "      <th>joke1.laugh.1_bool</th>\n",
       "    </tr>\n",
       "  </thead>\n",
       "  <tbody>\n",
       "    <tr>\n",
       "      <th>0</th>\n",
       "      <td>joke1.1_5f9cb3c3-dba6-4a27-9881-57a95c7efe7a_1...</td>\n",
       "      <td>2</td>\n",
       "      <td>[{'file_name': './output_segments/joke1.1_5f9c...</td>\n",
       "      <td>5f9cb3c3-dba6-4a27-9881-57a95c7efe7a</td>\n",
       "      <td>DXZ573</td>\n",
       "      <td>789</td>\n",
       "      <td>f</td>\n",
       "      <td>accepted</td>\n",
       "      <td>['ThatsNotAHat', 'TearingPaper', 'Peekaboo', '...</td>\n",
       "      <td>No</td>\n",
       "      <td>...</td>\n",
       "      <td>Not funny</td>\n",
       "      <td>Yes</td>\n",
       "      <td>Slightly funny</td>\n",
       "      <td>No</td>\n",
       "      <td>Not funny</td>\n",
       "      <td>Yes</td>\n",
       "      <td>Slightly funny</td>\n",
       "      <td>Yes</td>\n",
       "      <td>Slightly funny</td>\n",
       "      <td>False</td>\n",
       "    </tr>\n",
       "    <tr>\n",
       "      <th>1</th>\n",
       "      <td>joke1.1_2a3186e4-8f1e-42e8-84a3-172610e3dec4_1...</td>\n",
       "      <td>1</td>\n",
       "      <td>[{'file_name': './output_segments/joke1.1_2a31...</td>\n",
       "      <td>2a3186e4-8f1e-42e8-84a3-172610e3dec4</td>\n",
       "      <td>6dZBcR</td>\n",
       "      <td>250</td>\n",
       "      <td>m</td>\n",
       "      <td>accepted</td>\n",
       "      <td>['TearingPaper', 'ThatsNotAHat', 'NomNomNom', ...</td>\n",
       "      <td>No</td>\n",
       "      <td>...</td>\n",
       "      <td>Not funny</td>\n",
       "      <td>No</td>\n",
       "      <td>Not funny</td>\n",
       "      <td>No</td>\n",
       "      <td>Not funny</td>\n",
       "      <td>No</td>\n",
       "      <td>Slightly funny</td>\n",
       "      <td>No</td>\n",
       "      <td>Slightly funny</td>\n",
       "      <td>False</td>\n",
       "    </tr>\n",
       "    <tr>\n",
       "      <th>2</th>\n",
       "      <td>joke1.1_9f94b24b-25ac-4266-a3f5-17f48f7feaa6_1...</td>\n",
       "      <td>1</td>\n",
       "      <td>[{'file_name': './output_segments/joke1.1_9f94...</td>\n",
       "      <td>9f94b24b-25ac-4266-a3f5-17f48f7feaa6</td>\n",
       "      <td>RXFPN3</td>\n",
       "      <td>769</td>\n",
       "      <td>f</td>\n",
       "      <td>accepted</td>\n",
       "      <td>['ThatsNotACat', 'ThatsNotAHat', 'NomNomNom', ...</td>\n",
       "      <td>No</td>\n",
       "      <td>...</td>\n",
       "      <td>Not funny</td>\n",
       "      <td>No</td>\n",
       "      <td>Not funny</td>\n",
       "      <td>Yes</td>\n",
       "      <td>Slightly funny</td>\n",
       "      <td>Yes</td>\n",
       "      <td>Slightly funny</td>\n",
       "      <td>Yes</td>\n",
       "      <td>Slightly funny</td>\n",
       "      <td>False</td>\n",
       "    </tr>\n",
       "    <tr>\n",
       "      <th>3</th>\n",
       "      <td>joke1.1_c4f82db5-2182-47c3-8d85-ac0ca5b205c4_1...</td>\n",
       "      <td>1</td>\n",
       "      <td>[{'file_name': './output_segments/joke1.1_c4f8...</td>\n",
       "      <td>c4f82db5-2182-47c3-8d85-ac0ca5b205c4</td>\n",
       "      <td>NSQQVX</td>\n",
       "      <td>469</td>\n",
       "      <td>m</td>\n",
       "      <td>accepted</td>\n",
       "      <td>['ThatsNotACat', 'Peekaboo', 'TearingPaper', '...</td>\n",
       "      <td>No</td>\n",
       "      <td>...</td>\n",
       "      <td>Funny</td>\n",
       "      <td>Yes</td>\n",
       "      <td>Very funny</td>\n",
       "      <td>No</td>\n",
       "      <td>Slightly funny</td>\n",
       "      <td>Yes</td>\n",
       "      <td>Slightly funny</td>\n",
       "      <td>Yes</td>\n",
       "      <td>Slightly funny</td>\n",
       "      <td>False</td>\n",
       "    </tr>\n",
       "    <tr>\n",
       "      <th>4</th>\n",
       "      <td>joke1.1_e986fa51-78fe-4e4e-99cb-a7540bd83174_1...</td>\n",
       "      <td>1</td>\n",
       "      <td>[{'file_name': './output_segments/joke1.1_e986...</td>\n",
       "      <td>e986fa51-78fe-4e4e-99cb-a7540bd83174</td>\n",
       "      <td>AETYX2</td>\n",
       "      <td>327</td>\n",
       "      <td>m</td>\n",
       "      <td>accepted</td>\n",
       "      <td>['ThatsNotAHat', 'NomNomNom', 'Peekaboo', 'Tea...</td>\n",
       "      <td>Yes</td>\n",
       "      <td>...</td>\n",
       "      <td>Slightly funny</td>\n",
       "      <td>No</td>\n",
       "      <td>Not funny</td>\n",
       "      <td>No</td>\n",
       "      <td>Not funny</td>\n",
       "      <td>No</td>\n",
       "      <td>Not funny</td>\n",
       "      <td>No</td>\n",
       "      <td>Not funny</td>\n",
       "      <td>True</td>\n",
       "    </tr>\n",
       "  </tbody>\n",
       "</table>\n",
       "<p>5 rows × 70 columns</p>\n",
       "</div>"
      ],
      "text/plain": [
       "                                      full_file_name  num_laughs  \\\n",
       "0  joke1.1_5f9cb3c3-dba6-4a27-9881-57a95c7efe7a_1...           2   \n",
       "1  joke1.1_2a3186e4-8f1e-42e8-84a3-172610e3dec4_1...           1   \n",
       "2  joke1.1_9f94b24b-25ac-4266-a3f5-17f48f7feaa6_1...           1   \n",
       "3  joke1.1_c4f82db5-2182-47c3-8d85-ac0ca5b205c4_1...           1   \n",
       "4  joke1.1_e986fa51-78fe-4e4e-99cb-a7540bd83174_1...           1   \n",
       "\n",
       "                                             results  \\\n",
       "0  [{'file_name': './output_segments/joke1.1_5f9c...   \n",
       "1  [{'file_name': './output_segments/joke1.1_2a31...   \n",
       "2  [{'file_name': './output_segments/joke1.1_9f94...   \n",
       "3  [{'file_name': './output_segments/joke1.1_c4f8...   \n",
       "4  [{'file_name': './output_segments/joke1.1_e986...   \n",
       "\n",
       "                     VIDEOID/RESPONSEID ChildHashedID  age_in_days gender  \\\n",
       "0  5f9cb3c3-dba6-4a27-9881-57a95c7efe7a        DXZ573          789      f   \n",
       "1  2a3186e4-8f1e-42e8-84a3-172610e3dec4        6dZBcR          250      m   \n",
       "2  9f94b24b-25ac-4266-a3f5-17f48f7feaa6        RXFPN3          769      f   \n",
       "3  c4f82db5-2182-47c3-8d85-ac0ca5b205c4        NSQQVX          469      m   \n",
       "4  e986fa51-78fe-4e4e-99cb-a7540bd83174        AETYX2          327      m   \n",
       "\n",
       "    Consent                                          JokeOrder joke1.laugh.1  \\\n",
       "0  accepted  ['ThatsNotAHat', 'TearingPaper', 'Peekaboo', '...            No   \n",
       "1  accepted  ['TearingPaper', 'ThatsNotAHat', 'NomNomNom', ...            No   \n",
       "2  accepted  ['ThatsNotACat', 'ThatsNotAHat', 'NomNomNom', ...            No   \n",
       "3  accepted  ['ThatsNotACat', 'Peekaboo', 'TearingPaper', '...            No   \n",
       "4  accepted  ['ThatsNotAHat', 'NomNomNom', 'Peekaboo', 'Tea...           Yes   \n",
       "\n",
       "   ... ThatsNotACat.howfunny.2 ThatsNotACat.laugh.3 ThatsNotACat.howfunny.3  \\\n",
       "0  ...               Not funny                  Yes          Slightly funny   \n",
       "1  ...               Not funny                   No               Not funny   \n",
       "2  ...               Not funny                   No               Not funny   \n",
       "3  ...                   Funny                  Yes              Very funny   \n",
       "4  ...          Slightly funny                   No               Not funny   \n",
       "\n",
       "  TearingPaper.laugh.1 TearingPaper.howfunny.1 TearingPaper.laugh.2  \\\n",
       "0                   No               Not funny                  Yes   \n",
       "1                   No               Not funny                   No   \n",
       "2                  Yes          Slightly funny                  Yes   \n",
       "3                   No          Slightly funny                  Yes   \n",
       "4                   No               Not funny                   No   \n",
       "\n",
       "  TearingPaper.howfunny.2 TearingPaper.laugh.3 TearingPaper.howfunny.3  \\\n",
       "0          Slightly funny                  Yes          Slightly funny   \n",
       "1          Slightly funny                   No          Slightly funny   \n",
       "2          Slightly funny                  Yes          Slightly funny   \n",
       "3          Slightly funny                  Yes          Slightly funny   \n",
       "4               Not funny                   No               Not funny   \n",
       "\n",
       "  joke1.laugh.1_bool  \n",
       "0              False  \n",
       "1              False  \n",
       "2              False  \n",
       "3              False  \n",
       "4               True  \n",
       "\n",
       "[5 rows x 70 columns]"
      ]
     },
     "execution_count": 78,
     "metadata": {},
     "output_type": "execute_result"
    }
   ],
   "source": [
    "final_combined['joke1.laugh.1_bool'] = final_combined['joke1.laugh.1'].map({'Yes': True, 'No': False})\n",
    "final_combined.head()"
   ]
  },
  {
   "cell_type": "code",
   "execution_count": 80,
   "metadata": {},
   "outputs": [
    {
     "ename": "TypeError",
     "evalue": "'>' not supported between instances of 'str' and 'int'",
     "output_type": "error",
     "traceback": [
      "\u001b[0;31m---------------------------------------------------------------------------\u001b[0m",
      "\u001b[0;31mTypeError\u001b[0m                                 Traceback (most recent call last)",
      "\u001b[0;32m<ipython-input-80-9de28a764e14>\u001b[0m in \u001b[0;36m<module>\u001b[0;34m\u001b[0m\n\u001b[0;32m----> 1\u001b[0;31m \u001b[0mfinal_combined\u001b[0m\u001b[0;34m[\u001b[0m\u001b[0;34m(\u001b[0m\u001b[0mfinal_combined\u001b[0m\u001b[0;34m[\u001b[0m\u001b[0;34m\"num_laughs\"\u001b[0m\u001b[0;34m>\u001b[0m \u001b[0;36m0\u001b[0m\u001b[0;34m]\u001b[0m\u001b[0;34m)\u001b[0m \u001b[0;34m&\u001b[0m \u001b[0;34m(\u001b[0m\u001b[0mfinal_combined\u001b[0m\u001b[0;34m[\u001b[0m\u001b[0;34m\"joke1.laugh.1_bool\"\u001b[0m\u001b[0;34m]\u001b[0m\u001b[0;34m==\u001b[0m \u001b[0;32mTrue\u001b[0m\u001b[0;34m)\u001b[0m\u001b[0;34m]\u001b[0m\u001b[0;34m.\u001b[0m\u001b[0mshape\u001b[0m\u001b[0;34m\u001b[0m\u001b[0;34m\u001b[0m\u001b[0m\n\u001b[0m",
      "\u001b[0;31mTypeError\u001b[0m: '>' not supported between instances of 'str' and 'int'"
     ]
    }
   ],
   "source": [
    "final_combined[(final_combined[\"num_laughs\"> 0]) & (final_combined[\"joke1.laugh.1_bool\"]== True)].shape"
   ]
  },
  {
   "cell_type": "code",
   "execution_count": 85,
   "metadata": {},
   "outputs": [],
   "source": [
    "# Create the 'num_laughs_bool' column\n",
    "final_combined['num_laughs_bool'] = final_combined['num_laughs'] > 0"
   ]
  },
  {
   "cell_type": "code",
   "execution_count": 28,
   "metadata": {},
   "outputs": [],
   "source": [
    "final_combined=final_res"
   ]
  },
  {
   "cell_type": "code",
   "execution_count": 29,
   "metadata": {},
   "outputs": [
    {
     "name": "stdout",
     "output_type": "stream",
     "text": [
      "Number of rows where both columns are the same: 31\n",
      "Number of rows where both columns are different: 31\n"
     ]
    }
   ],
   "source": [
    "# Count where both columns have the same value\n",
    "same_count = (final_combined['num_laughs_bool'] == final_combined['joke1.laugh.1_bool']).sum()\n",
    "\n",
    "# Count where both columns have different values\n",
    "different_count = (final_combined['num_laughs_bool'] != final_combined['joke1.laugh.1_bool']).sum()\n",
    "\n",
    "print(f\"Number of rows where both columns are the same: {same_count}\")\n",
    "print(f\"Number of rows where both columns are different: {different_count}\")"
   ]
  },
  {
   "cell_type": "code",
   "execution_count": 91,
   "metadata": {},
   "outputs": [
    {
     "data": {
      "text/plain": [
       "62"
      ]
     },
     "execution_count": 91,
     "metadata": {},
     "output_type": "execute_result"
    }
   ],
   "source": [
    "num_files = same_count + different_count\n",
    "num_files"
   ]
  },
  {
   "cell_type": "code",
   "execution_count": 93,
   "metadata": {},
   "outputs": [
    {
     "data": {
      "text/plain": [
       "0.7741935483870968"
      ]
     },
     "execution_count": 93,
     "metadata": {},
     "output_type": "execute_result"
    }
   ],
   "source": [
    "accuracy = same_count/num_files\n",
    "accuracy"
   ]
  },
  {
   "cell_type": "code",
   "execution_count": 94,
   "metadata": {},
   "outputs": [
    {
     "data": {
      "text/plain": [
       "(62, 71)"
      ]
     },
     "execution_count": 94,
     "metadata": {},
     "output_type": "execute_result"
    }
   ],
   "source": [
    "final_combined.shape"
   ]
  },
  {
   "cell_type": "code",
   "execution_count": 95,
   "metadata": {},
   "outputs": [],
   "source": [
    "final_combined.to_excel(\"laughted_detected.xlsx\")"
   ]
  },
  {
   "cell_type": "code",
   "execution_count": 99,
   "metadata": {},
   "outputs": [],
   "source": [
    "final_combined_reduced = final_combined[[\"full_file_name\",\"num_laughs\",\"results\",\"VIDEOID/RESPONSEID\",\"joke1.laugh.1\",\"num_laughs_bool\",\"joke1.laugh.1_bool\"]]"
   ]
  },
  {
   "cell_type": "code",
   "execution_count": 102,
   "metadata": {},
   "outputs": [
    {
     "data": {
      "text/html": [
       "<div>\n",
       "<style scoped>\n",
       "    .dataframe tbody tr th:only-of-type {\n",
       "        vertical-align: middle;\n",
       "    }\n",
       "\n",
       "    .dataframe tbody tr th {\n",
       "        vertical-align: top;\n",
       "    }\n",
       "\n",
       "    .dataframe thead th {\n",
       "        text-align: right;\n",
       "    }\n",
       "</style>\n",
       "<table border=\"1\" class=\"dataframe\">\n",
       "  <thead>\n",
       "    <tr style=\"text-align: right;\">\n",
       "      <th></th>\n",
       "      <th>full_file_name</th>\n",
       "      <th>num_laughs</th>\n",
       "      <th>results</th>\n",
       "      <th>VIDEOID/RESPONSEID</th>\n",
       "      <th>joke1.laugh.1</th>\n",
       "      <th>num_laughs_bool</th>\n",
       "      <th>joke1.laugh.1_bool</th>\n",
       "    </tr>\n",
       "  </thead>\n",
       "  <tbody>\n",
       "    <tr>\n",
       "      <th>0</th>\n",
       "      <td>joke1.1_5f9cb3c3-dba6-4a27-9881-57a95c7efe7a_1...</td>\n",
       "      <td>2</td>\n",
       "      <td>[{'file_name': './output_segments/joke1.1_5f9c...</td>\n",
       "      <td>5f9cb3c3-dba6-4a27-9881-57a95c7efe7a</td>\n",
       "      <td>No</td>\n",
       "      <td>True</td>\n",
       "      <td>False</td>\n",
       "    </tr>\n",
       "    <tr>\n",
       "      <th>1</th>\n",
       "      <td>joke1.1_2a3186e4-8f1e-42e8-84a3-172610e3dec4_1...</td>\n",
       "      <td>1</td>\n",
       "      <td>[{'file_name': './output_segments/joke1.1_2a31...</td>\n",
       "      <td>2a3186e4-8f1e-42e8-84a3-172610e3dec4</td>\n",
       "      <td>No</td>\n",
       "      <td>True</td>\n",
       "      <td>False</td>\n",
       "    </tr>\n",
       "    <tr>\n",
       "      <th>2</th>\n",
       "      <td>joke1.1_9f94b24b-25ac-4266-a3f5-17f48f7feaa6_1...</td>\n",
       "      <td>1</td>\n",
       "      <td>[{'file_name': './output_segments/joke1.1_9f94...</td>\n",
       "      <td>9f94b24b-25ac-4266-a3f5-17f48f7feaa6</td>\n",
       "      <td>No</td>\n",
       "      <td>True</td>\n",
       "      <td>False</td>\n",
       "    </tr>\n",
       "    <tr>\n",
       "      <th>3</th>\n",
       "      <td>joke1.1_c4f82db5-2182-47c3-8d85-ac0ca5b205c4_1...</td>\n",
       "      <td>1</td>\n",
       "      <td>[{'file_name': './output_segments/joke1.1_c4f8...</td>\n",
       "      <td>c4f82db5-2182-47c3-8d85-ac0ca5b205c4</td>\n",
       "      <td>No</td>\n",
       "      <td>True</td>\n",
       "      <td>False</td>\n",
       "    </tr>\n",
       "    <tr>\n",
       "      <th>4</th>\n",
       "      <td>joke1.1_e986fa51-78fe-4e4e-99cb-a7540bd83174_1...</td>\n",
       "      <td>1</td>\n",
       "      <td>[{'file_name': './output_segments/joke1.1_e986...</td>\n",
       "      <td>e986fa51-78fe-4e4e-99cb-a7540bd83174</td>\n",
       "      <td>Yes</td>\n",
       "      <td>True</td>\n",
       "      <td>True</td>\n",
       "    </tr>\n",
       "    <tr>\n",
       "      <th>5</th>\n",
       "      <td>joke1.1_f9ffff9f-7659-4b23-941e-988979f69ded_1...</td>\n",
       "      <td>1</td>\n",
       "      <td>[{'file_name': './output_segments/joke1.1_f9ff...</td>\n",
       "      <td>f9ffff9f-7659-4b23-941e-988979f69ded</td>\n",
       "      <td>No</td>\n",
       "      <td>True</td>\n",
       "      <td>False</td>\n",
       "    </tr>\n",
       "    <tr>\n",
       "      <th>6</th>\n",
       "      <td>joke1.1_5ce0c525-1675-4a81-a8ce-17adbd0fd06a_1...</td>\n",
       "      <td>1</td>\n",
       "      <td>[{'file_name': './output_segments/joke1.1_5ce0...</td>\n",
       "      <td>5ce0c525-1675-4a81-a8ce-17adbd0fd06a</td>\n",
       "      <td>No</td>\n",
       "      <td>True</td>\n",
       "      <td>False</td>\n",
       "    </tr>\n",
       "    <tr>\n",
       "      <th>7</th>\n",
       "      <td>joke1.1_178df8f7-68a6-464c-a172-4bbb6b05e01a_1...</td>\n",
       "      <td>1</td>\n",
       "      <td>[{'file_name': './output_segments/joke1.1_178d...</td>\n",
       "      <td>178df8f7-68a6-464c-a172-4bbb6b05e01a</td>\n",
       "      <td>Yes</td>\n",
       "      <td>True</td>\n",
       "      <td>True</td>\n",
       "    </tr>\n",
       "    <tr>\n",
       "      <th>8</th>\n",
       "      <td>joke1.1_3e424601-4435-4d85-8467-c800a67e3897_1...</td>\n",
       "      <td>1</td>\n",
       "      <td>[{'file_name': './output_segments/joke1.1_3e42...</td>\n",
       "      <td>3e424601-4435-4d85-8467-c800a67e3897</td>\n",
       "      <td>No</td>\n",
       "      <td>True</td>\n",
       "      <td>False</td>\n",
       "    </tr>\n",
       "    <tr>\n",
       "      <th>9</th>\n",
       "      <td>joke1.1_78490e71-df00-44cb-9eb7-56d6ad1f98fc_1...</td>\n",
       "      <td>2</td>\n",
       "      <td>[{'file_name': './output_segments/joke1.1_7849...</td>\n",
       "      <td>78490e71-df00-44cb-9eb7-56d6ad1f98fc</td>\n",
       "      <td>No</td>\n",
       "      <td>True</td>\n",
       "      <td>False</td>\n",
       "    </tr>\n",
       "  </tbody>\n",
       "</table>\n",
       "</div>"
      ],
      "text/plain": [
       "                                      full_file_name  num_laughs  \\\n",
       "0  joke1.1_5f9cb3c3-dba6-4a27-9881-57a95c7efe7a_1...           2   \n",
       "1  joke1.1_2a3186e4-8f1e-42e8-84a3-172610e3dec4_1...           1   \n",
       "2  joke1.1_9f94b24b-25ac-4266-a3f5-17f48f7feaa6_1...           1   \n",
       "3  joke1.1_c4f82db5-2182-47c3-8d85-ac0ca5b205c4_1...           1   \n",
       "4  joke1.1_e986fa51-78fe-4e4e-99cb-a7540bd83174_1...           1   \n",
       "5  joke1.1_f9ffff9f-7659-4b23-941e-988979f69ded_1...           1   \n",
       "6  joke1.1_5ce0c525-1675-4a81-a8ce-17adbd0fd06a_1...           1   \n",
       "7  joke1.1_178df8f7-68a6-464c-a172-4bbb6b05e01a_1...           1   \n",
       "8  joke1.1_3e424601-4435-4d85-8467-c800a67e3897_1...           1   \n",
       "9  joke1.1_78490e71-df00-44cb-9eb7-56d6ad1f98fc_1...           2   \n",
       "\n",
       "                                             results  \\\n",
       "0  [{'file_name': './output_segments/joke1.1_5f9c...   \n",
       "1  [{'file_name': './output_segments/joke1.1_2a31...   \n",
       "2  [{'file_name': './output_segments/joke1.1_9f94...   \n",
       "3  [{'file_name': './output_segments/joke1.1_c4f8...   \n",
       "4  [{'file_name': './output_segments/joke1.1_e986...   \n",
       "5  [{'file_name': './output_segments/joke1.1_f9ff...   \n",
       "6  [{'file_name': './output_segments/joke1.1_5ce0...   \n",
       "7  [{'file_name': './output_segments/joke1.1_178d...   \n",
       "8  [{'file_name': './output_segments/joke1.1_3e42...   \n",
       "9  [{'file_name': './output_segments/joke1.1_7849...   \n",
       "\n",
       "                     VIDEOID/RESPONSEID joke1.laugh.1  num_laughs_bool  \\\n",
       "0  5f9cb3c3-dba6-4a27-9881-57a95c7efe7a            No             True   \n",
       "1  2a3186e4-8f1e-42e8-84a3-172610e3dec4            No             True   \n",
       "2  9f94b24b-25ac-4266-a3f5-17f48f7feaa6            No             True   \n",
       "3  c4f82db5-2182-47c3-8d85-ac0ca5b205c4            No             True   \n",
       "4  e986fa51-78fe-4e4e-99cb-a7540bd83174           Yes             True   \n",
       "5  f9ffff9f-7659-4b23-941e-988979f69ded            No             True   \n",
       "6  5ce0c525-1675-4a81-a8ce-17adbd0fd06a            No             True   \n",
       "7  178df8f7-68a6-464c-a172-4bbb6b05e01a           Yes             True   \n",
       "8  3e424601-4435-4d85-8467-c800a67e3897            No             True   \n",
       "9  78490e71-df00-44cb-9eb7-56d6ad1f98fc            No             True   \n",
       "\n",
       "   joke1.laugh.1_bool  \n",
       "0               False  \n",
       "1               False  \n",
       "2               False  \n",
       "3               False  \n",
       "4                True  \n",
       "5               False  \n",
       "6               False  \n",
       "7                True  \n",
       "8               False  \n",
       "9               False  "
      ]
     },
     "execution_count": 102,
     "metadata": {},
     "output_type": "execute_result"
    }
   ],
   "source": [
    "final_combined_reduced.head(10)"
   ]
  },
  {
   "cell_type": "code",
   "execution_count": null,
   "metadata": {},
   "outputs": [],
   "source": []
  },
  {
   "cell_type": "code",
   "execution_count": 101,
   "metadata": {},
   "outputs": [],
   "source": [
    "final_combined_reduced.to_excel(\"laugh_detection_labelled_results.xlsx\")"
   ]
  },
  {
   "cell_type": "code",
   "execution_count": 1,
   "metadata": {},
   "outputs": [],
   "source": [
    "import pandas as pd"
   ]
  },
  {
   "cell_type": "code",
   "execution_count": 2,
   "metadata": {},
   "outputs": [
    {
     "data": {
      "text/html": [
       "<div>\n",
       "<style scoped>\n",
       "    .dataframe tbody tr th:only-of-type {\n",
       "        vertical-align: middle;\n",
       "    }\n",
       "\n",
       "    .dataframe tbody tr th {\n",
       "        vertical-align: top;\n",
       "    }\n",
       "\n",
       "    .dataframe thead th {\n",
       "        text-align: right;\n",
       "    }\n",
       "</style>\n",
       "<table border=\"1\" class=\"dataframe\">\n",
       "  <thead>\n",
       "    <tr style=\"text-align: right;\">\n",
       "      <th></th>\n",
       "      <th>Unnamed: 0</th>\n",
       "      <th>full_file_name</th>\n",
       "      <th>num_laughs</th>\n",
       "      <th>results</th>\n",
       "      <th>VIDEOID/RESPONSEID</th>\n",
       "      <th>joke1.laugh.1</th>\n",
       "      <th>num_laughs_bool</th>\n",
       "      <th>joke1.laugh.1_bool</th>\n",
       "    </tr>\n",
       "  </thead>\n",
       "  <tbody>\n",
       "    <tr>\n",
       "      <th>0</th>\n",
       "      <td>0</td>\n",
       "      <td>joke1.1_5f9cb3c3-dba6-4a27-9881-57a95c7efe7a_1...</td>\n",
       "      <td>2</td>\n",
       "      <td>[{'file_name': './output_segments/joke1.1_5f9c...</td>\n",
       "      <td>5f9cb3c3-dba6-4a27-9881-57a95c7efe7a</td>\n",
       "      <td>No</td>\n",
       "      <td>True</td>\n",
       "      <td>False</td>\n",
       "    </tr>\n",
       "    <tr>\n",
       "      <th>1</th>\n",
       "      <td>1</td>\n",
       "      <td>joke1.1_2a3186e4-8f1e-42e8-84a3-172610e3dec4_1...</td>\n",
       "      <td>1</td>\n",
       "      <td>[{'file_name': './output_segments/joke1.1_2a31...</td>\n",
       "      <td>2a3186e4-8f1e-42e8-84a3-172610e3dec4</td>\n",
       "      <td>No</td>\n",
       "      <td>True</td>\n",
       "      <td>False</td>\n",
       "    </tr>\n",
       "    <tr>\n",
       "      <th>2</th>\n",
       "      <td>2</td>\n",
       "      <td>joke1.1_9f94b24b-25ac-4266-a3f5-17f48f7feaa6_1...</td>\n",
       "      <td>1</td>\n",
       "      <td>[{'file_name': './output_segments/joke1.1_9f94...</td>\n",
       "      <td>9f94b24b-25ac-4266-a3f5-17f48f7feaa6</td>\n",
       "      <td>No</td>\n",
       "      <td>True</td>\n",
       "      <td>False</td>\n",
       "    </tr>\n",
       "    <tr>\n",
       "      <th>3</th>\n",
       "      <td>3</td>\n",
       "      <td>joke1.1_c4f82db5-2182-47c3-8d85-ac0ca5b205c4_1...</td>\n",
       "      <td>1</td>\n",
       "      <td>[{'file_name': './output_segments/joke1.1_c4f8...</td>\n",
       "      <td>c4f82db5-2182-47c3-8d85-ac0ca5b205c4</td>\n",
       "      <td>No</td>\n",
       "      <td>True</td>\n",
       "      <td>False</td>\n",
       "    </tr>\n",
       "    <tr>\n",
       "      <th>4</th>\n",
       "      <td>4</td>\n",
       "      <td>joke1.1_e986fa51-78fe-4e4e-99cb-a7540bd83174_1...</td>\n",
       "      <td>1</td>\n",
       "      <td>[{'file_name': './output_segments/joke1.1_e986...</td>\n",
       "      <td>e986fa51-78fe-4e4e-99cb-a7540bd83174</td>\n",
       "      <td>Yes</td>\n",
       "      <td>True</td>\n",
       "      <td>True</td>\n",
       "    </tr>\n",
       "  </tbody>\n",
       "</table>\n",
       "</div>"
      ],
      "text/plain": [
       "   Unnamed: 0                                     full_file_name  num_laughs  \\\n",
       "0           0  joke1.1_5f9cb3c3-dba6-4a27-9881-57a95c7efe7a_1...           2   \n",
       "1           1  joke1.1_2a3186e4-8f1e-42e8-84a3-172610e3dec4_1...           1   \n",
       "2           2  joke1.1_9f94b24b-25ac-4266-a3f5-17f48f7feaa6_1...           1   \n",
       "3           3  joke1.1_c4f82db5-2182-47c3-8d85-ac0ca5b205c4_1...           1   \n",
       "4           4  joke1.1_e986fa51-78fe-4e4e-99cb-a7540bd83174_1...           1   \n",
       "\n",
       "                                             results  \\\n",
       "0  [{'file_name': './output_segments/joke1.1_5f9c...   \n",
       "1  [{'file_name': './output_segments/joke1.1_2a31...   \n",
       "2  [{'file_name': './output_segments/joke1.1_9f94...   \n",
       "3  [{'file_name': './output_segments/joke1.1_c4f8...   \n",
       "4  [{'file_name': './output_segments/joke1.1_e986...   \n",
       "\n",
       "                     VIDEOID/RESPONSEID joke1.laugh.1  num_laughs_bool  \\\n",
       "0  5f9cb3c3-dba6-4a27-9881-57a95c7efe7a            No             True   \n",
       "1  2a3186e4-8f1e-42e8-84a3-172610e3dec4            No             True   \n",
       "2  9f94b24b-25ac-4266-a3f5-17f48f7feaa6            No             True   \n",
       "3  c4f82db5-2182-47c3-8d85-ac0ca5b205c4            No             True   \n",
       "4  e986fa51-78fe-4e4e-99cb-a7540bd83174           Yes             True   \n",
       "\n",
       "   joke1.laugh.1_bool  \n",
       "0               False  \n",
       "1               False  \n",
       "2               False  \n",
       "3               False  \n",
       "4                True  "
      ]
     },
     "execution_count": 2,
     "metadata": {},
     "output_type": "execute_result"
    }
   ],
   "source": [
    "final_res  = pd.read_excel(\"laugh_detection_labelled_results.xlsx\")\n",
    "final_res.head()"
   ]
  },
  {
   "cell_type": "code",
   "execution_count": 3,
   "metadata": {},
   "outputs": [
    {
     "data": {
      "text/plain": [
       "True     41\n",
       "False    21\n",
       "Name: num_laughs_bool, dtype: int64"
      ]
     },
     "execution_count": 3,
     "metadata": {},
     "output_type": "execute_result"
    }
   ],
   "source": [
    "\n",
    "final_res.num_laughs_bool.value_counts()"
   ]
  },
  {
   "cell_type": "code",
   "execution_count": 4,
   "metadata": {},
   "outputs": [
    {
     "data": {
      "text/plain": [
       "No     40\n",
       "Yes    22\n",
       "Name: joke1.laugh.1, dtype: int64"
      ]
     },
     "execution_count": 4,
     "metadata": {},
     "output_type": "execute_result"
    }
   ],
   "source": [
    "final_res[\"joke1.laugh.1\"].value_counts()"
   ]
  },
  {
   "cell_type": "code",
   "execution_count": 5,
   "metadata": {},
   "outputs": [],
   "source": [
    "labelled_yes = final_res[final_res[\"joke1.laugh.1\"] == \"Yes\"]"
   ]
  },
  {
   "cell_type": "code",
   "execution_count": 6,
   "metadata": {},
   "outputs": [
    {
     "data": {
      "text/plain": [
       "(22, 8)"
      ]
     },
     "execution_count": 6,
     "metadata": {},
     "output_type": "execute_result"
    }
   ],
   "source": [
    "labelled_yes.shape"
   ]
  },
  {
   "cell_type": "code",
   "execution_count": 7,
   "metadata": {},
   "outputs": [
    {
     "data": {
      "text/plain": [
       "True     16\n",
       "False     6\n",
       "Name: num_laughs_bool, dtype: int64"
      ]
     },
     "execution_count": 7,
     "metadata": {},
     "output_type": "execute_result"
    }
   ],
   "source": [
    "labelled_yes[\"num_laughs_bool\"].value_counts()"
   ]
  },
  {
   "cell_type": "code",
   "execution_count": 32,
   "metadata": {},
   "outputs": [
    {
     "data": {
      "text/plain": [
       "(40, 9)"
      ]
     },
     "execution_count": 32,
     "metadata": {},
     "output_type": "execute_result"
    }
   ],
   "source": [
    "labelled_no = final_res[final_res[\"joke1.laugh.1\"] == \"No\"]\n",
    "labelled_no.shape "
   ]
  },
  {
   "cell_type": "code",
   "execution_count": 33,
   "metadata": {},
   "outputs": [
    {
     "data": {
      "text/plain": [
       "No    40\n",
       "Name: joke1.laugh.1, dtype: int64"
      ]
     },
     "execution_count": 33,
     "metadata": {},
     "output_type": "execute_result"
    }
   ],
   "source": [
    "labelled_no[\"joke1.laugh.1\"].value_counts()"
   ]
  },
  {
   "cell_type": "code",
   "execution_count": 34,
   "metadata": {},
   "outputs": [
    {
     "data": {
      "text/plain": [
       "True     25\n",
       "False    15\n",
       "Name: num_laughs_bool, dtype: int64"
      ]
     },
     "execution_count": 34,
     "metadata": {},
     "output_type": "execute_result"
    }
   ],
   "source": [
    "labelled_no[\"num_laughs_bool\"].value_counts()"
   ]
  },
  {
   "cell_type": "code",
   "execution_count": 15,
   "metadata": {},
   "outputs": [
    {
     "data": {
      "text/html": [
       "<div>\n",
       "<style scoped>\n",
       "    .dataframe tbody tr th:only-of-type {\n",
       "        vertical-align: middle;\n",
       "    }\n",
       "\n",
       "    .dataframe tbody tr th {\n",
       "        vertical-align: top;\n",
       "    }\n",
       "\n",
       "    .dataframe thead th {\n",
       "        text-align: right;\n",
       "    }\n",
       "</style>\n",
       "<table border=\"1\" class=\"dataframe\">\n",
       "  <thead>\n",
       "    <tr style=\"text-align: right;\">\n",
       "      <th></th>\n",
       "      <th>Unnamed: 0</th>\n",
       "      <th>full_file_name</th>\n",
       "      <th>num_laughs</th>\n",
       "      <th>results</th>\n",
       "      <th>VIDEOID/RESPONSEID</th>\n",
       "      <th>joke1.laugh.1</th>\n",
       "      <th>num_laughs_bool</th>\n",
       "      <th>joke1.laugh.1_bool</th>\n",
       "    </tr>\n",
       "  </thead>\n",
       "  <tbody>\n",
       "    <tr>\n",
       "      <th>46</th>\n",
       "      <td>46</td>\n",
       "      <td>joke1.1_cf9963f0-eaf3-46ad-b553-fab4e9a24503_1...</td>\n",
       "      <td>0</td>\n",
       "      <td>[]</td>\n",
       "      <td>cf9963f0-eaf3-46ad-b553-fab4e9a24503</td>\n",
       "      <td>No</td>\n",
       "      <td>False</td>\n",
       "      <td>False</td>\n",
       "    </tr>\n",
       "    <tr>\n",
       "      <th>47</th>\n",
       "      <td>47</td>\n",
       "      <td>joke1.1_7aeaa6c5-7941-4d55-b29d-852255290f84_1...</td>\n",
       "      <td>0</td>\n",
       "      <td>[]</td>\n",
       "      <td>7aeaa6c5-7941-4d55-b29d-852255290f84</td>\n",
       "      <td>No</td>\n",
       "      <td>False</td>\n",
       "      <td>False</td>\n",
       "    </tr>\n",
       "    <tr>\n",
       "      <th>50</th>\n",
       "      <td>50</td>\n",
       "      <td>joke1.1_b1fbc9a4-f81f-4926-bc8f-c69b249d3259_1...</td>\n",
       "      <td>0</td>\n",
       "      <td>[]</td>\n",
       "      <td>b1fbc9a4-f81f-4926-bc8f-c69b249d3259</td>\n",
       "      <td>No</td>\n",
       "      <td>False</td>\n",
       "      <td>False</td>\n",
       "    </tr>\n",
       "    <tr>\n",
       "      <th>51</th>\n",
       "      <td>51</td>\n",
       "      <td>joke1.1_4901fe93-aaa8-4557-9717-34c9c845e4af_1...</td>\n",
       "      <td>2</td>\n",
       "      <td>[{'file_name': './output_segments/joke1.1_4901...</td>\n",
       "      <td>4901fe93-aaa8-4557-9717-34c9c845e4af</td>\n",
       "      <td>No</td>\n",
       "      <td>True</td>\n",
       "      <td>False</td>\n",
       "    </tr>\n",
       "    <tr>\n",
       "      <th>53</th>\n",
       "      <td>53</td>\n",
       "      <td>joke1.1_079bdab2-71e0-4969-b222-c3d606a31701_1...</td>\n",
       "      <td>0</td>\n",
       "      <td>[]</td>\n",
       "      <td>079bdab2-71e0-4969-b222-c3d606a31701</td>\n",
       "      <td>No</td>\n",
       "      <td>False</td>\n",
       "      <td>False</td>\n",
       "    </tr>\n",
       "    <tr>\n",
       "      <th>54</th>\n",
       "      <td>54</td>\n",
       "      <td>joke1.1_fe12cbe7-bf8b-40a0-aff6-ffdfa29af575_1...</td>\n",
       "      <td>0</td>\n",
       "      <td>[]</td>\n",
       "      <td>fe12cbe7-bf8b-40a0-aff6-ffdfa29af575</td>\n",
       "      <td>No</td>\n",
       "      <td>False</td>\n",
       "      <td>False</td>\n",
       "    </tr>\n",
       "    <tr>\n",
       "      <th>55</th>\n",
       "      <td>55</td>\n",
       "      <td>joke1.1_8a85d911-0df9-412d-ace0-d3901cada917_1...</td>\n",
       "      <td>1</td>\n",
       "      <td>[{'file_name': './output_segments/joke1.1_8a85...</td>\n",
       "      <td>8a85d911-0df9-412d-ace0-d3901cada917</td>\n",
       "      <td>No</td>\n",
       "      <td>True</td>\n",
       "      <td>False</td>\n",
       "    </tr>\n",
       "    <tr>\n",
       "      <th>56</th>\n",
       "      <td>56</td>\n",
       "      <td>joke1.1_e813c4c8-0ab1-4812-8e33-de2e05aa610c_1...</td>\n",
       "      <td>0</td>\n",
       "      <td>[]</td>\n",
       "      <td>e813c4c8-0ab1-4812-8e33-de2e05aa610c</td>\n",
       "      <td>No</td>\n",
       "      <td>False</td>\n",
       "      <td>False</td>\n",
       "    </tr>\n",
       "    <tr>\n",
       "      <th>57</th>\n",
       "      <td>57</td>\n",
       "      <td>joke1.1_0c6a9044-d414-41fc-ad1c-0ea3535bdd41_1...</td>\n",
       "      <td>0</td>\n",
       "      <td>[]</td>\n",
       "      <td>0c6a9044-d414-41fc-ad1c-0ea3535bdd41</td>\n",
       "      <td>No</td>\n",
       "      <td>False</td>\n",
       "      <td>False</td>\n",
       "    </tr>\n",
       "    <tr>\n",
       "      <th>61</th>\n",
       "      <td>61</td>\n",
       "      <td>joke1.1_40729233-7572-49cc-b765-38eb8f541372_1...</td>\n",
       "      <td>0</td>\n",
       "      <td>[]</td>\n",
       "      <td>40729233-7572-49cc-b765-38eb8f541372</td>\n",
       "      <td>No</td>\n",
       "      <td>False</td>\n",
       "      <td>False</td>\n",
       "    </tr>\n",
       "  </tbody>\n",
       "</table>\n",
       "</div>"
      ],
      "text/plain": [
       "    Unnamed: 0                                     full_file_name  num_laughs  \\\n",
       "46          46  joke1.1_cf9963f0-eaf3-46ad-b553-fab4e9a24503_1...           0   \n",
       "47          47  joke1.1_7aeaa6c5-7941-4d55-b29d-852255290f84_1...           0   \n",
       "50          50  joke1.1_b1fbc9a4-f81f-4926-bc8f-c69b249d3259_1...           0   \n",
       "51          51  joke1.1_4901fe93-aaa8-4557-9717-34c9c845e4af_1...           2   \n",
       "53          53  joke1.1_079bdab2-71e0-4969-b222-c3d606a31701_1...           0   \n",
       "54          54  joke1.1_fe12cbe7-bf8b-40a0-aff6-ffdfa29af575_1...           0   \n",
       "55          55  joke1.1_8a85d911-0df9-412d-ace0-d3901cada917_1...           1   \n",
       "56          56  joke1.1_e813c4c8-0ab1-4812-8e33-de2e05aa610c_1...           0   \n",
       "57          57  joke1.1_0c6a9044-d414-41fc-ad1c-0ea3535bdd41_1...           0   \n",
       "61          61  joke1.1_40729233-7572-49cc-b765-38eb8f541372_1...           0   \n",
       "\n",
       "                                              results  \\\n",
       "46                                                 []   \n",
       "47                                                 []   \n",
       "50                                                 []   \n",
       "51  [{'file_name': './output_segments/joke1.1_4901...   \n",
       "53                                                 []   \n",
       "54                                                 []   \n",
       "55  [{'file_name': './output_segments/joke1.1_8a85...   \n",
       "56                                                 []   \n",
       "57                                                 []   \n",
       "61                                                 []   \n",
       "\n",
       "                      VIDEOID/RESPONSEID joke1.laugh.1  num_laughs_bool  \\\n",
       "46  cf9963f0-eaf3-46ad-b553-fab4e9a24503            No            False   \n",
       "47  7aeaa6c5-7941-4d55-b29d-852255290f84            No            False   \n",
       "50  b1fbc9a4-f81f-4926-bc8f-c69b249d3259            No            False   \n",
       "51  4901fe93-aaa8-4557-9717-34c9c845e4af            No             True   \n",
       "53  079bdab2-71e0-4969-b222-c3d606a31701            No            False   \n",
       "54  fe12cbe7-bf8b-40a0-aff6-ffdfa29af575            No            False   \n",
       "55  8a85d911-0df9-412d-ace0-d3901cada917            No             True   \n",
       "56  e813c4c8-0ab1-4812-8e33-de2e05aa610c            No            False   \n",
       "57  0c6a9044-d414-41fc-ad1c-0ea3535bdd41            No            False   \n",
       "61  40729233-7572-49cc-b765-38eb8f541372            No            False   \n",
       "\n",
       "    joke1.laugh.1_bool  \n",
       "46               False  \n",
       "47               False  \n",
       "50               False  \n",
       "51               False  \n",
       "53               False  \n",
       "54               False  \n",
       "55               False  \n",
       "56               False  \n",
       "57               False  \n",
       "61               False  "
      ]
     },
     "execution_count": 15,
     "metadata": {},
     "output_type": "execute_result"
    }
   ],
   "source": [
    "labelled_no.tail(10)"
   ]
  },
  {
   "cell_type": "code",
   "execution_count": 14,
   "metadata": {},
   "outputs": [
    {
     "data": {
      "text/plain": [
       "'joke1.1_5f9cb3c3-dba6-4a27-9881-57a95c7efe7a_1587767083654_972.mp3'"
      ]
     },
     "execution_count": 14,
     "metadata": {},
     "output_type": "execute_result"
    }
   ],
   "source": [
    "labelled_no.iloc[0][\"full_file_name\"]"
   ]
  },
  {
   "cell_type": "code",
   "execution_count": 20,
   "metadata": {},
   "outputs": [
    {
     "data": {
      "text/html": [
       "<div>\n",
       "<style scoped>\n",
       "    .dataframe tbody tr th:only-of-type {\n",
       "        vertical-align: middle;\n",
       "    }\n",
       "\n",
       "    .dataframe tbody tr th {\n",
       "        vertical-align: top;\n",
       "    }\n",
       "\n",
       "    .dataframe thead th {\n",
       "        text-align: right;\n",
       "    }\n",
       "</style>\n",
       "<table border=\"1\" class=\"dataframe\">\n",
       "  <thead>\n",
       "    <tr style=\"text-align: right;\">\n",
       "      <th></th>\n",
       "      <th>Unnamed: 0</th>\n",
       "      <th>full_file_name</th>\n",
       "      <th>num_laughs</th>\n",
       "      <th>results</th>\n",
       "      <th>VIDEOID/RESPONSEID</th>\n",
       "      <th>joke1.laugh.1</th>\n",
       "      <th>num_laughs_bool</th>\n",
       "      <th>joke1.laugh.1_bool</th>\n",
       "      <th>match</th>\n",
       "    </tr>\n",
       "  </thead>\n",
       "  <tbody>\n",
       "    <tr>\n",
       "      <th>0</th>\n",
       "      <td>0</td>\n",
       "      <td>joke1.1_5f9cb3c3-dba6-4a27-9881-57a95c7efe7a_1...</td>\n",
       "      <td>2</td>\n",
       "      <td>[{'file_name': './output_segments/joke1.1_5f9c...</td>\n",
       "      <td>5f9cb3c3-dba6-4a27-9881-57a95c7efe7a</td>\n",
       "      <td>No</td>\n",
       "      <td>True</td>\n",
       "      <td>False</td>\n",
       "      <td>False</td>\n",
       "    </tr>\n",
       "    <tr>\n",
       "      <th>1</th>\n",
       "      <td>1</td>\n",
       "      <td>joke1.1_2a3186e4-8f1e-42e8-84a3-172610e3dec4_1...</td>\n",
       "      <td>1</td>\n",
       "      <td>[{'file_name': './output_segments/joke1.1_2a31...</td>\n",
       "      <td>2a3186e4-8f1e-42e8-84a3-172610e3dec4</td>\n",
       "      <td>No</td>\n",
       "      <td>True</td>\n",
       "      <td>False</td>\n",
       "      <td>False</td>\n",
       "    </tr>\n",
       "    <tr>\n",
       "      <th>2</th>\n",
       "      <td>2</td>\n",
       "      <td>joke1.1_9f94b24b-25ac-4266-a3f5-17f48f7feaa6_1...</td>\n",
       "      <td>1</td>\n",
       "      <td>[{'file_name': './output_segments/joke1.1_9f94...</td>\n",
       "      <td>9f94b24b-25ac-4266-a3f5-17f48f7feaa6</td>\n",
       "      <td>No</td>\n",
       "      <td>True</td>\n",
       "      <td>False</td>\n",
       "      <td>False</td>\n",
       "    </tr>\n",
       "    <tr>\n",
       "      <th>3</th>\n",
       "      <td>3</td>\n",
       "      <td>joke1.1_c4f82db5-2182-47c3-8d85-ac0ca5b205c4_1...</td>\n",
       "      <td>1</td>\n",
       "      <td>[{'file_name': './output_segments/joke1.1_c4f8...</td>\n",
       "      <td>c4f82db5-2182-47c3-8d85-ac0ca5b205c4</td>\n",
       "      <td>No</td>\n",
       "      <td>True</td>\n",
       "      <td>False</td>\n",
       "      <td>False</td>\n",
       "    </tr>\n",
       "    <tr>\n",
       "      <th>4</th>\n",
       "      <td>4</td>\n",
       "      <td>joke1.1_e986fa51-78fe-4e4e-99cb-a7540bd83174_1...</td>\n",
       "      <td>1</td>\n",
       "      <td>[{'file_name': './output_segments/joke1.1_e986...</td>\n",
       "      <td>e986fa51-78fe-4e4e-99cb-a7540bd83174</td>\n",
       "      <td>Yes</td>\n",
       "      <td>True</td>\n",
       "      <td>True</td>\n",
       "      <td>True</td>\n",
       "    </tr>\n",
       "  </tbody>\n",
       "</table>\n",
       "</div>"
      ],
      "text/plain": [
       "   Unnamed: 0                                     full_file_name  num_laughs  \\\n",
       "0           0  joke1.1_5f9cb3c3-dba6-4a27-9881-57a95c7efe7a_1...           2   \n",
       "1           1  joke1.1_2a3186e4-8f1e-42e8-84a3-172610e3dec4_1...           1   \n",
       "2           2  joke1.1_9f94b24b-25ac-4266-a3f5-17f48f7feaa6_1...           1   \n",
       "3           3  joke1.1_c4f82db5-2182-47c3-8d85-ac0ca5b205c4_1...           1   \n",
       "4           4  joke1.1_e986fa51-78fe-4e4e-99cb-a7540bd83174_1...           1   \n",
       "\n",
       "                                             results  \\\n",
       "0  [{'file_name': './output_segments/joke1.1_5f9c...   \n",
       "1  [{'file_name': './output_segments/joke1.1_2a31...   \n",
       "2  [{'file_name': './output_segments/joke1.1_9f94...   \n",
       "3  [{'file_name': './output_segments/joke1.1_c4f8...   \n",
       "4  [{'file_name': './output_segments/joke1.1_e986...   \n",
       "\n",
       "                     VIDEOID/RESPONSEID joke1.laugh.1  num_laughs_bool  \\\n",
       "0  5f9cb3c3-dba6-4a27-9881-57a95c7efe7a            No             True   \n",
       "1  2a3186e4-8f1e-42e8-84a3-172610e3dec4            No             True   \n",
       "2  9f94b24b-25ac-4266-a3f5-17f48f7feaa6            No             True   \n",
       "3  c4f82db5-2182-47c3-8d85-ac0ca5b205c4            No             True   \n",
       "4  e986fa51-78fe-4e4e-99cb-a7540bd83174           Yes             True   \n",
       "\n",
       "   joke1.laugh.1_bool  match  \n",
       "0               False  False  \n",
       "1               False  False  \n",
       "2               False  False  \n",
       "3               False  False  \n",
       "4                True   True  "
      ]
     },
     "execution_count": 20,
     "metadata": {},
     "output_type": "execute_result"
    }
   ],
   "source": [
    "final_res[\"match\"] = final_res[\"joke1.laugh.1_bool\"] == final_res[\"num_laughs_bool\"] \n",
    "final_res.head()"
   ]
  },
  {
   "cell_type": "code",
   "execution_count": 24,
   "metadata": {},
   "outputs": [
    {
     "data": {
      "text/html": [
       "<div>\n",
       "<style scoped>\n",
       "    .dataframe tbody tr th:only-of-type {\n",
       "        vertical-align: middle;\n",
       "    }\n",
       "\n",
       "    .dataframe tbody tr th {\n",
       "        vertical-align: top;\n",
       "    }\n",
       "\n",
       "    .dataframe thead th {\n",
       "        text-align: right;\n",
       "    }\n",
       "</style>\n",
       "<table border=\"1\" class=\"dataframe\">\n",
       "  <thead>\n",
       "    <tr style=\"text-align: right;\">\n",
       "      <th></th>\n",
       "      <th>Unnamed: 0</th>\n",
       "      <th>full_file_name</th>\n",
       "      <th>num_laughs</th>\n",
       "      <th>results</th>\n",
       "      <th>VIDEOID/RESPONSEID</th>\n",
       "      <th>joke1.laugh.1</th>\n",
       "      <th>num_laughs_bool</th>\n",
       "      <th>joke1.laugh.1_bool</th>\n",
       "      <th>match</th>\n",
       "    </tr>\n",
       "  </thead>\n",
       "  <tbody>\n",
       "    <tr>\n",
       "      <th>52</th>\n",
       "      <td>52</td>\n",
       "      <td>joke1.1_8cdac953-fe67-44d1-a875-77c9eae75984_1...</td>\n",
       "      <td>1</td>\n",
       "      <td>[{'file_name': './output_segments/joke1.1_8cda...</td>\n",
       "      <td>8cdac953-fe67-44d1-a875-77c9eae75984</td>\n",
       "      <td>Yes</td>\n",
       "      <td>True</td>\n",
       "      <td>True</td>\n",
       "      <td>True</td>\n",
       "    </tr>\n",
       "    <tr>\n",
       "      <th>53</th>\n",
       "      <td>53</td>\n",
       "      <td>joke1.1_079bdab2-71e0-4969-b222-c3d606a31701_1...</td>\n",
       "      <td>0</td>\n",
       "      <td>[]</td>\n",
       "      <td>079bdab2-71e0-4969-b222-c3d606a31701</td>\n",
       "      <td>No</td>\n",
       "      <td>False</td>\n",
       "      <td>False</td>\n",
       "      <td>True</td>\n",
       "    </tr>\n",
       "    <tr>\n",
       "      <th>54</th>\n",
       "      <td>54</td>\n",
       "      <td>joke1.1_fe12cbe7-bf8b-40a0-aff6-ffdfa29af575_1...</td>\n",
       "      <td>0</td>\n",
       "      <td>[]</td>\n",
       "      <td>fe12cbe7-bf8b-40a0-aff6-ffdfa29af575</td>\n",
       "      <td>No</td>\n",
       "      <td>False</td>\n",
       "      <td>False</td>\n",
       "      <td>True</td>\n",
       "    </tr>\n",
       "    <tr>\n",
       "      <th>55</th>\n",
       "      <td>55</td>\n",
       "      <td>joke1.1_8a85d911-0df9-412d-ace0-d3901cada917_1...</td>\n",
       "      <td>1</td>\n",
       "      <td>[{'file_name': './output_segments/joke1.1_8a85...</td>\n",
       "      <td>8a85d911-0df9-412d-ace0-d3901cada917</td>\n",
       "      <td>No</td>\n",
       "      <td>True</td>\n",
       "      <td>False</td>\n",
       "      <td>False</td>\n",
       "    </tr>\n",
       "    <tr>\n",
       "      <th>56</th>\n",
       "      <td>56</td>\n",
       "      <td>joke1.1_e813c4c8-0ab1-4812-8e33-de2e05aa610c_1...</td>\n",
       "      <td>0</td>\n",
       "      <td>[]</td>\n",
       "      <td>e813c4c8-0ab1-4812-8e33-de2e05aa610c</td>\n",
       "      <td>No</td>\n",
       "      <td>False</td>\n",
       "      <td>False</td>\n",
       "      <td>True</td>\n",
       "    </tr>\n",
       "    <tr>\n",
       "      <th>57</th>\n",
       "      <td>57</td>\n",
       "      <td>joke1.1_0c6a9044-d414-41fc-ad1c-0ea3535bdd41_1...</td>\n",
       "      <td>0</td>\n",
       "      <td>[]</td>\n",
       "      <td>0c6a9044-d414-41fc-ad1c-0ea3535bdd41</td>\n",
       "      <td>No</td>\n",
       "      <td>False</td>\n",
       "      <td>False</td>\n",
       "      <td>True</td>\n",
       "    </tr>\n",
       "    <tr>\n",
       "      <th>58</th>\n",
       "      <td>58</td>\n",
       "      <td>joke1.1_f4e620b4-8cf1-485a-961b-3a0828415ec5_1...</td>\n",
       "      <td>1</td>\n",
       "      <td>[{'file_name': './output_segments/joke1.1_f4e6...</td>\n",
       "      <td>f4e620b4-8cf1-485a-961b-3a0828415ec5</td>\n",
       "      <td>Yes</td>\n",
       "      <td>True</td>\n",
       "      <td>True</td>\n",
       "      <td>True</td>\n",
       "    </tr>\n",
       "    <tr>\n",
       "      <th>59</th>\n",
       "      <td>59</td>\n",
       "      <td>joke1.1_60083074-de80-48f1-899a-437c3952ae59_1...</td>\n",
       "      <td>0</td>\n",
       "      <td>[]</td>\n",
       "      <td>60083074-de80-48f1-899a-437c3952ae59</td>\n",
       "      <td>Yes</td>\n",
       "      <td>False</td>\n",
       "      <td>True</td>\n",
       "      <td>False</td>\n",
       "    </tr>\n",
       "    <tr>\n",
       "      <th>60</th>\n",
       "      <td>60</td>\n",
       "      <td>joke1.1_164e487b-e4b6-4cb0-bb05-56a1f65e8324_1...</td>\n",
       "      <td>1</td>\n",
       "      <td>[{'file_name': './output_segments/joke1.1_164e...</td>\n",
       "      <td>164e487b-e4b6-4cb0-bb05-56a1f65e8324</td>\n",
       "      <td>Yes</td>\n",
       "      <td>True</td>\n",
       "      <td>True</td>\n",
       "      <td>True</td>\n",
       "    </tr>\n",
       "    <tr>\n",
       "      <th>61</th>\n",
       "      <td>61</td>\n",
       "      <td>joke1.1_40729233-7572-49cc-b765-38eb8f541372_1...</td>\n",
       "      <td>0</td>\n",
       "      <td>[]</td>\n",
       "      <td>40729233-7572-49cc-b765-38eb8f541372</td>\n",
       "      <td>No</td>\n",
       "      <td>False</td>\n",
       "      <td>False</td>\n",
       "      <td>True</td>\n",
       "    </tr>\n",
       "  </tbody>\n",
       "</table>\n",
       "</div>"
      ],
      "text/plain": [
       "    Unnamed: 0                                     full_file_name  num_laughs  \\\n",
       "52          52  joke1.1_8cdac953-fe67-44d1-a875-77c9eae75984_1...           1   \n",
       "53          53  joke1.1_079bdab2-71e0-4969-b222-c3d606a31701_1...           0   \n",
       "54          54  joke1.1_fe12cbe7-bf8b-40a0-aff6-ffdfa29af575_1...           0   \n",
       "55          55  joke1.1_8a85d911-0df9-412d-ace0-d3901cada917_1...           1   \n",
       "56          56  joke1.1_e813c4c8-0ab1-4812-8e33-de2e05aa610c_1...           0   \n",
       "57          57  joke1.1_0c6a9044-d414-41fc-ad1c-0ea3535bdd41_1...           0   \n",
       "58          58  joke1.1_f4e620b4-8cf1-485a-961b-3a0828415ec5_1...           1   \n",
       "59          59  joke1.1_60083074-de80-48f1-899a-437c3952ae59_1...           0   \n",
       "60          60  joke1.1_164e487b-e4b6-4cb0-bb05-56a1f65e8324_1...           1   \n",
       "61          61  joke1.1_40729233-7572-49cc-b765-38eb8f541372_1...           0   \n",
       "\n",
       "                                              results  \\\n",
       "52  [{'file_name': './output_segments/joke1.1_8cda...   \n",
       "53                                                 []   \n",
       "54                                                 []   \n",
       "55  [{'file_name': './output_segments/joke1.1_8a85...   \n",
       "56                                                 []   \n",
       "57                                                 []   \n",
       "58  [{'file_name': './output_segments/joke1.1_f4e6...   \n",
       "59                                                 []   \n",
       "60  [{'file_name': './output_segments/joke1.1_164e...   \n",
       "61                                                 []   \n",
       "\n",
       "                      VIDEOID/RESPONSEID joke1.laugh.1  num_laughs_bool  \\\n",
       "52  8cdac953-fe67-44d1-a875-77c9eae75984           Yes             True   \n",
       "53  079bdab2-71e0-4969-b222-c3d606a31701            No            False   \n",
       "54  fe12cbe7-bf8b-40a0-aff6-ffdfa29af575            No            False   \n",
       "55  8a85d911-0df9-412d-ace0-d3901cada917            No             True   \n",
       "56  e813c4c8-0ab1-4812-8e33-de2e05aa610c            No            False   \n",
       "57  0c6a9044-d414-41fc-ad1c-0ea3535bdd41            No            False   \n",
       "58  f4e620b4-8cf1-485a-961b-3a0828415ec5           Yes             True   \n",
       "59  60083074-de80-48f1-899a-437c3952ae59           Yes            False   \n",
       "60  164e487b-e4b6-4cb0-bb05-56a1f65e8324           Yes             True   \n",
       "61  40729233-7572-49cc-b765-38eb8f541372            No            False   \n",
       "\n",
       "    joke1.laugh.1_bool  match  \n",
       "52                True   True  \n",
       "53               False   True  \n",
       "54               False   True  \n",
       "55               False  False  \n",
       "56               False   True  \n",
       "57               False   True  \n",
       "58                True   True  \n",
       "59                True  False  \n",
       "60                True   True  \n",
       "61               False   True  "
      ]
     },
     "execution_count": 24,
     "metadata": {},
     "output_type": "execute_result"
    }
   ],
   "source": [
    "final_res.tail(10)"
   ]
  },
  {
   "cell_type": "code",
   "execution_count": 23,
   "metadata": {},
   "outputs": [
    {
     "data": {
      "text/plain": [
       "False    31\n",
       "True     31\n",
       "Name: match, dtype: int64"
      ]
     },
     "execution_count": 23,
     "metadata": {},
     "output_type": "execute_result"
    }
   ],
   "source": [
    "final_res.match.value_counts()"
   ]
  },
  {
   "cell_type": "code",
   "execution_count": 25,
   "metadata": {},
   "outputs": [
    {
     "data": {
      "text/plain": [
       "Unnamed: 0             int64\n",
       "full_file_name        object\n",
       "num_laughs             int64\n",
       "results               object\n",
       "VIDEOID/RESPONSEID    object\n",
       "joke1.laugh.1         object\n",
       "num_laughs_bool         bool\n",
       "joke1.laugh.1_bool      bool\n",
       "match                   bool\n",
       "dtype: object"
      ]
     },
     "execution_count": 25,
     "metadata": {},
     "output_type": "execute_result"
    }
   ],
   "source": [
    "final_res.dtypes"
   ]
  },
  {
   "cell_type": "code",
   "execution_count": 26,
   "metadata": {},
   "outputs": [
    {
     "data": {
      "text/plain": [
       "62"
      ]
     },
     "execution_count": 26,
     "metadata": {},
     "output_type": "execute_result"
    }
   ],
   "source": [
    "final_res.full_file_name.nunique()"
   ]
  },
  {
   "cell_type": "code",
   "execution_count": 30,
   "metadata": {},
   "outputs": [
    {
     "data": {
      "text/html": [
       "<div>\n",
       "<style scoped>\n",
       "    .dataframe tbody tr th:only-of-type {\n",
       "        vertical-align: middle;\n",
       "    }\n",
       "\n",
       "    .dataframe tbody tr th {\n",
       "        vertical-align: top;\n",
       "    }\n",
       "\n",
       "    .dataframe thead th {\n",
       "        text-align: right;\n",
       "    }\n",
       "</style>\n",
       "<table border=\"1\" class=\"dataframe\">\n",
       "  <thead>\n",
       "    <tr style=\"text-align: right;\">\n",
       "      <th></th>\n",
       "      <th>Unnamed: 0</th>\n",
       "      <th>full_file_name</th>\n",
       "      <th>num_laughs</th>\n",
       "      <th>results</th>\n",
       "      <th>VIDEOID/RESPONSEID</th>\n",
       "      <th>joke1.laugh.1</th>\n",
       "      <th>num_laughs_bool</th>\n",
       "      <th>joke1.laugh.1_bool</th>\n",
       "      <th>match</th>\n",
       "    </tr>\n",
       "  </thead>\n",
       "  <tbody>\n",
       "    <tr>\n",
       "      <th>0</th>\n",
       "      <td>0</td>\n",
       "      <td>joke1.1_5f9cb3c3-dba6-4a27-9881-57a95c7efe7a_1...</td>\n",
       "      <td>2</td>\n",
       "      <td>[{'file_name': './output_segments/joke1.1_5f9c...</td>\n",
       "      <td>5f9cb3c3-dba6-4a27-9881-57a95c7efe7a</td>\n",
       "      <td>No</td>\n",
       "      <td>True</td>\n",
       "      <td>False</td>\n",
       "      <td>False</td>\n",
       "    </tr>\n",
       "    <tr>\n",
       "      <th>1</th>\n",
       "      <td>1</td>\n",
       "      <td>joke1.1_2a3186e4-8f1e-42e8-84a3-172610e3dec4_1...</td>\n",
       "      <td>1</td>\n",
       "      <td>[{'file_name': './output_segments/joke1.1_2a31...</td>\n",
       "      <td>2a3186e4-8f1e-42e8-84a3-172610e3dec4</td>\n",
       "      <td>No</td>\n",
       "      <td>True</td>\n",
       "      <td>False</td>\n",
       "      <td>False</td>\n",
       "    </tr>\n",
       "    <tr>\n",
       "      <th>2</th>\n",
       "      <td>2</td>\n",
       "      <td>joke1.1_9f94b24b-25ac-4266-a3f5-17f48f7feaa6_1...</td>\n",
       "      <td>1</td>\n",
       "      <td>[{'file_name': './output_segments/joke1.1_9f94...</td>\n",
       "      <td>9f94b24b-25ac-4266-a3f5-17f48f7feaa6</td>\n",
       "      <td>No</td>\n",
       "      <td>True</td>\n",
       "      <td>False</td>\n",
       "      <td>False</td>\n",
       "    </tr>\n",
       "    <tr>\n",
       "      <th>3</th>\n",
       "      <td>3</td>\n",
       "      <td>joke1.1_c4f82db5-2182-47c3-8d85-ac0ca5b205c4_1...</td>\n",
       "      <td>1</td>\n",
       "      <td>[{'file_name': './output_segments/joke1.1_c4f8...</td>\n",
       "      <td>c4f82db5-2182-47c3-8d85-ac0ca5b205c4</td>\n",
       "      <td>No</td>\n",
       "      <td>True</td>\n",
       "      <td>False</td>\n",
       "      <td>False</td>\n",
       "    </tr>\n",
       "    <tr>\n",
       "      <th>4</th>\n",
       "      <td>4</td>\n",
       "      <td>joke1.1_e986fa51-78fe-4e4e-99cb-a7540bd83174_1...</td>\n",
       "      <td>1</td>\n",
       "      <td>[{'file_name': './output_segments/joke1.1_e986...</td>\n",
       "      <td>e986fa51-78fe-4e4e-99cb-a7540bd83174</td>\n",
       "      <td>Yes</td>\n",
       "      <td>True</td>\n",
       "      <td>True</td>\n",
       "      <td>True</td>\n",
       "    </tr>\n",
       "  </tbody>\n",
       "</table>\n",
       "</div>"
      ],
      "text/plain": [
       "   Unnamed: 0                                     full_file_name  num_laughs  \\\n",
       "0           0  joke1.1_5f9cb3c3-dba6-4a27-9881-57a95c7efe7a_1...           2   \n",
       "1           1  joke1.1_2a3186e4-8f1e-42e8-84a3-172610e3dec4_1...           1   \n",
       "2           2  joke1.1_9f94b24b-25ac-4266-a3f5-17f48f7feaa6_1...           1   \n",
       "3           3  joke1.1_c4f82db5-2182-47c3-8d85-ac0ca5b205c4_1...           1   \n",
       "4           4  joke1.1_e986fa51-78fe-4e4e-99cb-a7540bd83174_1...           1   \n",
       "\n",
       "                                             results  \\\n",
       "0  [{'file_name': './output_segments/joke1.1_5f9c...   \n",
       "1  [{'file_name': './output_segments/joke1.1_2a31...   \n",
       "2  [{'file_name': './output_segments/joke1.1_9f94...   \n",
       "3  [{'file_name': './output_segments/joke1.1_c4f8...   \n",
       "4  [{'file_name': './output_segments/joke1.1_e986...   \n",
       "\n",
       "                     VIDEOID/RESPONSEID joke1.laugh.1  num_laughs_bool  \\\n",
       "0  5f9cb3c3-dba6-4a27-9881-57a95c7efe7a            No             True   \n",
       "1  2a3186e4-8f1e-42e8-84a3-172610e3dec4            No             True   \n",
       "2  9f94b24b-25ac-4266-a3f5-17f48f7feaa6            No             True   \n",
       "3  c4f82db5-2182-47c3-8d85-ac0ca5b205c4            No             True   \n",
       "4  e986fa51-78fe-4e4e-99cb-a7540bd83174           Yes             True   \n",
       "\n",
       "   joke1.laugh.1_bool  match  \n",
       "0               False  False  \n",
       "1               False  False  \n",
       "2               False  False  \n",
       "3               False  False  \n",
       "4                True   True  "
      ]
     },
     "execution_count": 30,
     "metadata": {},
     "output_type": "execute_result"
    }
   ],
   "source": [
    "final_res.head()\n"
   ]
  },
  {
   "cell_type": "code",
   "execution_count": 31,
   "metadata": {},
   "outputs": [],
   "source": [
    "final_res.to_excel(\"final_results.xlsx\",index=False)"
   ]
  },
  {
   "cell_type": "code",
   "execution_count": null,
   "metadata": {},
   "outputs": [],
   "source": [
    "final_res"
   ]
  },
  {
   "cell_type": "markdown",
   "metadata": {},
   "source": []
  }
 ],
 "metadata": {
  "kernelspec": {
   "display_name": "py36",
   "language": "python",
   "name": "python3"
  },
  "language_info": {
   "codemirror_mode": {
    "name": "ipython",
    "version": 3
   },
   "file_extension": ".py",
   "mimetype": "text/x-python",
   "name": "python",
   "nbconvert_exporter": "python",
   "pygments_lexer": "ipython3",
   "version": "3.7.12"
  },
  "orig_nbformat": 4
 },
 "nbformat": 4,
 "nbformat_minor": 2
}

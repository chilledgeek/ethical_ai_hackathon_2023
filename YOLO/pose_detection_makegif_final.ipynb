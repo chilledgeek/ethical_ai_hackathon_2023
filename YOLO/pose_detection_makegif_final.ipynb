{
 "cells": [
  {
   "cell_type": "code",
   "execution_count": null,
   "metadata": {
    "colab": {
     "base_uri": "https://localhost:8080/"
    },
    "id": "gpSJdnayyyjn",
    "outputId": "56e89d2a-47f1-4a59-cfbd-c701faf5970d"
   },
   "outputs": [],
   "source": [
    "# Mount Google Drive\n",
    "from google.colab import drive\n",
    "drive.mount('/content/drive')"
   ]
  },
  {
   "cell_type": "code",
   "execution_count": null,
   "metadata": {
    "id": "83nWri9vy3Hj"
   },
   "outputs": [],
   "source": [
    "! [ ! -z \"$COLAB_GPU\" ] && pip install torch torchvision pillow==7.1.2 skorch"
   ]
  },
  {
   "cell_type": "code",
   "execution_count": null,
   "metadata": {
    "colab": {
     "base_uri": "https://localhost:8080/"
    },
    "id": "WK8HaHJty923",
    "outputId": "e105d88a-90f6-47a2-c417-62918539db4b"
   },
   "outputs": [],
   "source": [
    "# Import libraries\n",
    "import torch\n",
    "import torch.nn as nn\n",
    "import torch.optim as optim\n",
    "# import skorch\n",
    "# from skorch.callbacks import LRScheduler, Checkpoint\n",
    "import numpy as np\n",
    "import torchvision\n",
    "from torchvision import datasets, models, transforms\n",
    "import matplotlib.pyplot as plt\n",
    "import time\n",
    "import copy\n",
    "import os\n",
    "import pickle\n",
    "import seaborn as sns\n",
    "# from skorch import NeuralNetClassifier\n",
    "from sklearn.metrics import accuracy_score, top_k_accuracy_score, confusion_matrix\n",
    "%matplotlib inline\n",
    "\n",
    "device = torch.device(\"cuda:0\" if torch.cuda.is_available() else \"cpu\")\n",
    "\n",
    "# Assuming that we are on a CUDA machine, this should print a CUDA device:\n",
    "print(device)"
   ]
  },
  {
   "cell_type": "code",
   "execution_count": null,
   "metadata": {
    "colab": {
     "base_uri": "https://localhost:8080/"
    },
    "id": "JZeNHYu3z2oL",
    "outputId": "30ce1c6e-750c-434d-ecc9-62baf5f32255"
   },
   "outputs": [],
   "source": [
    "%pip install ultralytics\n",
    "import ultralytics\n",
    "ultralytics.checks()"
   ]
  },
  {
   "cell_type": "markdown",
   "metadata": {
    "id": "Ag4yXDGRz9i9"
   },
   "source": [
    "Videos of interest\n",
    "- joke1.1_5dcc826c-e70a-4c28-bd4e-dca0e9023fa8_1560890971288_431.mp4\n",
    "- joke1.1_5dcc826c-e70a-4c28-bd4e-dca0e9023fa8_1560890971288_431.mp4\n",
    "- joke5.3_f4e620b4-8cf1-485a-961b-3a0828415ec5_1577919787295_189.mp4\n"
   ]
  },
  {
   "cell_type": "code",
   "execution_count": null,
   "metadata": {
    "colab": {
     "base_uri": "https://localhost:8080/"
    },
    "id": "7Bmtm_BrA61y",
    "outputId": "61c6a48c-52c7-4690-c5d7-3310eb3e3793"
   },
   "outputs": [],
   "source": [
    "import cv2\n",
    "from google.colab.patches import cv2_imshow\n",
    "from ultralytics import YOLO\n",
    "\n",
    "# Load the YOLOv8 model\n",
    "model = YOLO('yolov8n-pose.pt')\n",
    "\n",
    "# Open the video file\n",
    "video_paths = ['joke5.3_f4e620b4-8cf1-485a-961b-3a0828415ec5_1577919787295_189.mp4']\n",
    "              # 'joke1.1_5dcc826c-e70a-4c28-bd4e-dca0e9023fa8_1560890971288_431.mp4',\n",
    "              # 'joke5.3_f4e620b4-8cf1-485a-961b-3a0828415ec5_1577919787295_189.mp4'\n",
    "for video_path in video_paths:\n",
    "    cap = cv2.VideoCapture(video_path)\n",
    "    i = 0\n",
    "\n",
    "    # Loop through the video frames\n",
    "    while cap.isOpened():\n",
    "        # Read a frame from the video\n",
    "        success, frame = cap.read()\n",
    "\n",
    "        if success:\n",
    "            # Run YOLOv8 inference on the frame\n",
    "            results = model(frame)\n",
    "\n",
    "            # Visualize the results on the frame\n",
    "            annotated_frame = results[0].plot()\n",
    "\n",
    "            # Display the annotated frame\n",
    "            cv2.imwrite(f'{i}.png', annotated_frame)\n",
    "\n",
    "            # Break the loop if 'q' is pressed\n",
    "            if cv2.waitKey(1) & 0xFF == ord(\"q\"):\n",
    "                break\n",
    "        else:\n",
    "            # Break the loop if the end of the video is reached\n",
    "            break\n",
    "\n",
    "        i += 1\n",
    "\n",
    "    # Release the video capture object and close the display window\n",
    "    cap.release()\n",
    "    cv2.destroyAllWindows()\n",
    "\n"
   ]
  },
  {
   "cell_type": "code",
   "execution_count": null,
   "metadata": {
    "id": "6o2GrLMicFNQ"
   },
   "outputs": [],
   "source": [
    "file_names = sorted((int(fn.split('.')[0]) for fn in os.listdir('.') if fn.endswith('.png')))"
   ]
  },
  {
   "cell_type": "code",
   "execution_count": null,
   "metadata": {
    "colab": {
     "base_uri": "https://localhost:8080/"
    },
    "id": "QoijCHW0dYUq",
    "outputId": "719a291d-2183-495d-9e3d-21148a817ccb"
   },
   "outputs": [],
   "source": [
    "!pip install images2gif"
   ]
  },
  {
   "cell_type": "code",
   "execution_count": null,
   "metadata": {
    "id": "dkhBD9Oje8_6"
   },
   "outputs": [],
   "source": [
    "import imageio"
   ]
  },
  {
   "cell_type": "code",
   "execution_count": null,
   "metadata": {
    "colab": {
     "base_uri": "https://localhost:8080/"
    },
    "id": "omvoidoQcIuG",
    "outputId": "da567e5e-f0e9-4f84-f0c7-68933539484b"
   },
   "outputs": [],
   "source": [
    "filenumbers = sorted((int(fn.split('.')[0]) for fn in os.listdir('.') if fn.endswith('.png')))\n",
    "\n",
    "images = []\n",
    "for filenumber in filenumbers:\n",
    "    images.append(imageio.imread(str(filenumber)+'.png'))\n",
    "imageio.mimsave('joke5.3_f4e620b4-8cf1-485a-961b-3a0828415ec5_1577919787295_189.gif', images)"
   ]
  }
 ],
 "metadata": {
  "colab": {
   "provenance": []
  },
  "kernelspec": {
   "display_name": "Python 3 (ipykernel)",
   "language": "python",
   "name": "python3"
  },
  "language_info": {
   "codemirror_mode": {
    "name": "ipython",
    "version": 3
   },
   "file_extension": ".py",
   "mimetype": "text/x-python",
   "name": "python",
   "nbconvert_exporter": "python",
   "pygments_lexer": "ipython3",
   "version": "3.11.4"
  }
 },
 "nbformat": 4,
 "nbformat_minor": 1
}
